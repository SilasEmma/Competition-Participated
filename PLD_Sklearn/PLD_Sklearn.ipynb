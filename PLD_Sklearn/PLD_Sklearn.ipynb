{
 "cells": [
  {
   "cell_type": "code",
   "execution_count": 37,
   "id": "a792d70f",
   "metadata": {},
   "outputs": [],
   "source": [
    "# importing data manipulation tools\n",
    "import pandas as pd\n",
    "import numpy as np\n",
    "import pickle\n",
    "from collections import Counter\n",
    "\n",
    "# model metrics and performance lib\n",
    "from sklearn.metrics import classification_report, confusion_matrix\n",
    "from sklearn.metrics import accuracy_score, f1_score, plot_roc_curve\n",
    "\n",
    "# model preprocessing\n",
    "from sklearn.pipeline import Pipeline\n",
    "from sklearn.preprocessing import MinMaxScaler, LabelEncoder\n",
    "from sklearn.decomposition import PCA\n",
    "from sklearn.model_selection import GridSearchCV, StratifiedKFold, train_test_split\n",
    "\n",
    "# sklearn library for data imbalance\n",
    "from imblearn.over_sampling import SMOTE\n",
    "\n",
    "# model algorithsm\n",
    "from sklearn.linear_model import LogisticRegression\n",
    "from xgboost import XGBClassifier\n",
    "\n",
    "# data visualization\n",
    "from matplotlib import pyplot as plt\n",
    "from pandas_profiling import ProfileReport\n",
    "import seaborn as sns"
   ]
  },
  {
   "cell_type": "markdown",
   "id": "e14bee70",
   "metadata": {},
   "source": [
    "**Data Understanding**"
   ]
  },
  {
   "cell_type": "code",
   "execution_count": 38,
   "id": "4ebc5527",
   "metadata": {},
   "outputs": [],
   "source": [
    "# loading dataset\n",
    "df = pd.read_csv('train.csv')"
   ]
  },
  {
   "cell_type": "code",
   "execution_count": 39,
   "id": "a4e1e810",
   "metadata": {},
   "outputs": [
    {
     "data": {
      "text/html": [
       "<div>\n",
       "<style scoped>\n",
       "    .dataframe tbody tr th:only-of-type {\n",
       "        vertical-align: middle;\n",
       "    }\n",
       "\n",
       "    .dataframe tbody tr th {\n",
       "        vertical-align: top;\n",
       "    }\n",
       "\n",
       "    .dataframe thead th {\n",
       "        text-align: right;\n",
       "    }\n",
       "</style>\n",
       "<table border=\"1\" class=\"dataframe\">\n",
       "  <thead>\n",
       "    <tr style=\"text-align: right;\">\n",
       "      <th></th>\n",
       "      <th>ID</th>\n",
       "      <th>Loan Amount</th>\n",
       "      <th>Funded Amount</th>\n",
       "      <th>Funded Amount Investor</th>\n",
       "      <th>Term</th>\n",
       "      <th>Batch Enrolled</th>\n",
       "      <th>Interest Rate</th>\n",
       "      <th>Grade</th>\n",
       "      <th>Sub Grade</th>\n",
       "      <th>Home Ownership</th>\n",
       "      <th>...</th>\n",
       "      <th>Recoveries</th>\n",
       "      <th>Collection Recovery Fee</th>\n",
       "      <th>Collection 12 months Medical</th>\n",
       "      <th>Application Type</th>\n",
       "      <th>Last week Pay</th>\n",
       "      <th>Accounts Delinquent</th>\n",
       "      <th>Total Collection Amount</th>\n",
       "      <th>Total Current Balance</th>\n",
       "      <th>Total Revolving Credit Limit</th>\n",
       "      <th>Loan Status</th>\n",
       "    </tr>\n",
       "  </thead>\n",
       "  <tbody>\n",
       "    <tr>\n",
       "      <th>0</th>\n",
       "      <td>65087372</td>\n",
       "      <td>10000</td>\n",
       "      <td>32236</td>\n",
       "      <td>12329.36286</td>\n",
       "      <td>59</td>\n",
       "      <td>BAT2522922</td>\n",
       "      <td>11.135007</td>\n",
       "      <td>B</td>\n",
       "      <td>C4</td>\n",
       "      <td>MORTGAGE</td>\n",
       "      <td>...</td>\n",
       "      <td>2.498291</td>\n",
       "      <td>0.793724</td>\n",
       "      <td>0</td>\n",
       "      <td>INDIVIDUAL</td>\n",
       "      <td>49</td>\n",
       "      <td>0</td>\n",
       "      <td>31</td>\n",
       "      <td>311301</td>\n",
       "      <td>6619</td>\n",
       "      <td>0</td>\n",
       "    </tr>\n",
       "    <tr>\n",
       "      <th>1</th>\n",
       "      <td>1450153</td>\n",
       "      <td>3609</td>\n",
       "      <td>11940</td>\n",
       "      <td>12191.99692</td>\n",
       "      <td>59</td>\n",
       "      <td>BAT1586599</td>\n",
       "      <td>12.237563</td>\n",
       "      <td>C</td>\n",
       "      <td>D3</td>\n",
       "      <td>RENT</td>\n",
       "      <td>...</td>\n",
       "      <td>2.377215</td>\n",
       "      <td>0.974821</td>\n",
       "      <td>0</td>\n",
       "      <td>INDIVIDUAL</td>\n",
       "      <td>109</td>\n",
       "      <td>0</td>\n",
       "      <td>53</td>\n",
       "      <td>182610</td>\n",
       "      <td>20885</td>\n",
       "      <td>0</td>\n",
       "    </tr>\n",
       "    <tr>\n",
       "      <th>2</th>\n",
       "      <td>1969101</td>\n",
       "      <td>28276</td>\n",
       "      <td>9311</td>\n",
       "      <td>21603.22455</td>\n",
       "      <td>59</td>\n",
       "      <td>BAT2136391</td>\n",
       "      <td>12.545884</td>\n",
       "      <td>F</td>\n",
       "      <td>D4</td>\n",
       "      <td>MORTGAGE</td>\n",
       "      <td>...</td>\n",
       "      <td>4.316277</td>\n",
       "      <td>1.020075</td>\n",
       "      <td>0</td>\n",
       "      <td>INDIVIDUAL</td>\n",
       "      <td>66</td>\n",
       "      <td>0</td>\n",
       "      <td>34</td>\n",
       "      <td>89801</td>\n",
       "      <td>26155</td>\n",
       "      <td>0</td>\n",
       "    </tr>\n",
       "    <tr>\n",
       "      <th>3</th>\n",
       "      <td>6651430</td>\n",
       "      <td>11170</td>\n",
       "      <td>6954</td>\n",
       "      <td>17877.15585</td>\n",
       "      <td>59</td>\n",
       "      <td>BAT2428731</td>\n",
       "      <td>16.731201</td>\n",
       "      <td>C</td>\n",
       "      <td>C3</td>\n",
       "      <td>MORTGAGE</td>\n",
       "      <td>...</td>\n",
       "      <td>0.107020</td>\n",
       "      <td>0.749971</td>\n",
       "      <td>0</td>\n",
       "      <td>INDIVIDUAL</td>\n",
       "      <td>39</td>\n",
       "      <td>0</td>\n",
       "      <td>40</td>\n",
       "      <td>9189</td>\n",
       "      <td>60214</td>\n",
       "      <td>0</td>\n",
       "    </tr>\n",
       "    <tr>\n",
       "      <th>4</th>\n",
       "      <td>14354669</td>\n",
       "      <td>16890</td>\n",
       "      <td>13226</td>\n",
       "      <td>13539.92667</td>\n",
       "      <td>59</td>\n",
       "      <td>BAT5341619</td>\n",
       "      <td>15.008300</td>\n",
       "      <td>C</td>\n",
       "      <td>D4</td>\n",
       "      <td>MORTGAGE</td>\n",
       "      <td>...</td>\n",
       "      <td>1294.818751</td>\n",
       "      <td>0.368953</td>\n",
       "      <td>0</td>\n",
       "      <td>INDIVIDUAL</td>\n",
       "      <td>18</td>\n",
       "      <td>0</td>\n",
       "      <td>430</td>\n",
       "      <td>126029</td>\n",
       "      <td>22579</td>\n",
       "      <td>0</td>\n",
       "    </tr>\n",
       "  </tbody>\n",
       "</table>\n",
       "<p>5 rows × 35 columns</p>\n",
       "</div>"
      ],
      "text/plain": [
       "         ID  Loan Amount  Funded Amount  Funded Amount Investor  Term  \\\n",
       "0  65087372        10000          32236             12329.36286    59   \n",
       "1   1450153         3609          11940             12191.99692    59   \n",
       "2   1969101        28276           9311             21603.22455    59   \n",
       "3   6651430        11170           6954             17877.15585    59   \n",
       "4  14354669        16890          13226             13539.92667    59   \n",
       "\n",
       "  Batch Enrolled  Interest Rate Grade Sub Grade Home Ownership  ...  \\\n",
       "0     BAT2522922      11.135007     B        C4       MORTGAGE  ...   \n",
       "1     BAT1586599      12.237563     C        D3           RENT  ...   \n",
       "2     BAT2136391      12.545884     F        D4       MORTGAGE  ...   \n",
       "3     BAT2428731      16.731201     C        C3       MORTGAGE  ...   \n",
       "4     BAT5341619      15.008300     C        D4       MORTGAGE  ...   \n",
       "\n",
       "    Recoveries Collection Recovery Fee Collection 12 months Medical  \\\n",
       "0     2.498291                0.793724                            0   \n",
       "1     2.377215                0.974821                            0   \n",
       "2     4.316277                1.020075                            0   \n",
       "3     0.107020                0.749971                            0   \n",
       "4  1294.818751                0.368953                            0   \n",
       "\n",
       "  Application Type  Last week Pay  Accounts Delinquent  \\\n",
       "0       INDIVIDUAL             49                    0   \n",
       "1       INDIVIDUAL            109                    0   \n",
       "2       INDIVIDUAL             66                    0   \n",
       "3       INDIVIDUAL             39                    0   \n",
       "4       INDIVIDUAL             18                    0   \n",
       "\n",
       "   Total Collection Amount  Total Current Balance  \\\n",
       "0                       31                 311301   \n",
       "1                       53                 182610   \n",
       "2                       34                  89801   \n",
       "3                       40                   9189   \n",
       "4                      430                 126029   \n",
       "\n",
       "   Total Revolving Credit Limit  Loan Status  \n",
       "0                          6619            0  \n",
       "1                         20885            0  \n",
       "2                         26155            0  \n",
       "3                         60214            0  \n",
       "4                         22579            0  \n",
       "\n",
       "[5 rows x 35 columns]"
      ]
     },
     "execution_count": 39,
     "metadata": {},
     "output_type": "execute_result"
    }
   ],
   "source": [
    "# Return the first `n` rows.\n",
    "df.head()"
   ]
  },
  {
   "cell_type": "code",
   "execution_count": 40,
   "id": "5ac32431",
   "metadata": {},
   "outputs": [
    {
     "data": {
      "text/plain": [
       "(67463, 35)"
      ]
     },
     "execution_count": 40,
     "metadata": {},
     "output_type": "execute_result"
    }
   ],
   "source": [
    "# Return a tuple representing the dimensionality of the DataFrame.\n",
    "df.shape"
   ]
  },
  {
   "cell_type": "code",
   "execution_count": 41,
   "id": "7a7a7305",
   "metadata": {},
   "outputs": [
    {
     "name": "stdout",
     "output_type": "stream",
     "text": [
      "<class 'pandas.core.frame.DataFrame'>\n",
      "RangeIndex: 67463 entries, 0 to 67462\n",
      "Data columns (total 35 columns):\n",
      " #   Column                        Non-Null Count  Dtype  \n",
      "---  ------                        --------------  -----  \n",
      " 0   ID                            67463 non-null  int64  \n",
      " 1   Loan Amount                   67463 non-null  int64  \n",
      " 2   Funded Amount                 67463 non-null  int64  \n",
      " 3   Funded Amount Investor        67463 non-null  float64\n",
      " 4   Term                          67463 non-null  int64  \n",
      " 5   Batch Enrolled                67463 non-null  object \n",
      " 6   Interest Rate                 67463 non-null  float64\n",
      " 7   Grade                         67463 non-null  object \n",
      " 8   Sub Grade                     67463 non-null  object \n",
      " 9   Home Ownership                67463 non-null  object \n",
      " 10  Employment Duration           67463 non-null  float64\n",
      " 11  Verification Status           67463 non-null  object \n",
      " 12  Payment Plan                  67463 non-null  object \n",
      " 13  Loan Title                    67463 non-null  object \n",
      " 14  Debit to Income               67463 non-null  float64\n",
      " 15  Delinquency - two years       67463 non-null  int64  \n",
      " 16  Inquires - six months         67463 non-null  int64  \n",
      " 17  Open Account                  67463 non-null  int64  \n",
      " 18  Public Record                 67463 non-null  int64  \n",
      " 19  Revolving Balance             67463 non-null  int64  \n",
      " 20  Revolving Utilities           67463 non-null  float64\n",
      " 21  Total Accounts                67463 non-null  int64  \n",
      " 22  Initial List Status           67463 non-null  object \n",
      " 23  Total Received Interest       67463 non-null  float64\n",
      " 24  Total Received Late Fee       67463 non-null  float64\n",
      " 25  Recoveries                    67463 non-null  float64\n",
      " 26  Collection Recovery Fee       67463 non-null  float64\n",
      " 27  Collection 12 months Medical  67463 non-null  int64  \n",
      " 28  Application Type              67463 non-null  object \n",
      " 29  Last week Pay                 67463 non-null  int64  \n",
      " 30  Accounts Delinquent           67463 non-null  int64  \n",
      " 31  Total Collection Amount       67463 non-null  int64  \n",
      " 32  Total Current Balance         67463 non-null  int64  \n",
      " 33  Total Revolving Credit Limit  67463 non-null  int64  \n",
      " 34  Loan Status                   67463 non-null  int64  \n",
      "dtypes: float64(9), int64(17), object(9)\n",
      "memory usage: 18.0+ MB\n"
     ]
    }
   ],
   "source": [
    "# Print a concise summary of a DataFrame.\n",
    "df.info()"
   ]
  },
  {
   "cell_type": "code",
   "execution_count": 42,
   "id": "cbe49d33",
   "metadata": {},
   "outputs": [
    {
     "data": {
      "text/plain": [
       "ID                              0\n",
       "Loan Amount                     0\n",
       "Funded Amount                   0\n",
       "Funded Amount Investor          0\n",
       "Term                            0\n",
       "Batch Enrolled                  0\n",
       "Interest Rate                   0\n",
       "Grade                           0\n",
       "Sub Grade                       0\n",
       "Home Ownership                  0\n",
       "Employment Duration             0\n",
       "Verification Status             0\n",
       "Payment Plan                    0\n",
       "Loan Title                      0\n",
       "Debit to Income                 0\n",
       "Delinquency - two years         0\n",
       "Inquires - six months           0\n",
       "Open Account                    0\n",
       "Public Record                   0\n",
       "Revolving Balance               0\n",
       "Revolving Utilities             0\n",
       "Total Accounts                  0\n",
       "Initial List Status             0\n",
       "Total Received Interest         0\n",
       "Total Received Late Fee         0\n",
       "Recoveries                      0\n",
       "Collection Recovery Fee         0\n",
       "Collection 12 months Medical    0\n",
       "Application Type                0\n",
       "Last week Pay                   0\n",
       "Accounts Delinquent             0\n",
       "Total Collection Amount         0\n",
       "Total Current Balance           0\n",
       "Total Revolving Credit Limit    0\n",
       "Loan Status                     0\n",
       "dtype: int64"
      ]
     },
     "execution_count": 42,
     "metadata": {},
     "output_type": "execute_result"
    }
   ],
   "source": [
    "# returns number of missing value\n",
    "df.isnull().sum()"
   ]
  },
  {
   "cell_type": "code",
   "execution_count": 43,
   "id": "cf53cc9f",
   "metadata": {},
   "outputs": [
    {
     "data": {
      "text/plain": [
       "0    61222\n",
       "1     6241\n",
       "Name: Loan Status, dtype: int64"
      ]
     },
     "execution_count": 43,
     "metadata": {},
     "output_type": "execute_result"
    }
   ],
   "source": [
    "# Return a Series containing counts of unique rows in the DataFrame.\n",
    "df['Loan Status'].value_counts()\n",
    "\n",
    "# Datasets is highly imbalance"
   ]
  },
  {
   "cell_type": "code",
   "execution_count": 44,
   "id": "8355a459",
   "metadata": {},
   "outputs": [
    {
     "data": {
      "text/plain": [
       "Source Verified    33036\n",
       "Verified           18078\n",
       "Not Verified       16349\n",
       "Name: Verification Status, dtype: int64"
      ]
     },
     "execution_count": 44,
     "metadata": {},
     "output_type": "execute_result"
    }
   ],
   "source": [
    "# Return a Series containing counts of unique rows in the DataFrame.\n",
    "df['Verification Status'].value_counts()"
   ]
  },
  {
   "cell_type": "code",
   "execution_count": 45,
   "id": "d303d0d1",
   "metadata": {},
   "outputs": [
    {
     "data": {
      "text/plain": [
       "MORTGAGE    36351\n",
       "RENT        24150\n",
       "OWN          6962\n",
       "Name: Home Ownership, dtype: int64"
      ]
     },
     "execution_count": 45,
     "metadata": {},
     "output_type": "execute_result"
    }
   ],
   "source": [
    "# Return a Series containing counts of unique rows in the DataFrame.\n",
    "df['Home Ownership'].value_counts()"
   ]
  },
  {
   "cell_type": "markdown",
   "id": "b4ad53bb",
   "metadata": {},
   "source": [
    "**Data Analysis**"
   ]
  },
  {
   "cell_type": "code",
   "execution_count": 46,
   "id": "6f4f3e1a",
   "metadata": {},
   "outputs": [
    {
     "data": {
      "text/plain": [
       "<AxesSubplot:title={'center':\"Customer's Loan Status.\"}, xlabel='Loan Status', ylabel='count'>"
      ]
     },
     "execution_count": 46,
     "metadata": {},
     "output_type": "execute_result"
    },
    {
     "data": {
      "image/png": "[encoded data removed]",
      "text/plain": [
       "<Figure size 432x288 with 1 Axes>"
      ]
     },
     "metadata": {
      "needs_background": "light"
     },
     "output_type": "display_data"
    }
   ],
   "source": [
    "plt.title(\"Customer's Loan Status.\")\n",
    "sns.countplot(data=df, x='Loan Status')"
   ]
  },
  {
   "cell_type": "code",
   "execution_count": 47,
   "id": "9671d104",
   "metadata": {},
   "outputs": [
    {
     "data": {
      "text/plain": [
       "<AxesSubplot:title={'center':\"Customer's Home Ownership by Loan Status.\"}, xlabel='Home Ownership', ylabel='count'>"
      ]
     },
     "execution_count": 47,
     "metadata": {},
     "output_type": "execute_result"
    },
    {
     "data": {
      "image/png": "[encoded data removed]",
      "text/plain": [
       "<Figure size 1440x360 with 1 Axes>"
      ]
     },
     "metadata": {
      "needs_background": "light"
     },
     "output_type": "display_data"
    }
   ],
   "source": [
    "# plotting region\n",
    "\n",
    "plt.figure(figsize=(20,5))\n",
    "plt.title(\"Customer's Home Ownership by Loan Status.\")\n",
    "sns.countplot(data=df, x='Home Ownership', hue='Loan Status')"
   ]
  },
  {
   "cell_type": "code",
   "execution_count": 48,
   "id": "b752b294",
   "metadata": {
    "scrolled": true
   },
   "outputs": [
    {
     "data": {
      "text/plain": [
       "<AxesSubplot:title={'center':'Customers Verify Status by Loan Status.'}, xlabel='Verification Status', ylabel='count'>"
      ]
     },
     "execution_count": 48,
     "metadata": {},
     "output_type": "execute_result"
    },
    {
     "data": {
      "image/png": "[encoded data removed]",
      "text/plain": [
       "<Figure size 1440x360 with 1 Axes>"
      ]
     },
     "metadata": {
      "needs_background": "light"
     },
     "output_type": "display_data"
    }
   ],
   "source": [
    "plt.figure(figsize=(20,5))\n",
    "plt.title(\"Customers Verify Status by Loan Status.\")\n",
    "sns.countplot(data=df, x='Verification Status', hue='Loan Status')"
   ]
  },
  {
   "cell_type": "code",
   "execution_count": 49,
   "id": "5470cb88",
   "metadata": {},
   "outputs": [
    {
     "data": {
      "text/plain": [
       "<AxesSubplot:title={'center':\"Customer's Home OwnerShip.\"}, xlabel='Home Ownership', ylabel='count'>"
      ]
     },
     "execution_count": 49,
     "metadata": {},
     "output_type": "execute_result"
    },
    {
     "data": {
      "image/png": "[encoded data removed]",
      "text/plain": [
       "<Figure size 432x288 with 1 Axes>"
      ]
     },
     "metadata": {
      "needs_background": "light"
     },
     "output_type": "display_data"
    }
   ],
   "source": [
    "plt.title(\"Customer's Home OwnerShip.\")\n",
    "sns.countplot(data=df, x='Home Ownership')"
   ]
  },
  {
   "cell_type": "code",
   "execution_count": 50,
   "id": "bc6ca590",
   "metadata": {},
   "outputs": [
    {
     "data": {
      "text/plain": [
       "<AxesSubplot:title={'center':\"Customer's Delinquency in last two years.\"}, xlabel='Delinquency - two years', ylabel='count'>"
      ]
     },
     "execution_count": 50,
     "metadata": {},
     "output_type": "execute_result"
    },
    {
     "data": {
      "image/png": "[encoded data removed]",
      "text/plain": [
       "<Figure size 432x288 with 1 Axes>"
      ]
     },
     "metadata": {
      "needs_background": "light"
     },
     "output_type": "display_data"
    }
   ],
   "source": [
    "plt.title(\"Customer's Delinquency in last two years.\")\n",
    "sns.countplot(data=df, x='Delinquency - two years')"
   ]
  },
  {
   "cell_type": "code",
   "execution_count": 51,
   "id": "ddc11152",
   "metadata": {},
   "outputs": [],
   "source": [
    "# Generate a profile report from a Dataset\n",
    "#profile = ProfileReport(df=df, explorative=True)\n",
    "#profile.to_widgets()"
   ]
  },
  {
   "cell_type": "markdown",
   "id": "a5ed458b",
   "metadata": {},
   "source": [
    "**Data Cleaning and Preprocessing**"
   ]
  },
  {
   "cell_type": "code",
   "execution_count": 52,
   "id": "e9b95906",
   "metadata": {},
   "outputs": [],
   "source": [
    "# Drop specified labels from rows or columns.\n",
    "df = df.drop(['ID'], axis=1)"
   ]
  },
  {
   "cell_type": "code",
   "execution_count": 53,
   "id": "616772a7",
   "metadata": {},
   "outputs": [],
   "source": [
    "#num_col = df.select_dtypes(include=['float64', 'int64'])\n",
    "#cat_col = df.select_dtypes(\"O\")"
   ]
  },
  {
   "cell_type": "code",
   "execution_count": 54,
   "id": "ac927b93",
   "metadata": {},
   "outputs": [],
   "source": [
    "#scale = LabelEncoder().fit_transform(cat_col)\n",
    "#nw_scale = pd.DataFrame(scale, columns=['Batch Enrolled', 'Grade', 'Sub Grade', 'Homer Ownership', 'Verification Status',\n",
    " #                                       'Payment Plan', 'Loan Title','Initial List Status', 'Application Type'])\n",
    "\n",
    "#new_df = pd.concat([num_col, nw_scale], axis=1)\n",
    "#new_df.head()"
   ]
  },
  {
   "cell_type": "code",
   "execution_count": 55,
   "id": "e6a12df3",
   "metadata": {},
   "outputs": [],
   "source": [
    "# Encode target labels\n",
    "df['Batch Enrolled'] = LabelEncoder().fit_transform(df['Batch Enrolled'])\n",
    "df['Grade'] = LabelEncoder().fit_transform(df['Grade'])\n",
    "df['Sub Grade'] = LabelEncoder().fit_transform(df['Sub Grade'])\n",
    "df['Home Ownership'] = LabelEncoder().fit_transform(df['Home Ownership'])\n",
    "df['Verification Status'] = LabelEncoder().fit_transform(df['Verification Status'])\n",
    "df['Payment Plan'] = LabelEncoder().fit_transform(df['Payment Plan'])\n",
    "df['Loan Title'] = LabelEncoder().fit_transform(df['Loan Title'])\n",
    "df['Initial List Status'] = LabelEncoder().fit_transform(df['Initial List Status'])\n",
    "df['Application Type'] = LabelEncoder().fit_transform(df['Application Type'])"
   ]
  },
  {
   "cell_type": "code",
   "execution_count": 56,
   "id": "55d92d76",
   "metadata": {},
   "outputs": [
    {
     "data": {
      "text/html": [
       "<div>\n",
       "<style scoped>\n",
       "    .dataframe tbody tr th:only-of-type {\n",
       "        vertical-align: middle;\n",
       "    }\n",
       "\n",
       "    .dataframe tbody tr th {\n",
       "        vertical-align: top;\n",
       "    }\n",
       "\n",
       "    .dataframe thead th {\n",
       "        text-align: right;\n",
       "    }\n",
       "</style>\n",
       "<table border=\"1\" class=\"dataframe\">\n",
       "  <thead>\n",
       "    <tr style=\"text-align: right;\">\n",
       "      <th></th>\n",
       "      <th>Loan Amount</th>\n",
       "      <th>Funded Amount</th>\n",
       "      <th>Funded Amount Investor</th>\n",
       "      <th>Term</th>\n",
       "      <th>Batch Enrolled</th>\n",
       "      <th>Interest Rate</th>\n",
       "      <th>Grade</th>\n",
       "      <th>Sub Grade</th>\n",
       "      <th>Home Ownership</th>\n",
       "      <th>Employment Duration</th>\n",
       "      <th>...</th>\n",
       "      <th>Recoveries</th>\n",
       "      <th>Collection Recovery Fee</th>\n",
       "      <th>Collection 12 months Medical</th>\n",
       "      <th>Application Type</th>\n",
       "      <th>Last week Pay</th>\n",
       "      <th>Accounts Delinquent</th>\n",
       "      <th>Total Collection Amount</th>\n",
       "      <th>Total Current Balance</th>\n",
       "      <th>Total Revolving Credit Limit</th>\n",
       "      <th>Loan Status</th>\n",
       "    </tr>\n",
       "  </thead>\n",
       "  <tbody>\n",
       "    <tr>\n",
       "      <th>0</th>\n",
       "      <td>10000</td>\n",
       "      <td>32236</td>\n",
       "      <td>12329.36286</td>\n",
       "      <td>59</td>\n",
       "      <td>16</td>\n",
       "      <td>11.135007</td>\n",
       "      <td>1</td>\n",
       "      <td>13</td>\n",
       "      <td>0</td>\n",
       "      <td>176346.62670</td>\n",
       "      <td>...</td>\n",
       "      <td>2.498291</td>\n",
       "      <td>0.793724</td>\n",
       "      <td>0</td>\n",
       "      <td>0</td>\n",
       "      <td>49</td>\n",
       "      <td>0</td>\n",
       "      <td>31</td>\n",
       "      <td>311301</td>\n",
       "      <td>6619</td>\n",
       "      <td>0</td>\n",
       "    </tr>\n",
       "    <tr>\n",
       "      <th>1</th>\n",
       "      <td>3609</td>\n",
       "      <td>11940</td>\n",
       "      <td>12191.99692</td>\n",
       "      <td>59</td>\n",
       "      <td>4</td>\n",
       "      <td>12.237563</td>\n",
       "      <td>2</td>\n",
       "      <td>17</td>\n",
       "      <td>2</td>\n",
       "      <td>39833.92100</td>\n",
       "      <td>...</td>\n",
       "      <td>2.377215</td>\n",
       "      <td>0.974821</td>\n",
       "      <td>0</td>\n",
       "      <td>0</td>\n",
       "      <td>109</td>\n",
       "      <td>0</td>\n",
       "      <td>53</td>\n",
       "      <td>182610</td>\n",
       "      <td>20885</td>\n",
       "      <td>0</td>\n",
       "    </tr>\n",
       "    <tr>\n",
       "      <th>2</th>\n",
       "      <td>28276</td>\n",
       "      <td>9311</td>\n",
       "      <td>21603.22455</td>\n",
       "      <td>59</td>\n",
       "      <td>11</td>\n",
       "      <td>12.545884</td>\n",
       "      <td>5</td>\n",
       "      <td>18</td>\n",
       "      <td>0</td>\n",
       "      <td>91506.69105</td>\n",
       "      <td>...</td>\n",
       "      <td>4.316277</td>\n",
       "      <td>1.020075</td>\n",
       "      <td>0</td>\n",
       "      <td>0</td>\n",
       "      <td>66</td>\n",
       "      <td>0</td>\n",
       "      <td>34</td>\n",
       "      <td>89801</td>\n",
       "      <td>26155</td>\n",
       "      <td>0</td>\n",
       "    </tr>\n",
       "    <tr>\n",
       "      <th>3</th>\n",
       "      <td>11170</td>\n",
       "      <td>6954</td>\n",
       "      <td>17877.15585</td>\n",
       "      <td>59</td>\n",
       "      <td>15</td>\n",
       "      <td>16.731201</td>\n",
       "      <td>2</td>\n",
       "      <td>12</td>\n",
       "      <td>0</td>\n",
       "      <td>108286.57590</td>\n",
       "      <td>...</td>\n",
       "      <td>0.107020</td>\n",
       "      <td>0.749971</td>\n",
       "      <td>0</td>\n",
       "      <td>0</td>\n",
       "      <td>39</td>\n",
       "      <td>0</td>\n",
       "      <td>40</td>\n",
       "      <td>9189</td>\n",
       "      <td>60214</td>\n",
       "      <td>0</td>\n",
       "    </tr>\n",
       "    <tr>\n",
       "      <th>4</th>\n",
       "      <td>16890</td>\n",
       "      <td>13226</td>\n",
       "      <td>13539.92667</td>\n",
       "      <td>59</td>\n",
       "      <td>32</td>\n",
       "      <td>15.008300</td>\n",
       "      <td>2</td>\n",
       "      <td>18</td>\n",
       "      <td>0</td>\n",
       "      <td>44234.82545</td>\n",
       "      <td>...</td>\n",
       "      <td>1294.818751</td>\n",
       "      <td>0.368953</td>\n",
       "      <td>0</td>\n",
       "      <td>0</td>\n",
       "      <td>18</td>\n",
       "      <td>0</td>\n",
       "      <td>430</td>\n",
       "      <td>126029</td>\n",
       "      <td>22579</td>\n",
       "      <td>0</td>\n",
       "    </tr>\n",
       "  </tbody>\n",
       "</table>\n",
       "<p>5 rows × 34 columns</p>\n",
       "</div>"
      ],
      "text/plain": [
       "   Loan Amount  Funded Amount  Funded Amount Investor  Term  Batch Enrolled  \\\n",
       "0        10000          32236             12329.36286    59              16   \n",
       "1         3609          11940             12191.99692    59               4   \n",
       "2        28276           9311             21603.22455    59              11   \n",
       "3        11170           6954             17877.15585    59              15   \n",
       "4        16890          13226             13539.92667    59              32   \n",
       "\n",
       "   Interest Rate  Grade  Sub Grade  Home Ownership  Employment Duration  ...  \\\n",
       "0      11.135007      1         13               0         176346.62670  ...   \n",
       "1      12.237563      2         17               2          39833.92100  ...   \n",
       "2      12.545884      5         18               0          91506.69105  ...   \n",
       "3      16.731201      2         12               0         108286.57590  ...   \n",
       "4      15.008300      2         18               0          44234.82545  ...   \n",
       "\n",
       "    Recoveries  Collection Recovery Fee  Collection 12 months Medical  \\\n",
       "0     2.498291                 0.793724                             0   \n",
       "1     2.377215                 0.974821                             0   \n",
       "2     4.316277                 1.020075                             0   \n",
       "3     0.107020                 0.749971                             0   \n",
       "4  1294.818751                 0.368953                             0   \n",
       "\n",
       "   Application Type  Last week Pay  Accounts Delinquent  \\\n",
       "0                 0             49                    0   \n",
       "1                 0            109                    0   \n",
       "2                 0             66                    0   \n",
       "3                 0             39                    0   \n",
       "4                 0             18                    0   \n",
       "\n",
       "   Total Collection Amount  Total Current Balance  \\\n",
       "0                       31                 311301   \n",
       "1                       53                 182610   \n",
       "2                       34                  89801   \n",
       "3                       40                   9189   \n",
       "4                      430                 126029   \n",
       "\n",
       "   Total Revolving Credit Limit  Loan Status  \n",
       "0                          6619            0  \n",
       "1                         20885            0  \n",
       "2                         26155            0  \n",
       "3                         60214            0  \n",
       "4                         22579            0  \n",
       "\n",
       "[5 rows x 34 columns]"
      ]
     },
     "execution_count": 56,
     "metadata": {},
     "output_type": "execute_result"
    }
   ],
   "source": [
    "df.head()"
   ]
  },
  {
   "cell_type": "markdown",
   "id": "10fdf3a2",
   "metadata": {},
   "source": [
    "**model development**"
   ]
  },
  {
   "cell_type": "code",
   "execution_count": 57,
   "id": "1944c636",
   "metadata": {},
   "outputs": [],
   "source": [
    "# assign feature i.e independent variable to X and target variable to y i.e dependent\n",
    "X = df.drop(['Loan Status'], axis=1)\n",
    "y = df['Loan Status']"
   ]
  },
  {
   "cell_type": "code",
   "execution_count": 58,
   "id": "492c1f9e",
   "metadata": {},
   "outputs": [],
   "source": [
    "# Split arrays or matrices into random train and test subsets\n",
    "x_train, x_test, y_train, y_test = train_test_split(X, y, stratify=y, test_size=0.30, random_state=41)"
   ]
  },
  {
   "cell_type": "code",
   "execution_count": 59,
   "id": "ba682f2c",
   "metadata": {},
   "outputs": [
    {
     "name": "stdout",
     "output_type": "stream",
     "text": [
      "0    0.907483\n",
      "1    0.092517\n",
      "Name: Loan Status, dtype: float64\n",
      "0    0.907505\n",
      "1    0.092495\n",
      "Name: Loan Status, dtype: float64\n"
     ]
    }
   ],
   "source": [
    "print(y_train.value_counts()/len(y_train))\n",
    "print(y_test.value_counts()/len(y_test))"
   ]
  },
  {
   "cell_type": "code",
   "execution_count": 60,
   "id": "cf0944d6",
   "metadata": {},
   "outputs": [],
   "source": [
    "# Scale features using statistics that are robust to outliers.\n",
    "mn = MinMaxScaler()\n",
    "# Fit to data, then transform it train data\n",
    "#X = mn.fit_transform(X)"
   ]
  },
  {
   "cell_type": "code",
   "execution_count": 61,
   "id": "2882395d",
   "metadata": {},
   "outputs": [],
   "source": [
    "# Fit to data, then transform it train data\n",
    "x_train = mn.fit_transform(x_train)\n",
    "# Fit to data, then transform it test data\n",
    "x_test = mn.fit_transform(x_test)"
   ]
  },
  {
   "cell_type": "markdown",
   "id": "904f9fe4",
   "metadata": {},
   "source": [
    "**Handling Data Imbalance Using SMOTE Techniques**"
   ]
  },
  {
   "cell_type": "code",
   "execution_count": 62,
   "id": "bead8483",
   "metadata": {},
   "outputs": [
    {
     "name": "stdout",
     "output_type": "stream",
     "text": [
      "Original Datasets Shape:  Counter({0: 42855, 1: 4369})\n",
      "Resample Datasets Shape:  Counter({0: 42855, 1: 42855})\n"
     ]
    }
   ],
   "source": [
    "# Handling data imbalance using sklearn in-built library SMOTE.\n",
    "\n",
    "# Class to perform over-sampling using SMOTE..\n",
    "nms = SMOTE()\n",
    "# Resample the dataset.\n",
    "x_train_sm, y_train_sm = nms.fit_resample(x_train, y_train)\n",
    "\n",
    "print(\"Original Datasets Shape: \", Counter(y_train))\n",
    "print(\"Resample Datasets Shape: \", Counter(y_train_sm))"
   ]
  },
  {
   "cell_type": "code",
   "execution_count": 63,
   "id": "a106c301",
   "metadata": {
    "scrolled": false
   },
   "outputs": [
    {
     "name": "stdout",
     "output_type": "stream",
     "text": [
      "(85710, 33)\n",
      "(20239, 33)\n",
      "(85710,)\n",
      "(20239,)\n"
     ]
    }
   ],
   "source": [
    "print(x_train_sm.shape)\n",
    "print(x_test.shape)\n",
    "print(y_train_sm.shape)\n",
    "print(y_test.shape)"
   ]
  },
  {
   "cell_type": "markdown",
   "id": "0db8d144",
   "metadata": {},
   "source": [
    "**Model Development Using Simple Regression Algorithm**"
   ]
  },
  {
   "cell_type": "code",
   "execution_count": 64,
   "id": "0616716c",
   "metadata": {},
   "outputs": [
    {
     "data": {
      "text/plain": [
       "Pipeline(steps=[('select', PCA(n_components='mle', svd_solver='full')),\n",
       "                ('lg',\n",
       "                 LogisticRegression(class_weight='balanced', multi_class='ovr',\n",
       "                                    tol=1e-10))])"
      ]
     },
     "execution_count": 64,
     "metadata": {},
     "output_type": "execute_result"
    }
   ],
   "source": [
    "# Pipeline of transforms with a final estimator.\n",
    "pipe = Pipeline([\n",
    "    ('select', PCA(n_components='mle', svd_solver='full')),\n",
    "    # Logistic Regression (aka logit, MaxEnt) classifier.\n",
    "    ('lg', LogisticRegression(dual=False, class_weight='balanced', tol=1e-10, solver='lbfgs', multi_class='ovr'))\n",
    "])\n",
    "# Fit all the transformers one after the other and transform the data.\n",
    "pipe.fit(x_train_sm, y_train_sm)"
   ]
  },
  {
   "cell_type": "code",
   "execution_count": 65,
   "id": "90dd321e",
   "metadata": {
    "scrolled": false
   },
   "outputs": [
    {
     "data": {
      "text/plain": [
       "GridSearchCV(cv=StratifiedKFold(n_splits=6, random_state=2014, shuffle=True),\n",
       "             estimator=Pipeline(steps=[('select',\n",
       "                                        PCA(n_components='mle',\n",
       "                                            svd_solver='full')),\n",
       "                                       ('lg',\n",
       "                                        LogisticRegression(class_weight='balanced',\n",
       "                                                           multi_class='ovr',\n",
       "                                                           tol=1e-10))]),\n",
       "             param_grid={'lg__max_iter': [10000, 30000, 25000]},\n",
       "             scoring='accuracy', verbose=False)"
      ]
     },
     "execution_count": 65,
     "metadata": {},
     "output_type": "execute_result"
    }
   ],
   "source": [
    "# Stratified K-Folds cross-validator\n",
    "cv = StratifiedKFold(n_splits=6, shuffle=True, random_state=2014)\n",
    "\n",
    "# specifying parameter for optimal search\n",
    "parameter = {\n",
    "    'lg__max_iter' : [10000, 30000, 25000]\n",
    "}\n",
    "\n",
    "# Exhaustive search over specified parameter values for an estimator.\n",
    "grid_search = GridSearchCV(estimator=pipe, param_grid=parameter, cv=cv, scoring='accuracy', verbose=False)\n",
    "# Run fit with all sets of parameters.\n",
    "grid_search.fit(x_train_sm, y_train_sm)"
   ]
  },
  {
   "cell_type": "code",
   "execution_count": 66,
   "id": "dd195972",
   "metadata": {},
   "outputs": [],
   "source": [
    "# Call predict on the estimator with the best found parameters.\n",
    "ypred = grid_search.predict(x_test)"
   ]
  },
  {
   "cell_type": "code",
   "execution_count": 67,
   "id": "f28681cf",
   "metadata": {},
   "outputs": [
    {
     "name": "stdout",
     "output_type": "stream",
     "text": [
      "F1 Score: 0.157\n",
      "Accuracy Score: 0.533\n"
     ]
    }
   ],
   "source": [
    "# Compute the F1 score, also known as balanced F-score or F-measure.\n",
    "print(\"F1 Score: {:.3f}\".format(f1_score(y_test, ypred)))\n",
    "# Accuracy classification score\n",
    "print(\"Accuracy Score: {:.3f}\".format(accuracy_score(y_test, ypred)))"
   ]
  },
  {
   "cell_type": "code",
   "execution_count": 68,
   "id": "0416e61d",
   "metadata": {},
   "outputs": [
    {
     "name": "stdout",
     "output_type": "stream",
     "text": [
      "              precision    recall  f1-score   support\n",
      "\n",
      "           0       0.91      0.54      0.68     18367\n",
      "           1       0.09      0.47      0.16      1872\n",
      "\n",
      "    accuracy                           0.53     20239\n",
      "   macro avg       0.50      0.50      0.42     20239\n",
      "weighted avg       0.83      0.53      0.63     20239\n",
      "\n"
     ]
    }
   ],
   "source": [
    "# Build a text report showing the main classification metrics.\n",
    "print(classification_report(y_test, ypred))"
   ]
  },
  {
   "cell_type": "code",
   "execution_count": 69,
   "id": "cdba00aa",
   "metadata": {},
   "outputs": [
    {
     "data": {
      "text/plain": [
       "array([[9918, 8449],\n",
       "       [ 993,  879]], dtype=int64)"
      ]
     },
     "execution_count": 69,
     "metadata": {},
     "output_type": "execute_result"
    }
   ],
   "source": [
    "# Compute confusion matrix to evaluate the accuracy of a classification.\n",
    "confusion_matrix(y_test, ypred)"
   ]
  },
  {
   "cell_type": "code",
   "execution_count": 70,
   "id": "5e018eed",
   "metadata": {},
   "outputs": [
    {
     "name": "stderr",
     "output_type": "stream",
     "text": [
      "C:\\Users\\Silas\\anaconda3\\lib\\site-packages\\sklearn\\utils\\deprecation.py:87: FutureWarning: Function plot_roc_curve is deprecated; Function `plot_roc_curve` is deprecated in 1.0 and will be removed in 1.2. Use one of the class methods: RocCurveDisplay.from_predictions or RocCurveDisplay.from_estimator.\n",
      "  warnings.warn(msg, category=FutureWarning)\n"
     ]
    },
    {
     "data": {
      "text/plain": [
       "<sklearn.metrics._plot.roc_curve.RocCurveDisplay at 0x22718a4fdf0>"
      ]
     },
     "execution_count": 70,
     "metadata": {},
     "output_type": "execute_result"
    },
    {
     "data": {
      "image/png": "[encoded data removed]",
      "text/plain": [
       "<Figure size 432x288 with 1 Axes>"
      ]
     },
     "metadata": {
      "needs_background": "light"
     },
     "output_type": "display_data"
    }
   ],
   "source": [
    "# Plot Receiver operating characteristic (ROC) curve.\n",
    "plot_roc_curve(grid_search, x_train_sm, y_train_sm)"
   ]
  },
  {
   "cell_type": "markdown",
   "id": "9d1f4b1d",
   "metadata": {},
   "source": [
    "**Model Development using Gradient Boosting**"
   ]
  },
  {
   "cell_type": "code",
   "execution_count": 72,
   "id": "71db191b",
   "metadata": {},
   "outputs": [
    {
     "name": "stdout",
     "output_type": "stream",
     "text": [
      "[20:55:23] WARNING: C:/Users/Administrator/workspace/xgboost-win64_release_1.4.0/src/learner.cc:1095: Starting in XGBoost 1.3.0, the default evaluation metric used with the objective 'binary:logistic' was changed from 'error' to 'logloss'. Explicitly set eval_metric if you'd like to restore the old behavior.\n"
     ]
    },
    {
     "data": {
      "text/plain": [
       "Pipeline(steps=[('select', PCA(n_components='mle', svd_solver='full')),\n",
       "                ('xgb',\n",
       "                 XGBClassifier(base_score=0.5, booster='dart',\n",
       "                               colsample_bylevel=1, colsample_bynode=1,\n",
       "                               colsample_bytree=1, gamma=0, gpu_id=-1,\n",
       "                               importance_type='gain',\n",
       "                               interaction_constraints='',\n",
       "                               learning_rate=0.300000012, max_delta_step=0,\n",
       "                               max_depth=9, min_child_weight=1, missing=nan,\n",
       "                               monotone_constraints='()', n_estimators=100,\n",
       "                               n_jobs=2, num_parallel_tree=1, random_state=0,\n",
       "                               reg_alpha=0, reg_lambda=1, scale_pos_weight=1,\n",
       "                               subsample=1, tree_method='exact',\n",
       "                               use_label_encoder=False, validate_parameters=1,\n",
       "                               verbosity=None))])"
      ]
     },
     "execution_count": 72,
     "metadata": {},
     "output_type": "execute_result"
    }
   ],
   "source": [
    "# Pipeline of transforms with a final estimator.\n",
    "pipe = Pipeline([\n",
    "    ('select', PCA(n_components='mle', svd_solver='full')),\n",
    "    # Implementation of the scikit-learn API for XGBoost classification.\n",
    "    ('xgb', XGBClassifier(use_label_encoder=False, booster='dart', max_depth=9))\n",
    "])\n",
    "# Fit all the transformers one after the other and transform the data.\n",
    "pipe.fit(x_train_sm, y_train_sm)"
   ]
  },
  {
   "cell_type": "code",
   "execution_count": null,
   "id": "afc22d7e",
   "metadata": {},
   "outputs": [
    {
     "name": "stdout",
     "output_type": "stream",
     "text": [
      "[21:09:30] WARNING: C:/Users/Administrator/workspace/xgboost-win64_release_1.4.0/src/learner.cc:1095: Starting in XGBoost 1.3.0, the default evaluation metric used with the objective 'binary:logistic' was changed from 'error' to 'logloss'. Explicitly set eval_metric if you'd like to restore the old behavior.\n"
     ]
    }
   ],
   "source": [
    "# Stratified K-Folds cross-validator\n",
    "stk = StratifiedKFold(n_splits=6, shuffle=True, random_state=2014)\n",
    "\n",
    "# specifying parameter for optimal search\n",
    "param = {\n",
    "    'xgb__n_estimators' : [40, 50, 70]\n",
    "}\n",
    "\n",
    "# Exhaustive search over specified parameter values for an estimator.\n",
    "grid = GridSearchCV(estimator=pipe, param_grid=param, cv=stk, scoring='accuracy', verbose=False)\n",
    "# Run fit with all sets of parameters.\n",
    "grid.fit(x_train_sm, y_train_sm)"
   ]
  },
  {
   "cell_type": "code",
   "execution_count": null,
   "id": "e0e8d858",
   "metadata": {},
   "outputs": [],
   "source": [
    "# Call predict on the estimator with the best found parameters.\n",
    "y_true = grid.predict(x_test)"
   ]
  },
  {
   "cell_type": "code",
   "execution_count": null,
   "id": "deb2d8c9",
   "metadata": {},
   "outputs": [],
   "source": [
    "# Compute the F1 score, also known as balanced F-score or F-measure.\n",
    "print(\"F1 Score: {:.3f}\".format(f1_score(y_test, y_true)))\n",
    "# Accuracy classification score\n",
    "print(\"Accuracy Socre: {:.3f}\".format(accuracy_score(y_test, y_true)))"
   ]
  },
  {
   "cell_type": "code",
   "execution_count": null,
   "id": "b9d14d8b",
   "metadata": {},
   "outputs": [],
   "source": [
    "# Build a text report showing the main classification metrics.\n",
    "print(classification_report(y_test, y_true))"
   ]
  },
  {
   "cell_type": "code",
   "execution_count": null,
   "id": "b1c7270a",
   "metadata": {},
   "outputs": [],
   "source": [
    "# Compute confusion matrix to evaluate the accuracy of a classification.\n",
    "confusion_matrix(y_test, y_true)"
   ]
  },
  {
   "cell_type": "code",
   "execution_count": null,
   "id": "99c854ef",
   "metadata": {},
   "outputs": [],
   "source": [
    "# Plot Receiver operating characteristic (ROC) curve.\n",
    "plot_roc_curve(grid, x_train_sm, y_train_sm)"
   ]
  },
  {
   "cell_type": "code",
   "execution_count": null,
   "id": "0fad7214",
   "metadata": {},
   "outputs": [],
   "source": [
    "x"
   ]
  },
  {
   "cell_type": "code",
   "execution_count": null,
   "id": "d501b5fc",
   "metadata": {},
   "outputs": [],
   "source": [
    "# Saving model to disk\n",
    "filename = 'SoccerFeverModel.pkl'\n",
    "\n",
    "with open(filename, 'wb') as file:\n",
    "    pickle.dump(grid, file)"
   ]
  },
  {
   "cell_type": "code",
   "execution_count": null,
   "id": "5deeb188",
   "metadata": {},
   "outputs": [],
   "source": [
    "# loading save model\n",
    "with open(filename, 'rb') as file:\n",
    "    load_model = pickle.load(file)"
   ]
  },
  {
   "cell_type": "code",
   "execution_count": null,
   "id": "04cf6758",
   "metadata": {},
   "outputs": [],
   "source": [
    "# loading dataset\n",
    "test_data = pd.read_csv('test.csv')"
   ]
  },
  {
   "cell_type": "code",
   "execution_count": null,
   "id": "532f5a53",
   "metadata": {},
   "outputs": [],
   "source": [
    "# Drop specified labels from rows or columns.\n",
    "test_data = test_data.drop(['ID', 'Loan Status'], axis=1)"
   ]
  },
  {
   "cell_type": "code",
   "execution_count": null,
   "id": "187899e1",
   "metadata": {},
   "outputs": [],
   "source": [
    "test_data.isnull().sum()"
   ]
  },
  {
   "cell_type": "code",
   "execution_count": null,
   "id": "1a2fcb06",
   "metadata": {},
   "outputs": [],
   "source": [
    "#num_co_test = test_data.select_dtypes(include=['float64', 'int64'])\n",
    "#cat_col_test = test_data.select_dtypes(\"O\")"
   ]
  },
  {
   "cell_type": "code",
   "execution_count": null,
   "id": "0c35265b",
   "metadata": {
    "scrolled": false
   },
   "outputs": [],
   "source": [
    "#scale_test = LabelEncoder().fit_transform(cat_col_test)\n",
    "#nw_scale_tst = pd.DataFrame(scale_test, columns=['Batch Enrolled', 'Grade', 'Sub Grade', 'Home Ownership', 'Verification Status',\n",
    " #                                                'Payment Plan', 'Loan Title','Initial List Status', 'Application Type'])\n",
    "\n",
    "#new_fd = pd.concat([num_co_test, nw_scale_tst], axis=1)\n",
    "#new_fd.head()"
   ]
  },
  {
   "cell_type": "code",
   "execution_count": null,
   "id": "be633b0a",
   "metadata": {},
   "outputs": [],
   "source": [
    "# Encode target labels\n",
    "test_data['Batch Enrolled'] = LabelEncoder().fit_transform(test_data['Batch Enrolled'])\n",
    "test_data['Grade'] = LabelEncoder().fit_transform(test_data['Grade'])\n",
    "test_data['Sub Grade'] = LabelEncoder().fit_transform(test_data['Sub Grade'])\n",
    "test_data['Home OwnerShip'] = LabelEncoder().fit_transform(test_data['Home OwnerShip'])\n",
    "test_data['Verification Status'] = LabelEncoder().fit_transform(test_data['Verification Status'])\n",
    "test_data['Payment Plan'] = LabelEncoder().fit_transform(test_data['Payment Plan'])\n",
    "test_data['Loan Title'] = LabelEncoder().fit_transform(test_data['Loan Title'])\n",
    "test_data['Initial List Status'] = LabelEncoder().fit_transform(test_data['Initial List Status'])\n",
    "test_data['Application Type'] = LabelEncoder().fit_transform(test_data['Application Type'])"
   ]
  },
  {
   "cell_type": "code",
   "execution_count": null,
   "id": "b145ad22",
   "metadata": {},
   "outputs": [],
   "source": [
    "# Scale features using statistics that are robust to outliers.\n",
    "mn = MinMaxScaler()\n",
    "# Fit to data, then transform it train data\n",
    "test_data = mn.fit_transform(test_data)"
   ]
  },
  {
   "cell_type": "code",
   "execution_count": null,
   "id": "f4455e1f",
   "metadata": {},
   "outputs": [],
   "source": [
    "# Call predict on the estimator with the best found parameters.\n",
    "unseen_pred = grid_search.predict(test_data)"
   ]
  },
  {
   "cell_type": "code",
   "execution_count": null,
   "id": "ca50a157",
   "metadata": {},
   "outputs": [],
   "source": [
    "un_sub = pd.read_csv('submission.csv')"
   ]
  },
  {
   "cell_type": "code",
   "execution_count": null,
   "id": "3e599892",
   "metadata": {},
   "outputs": [],
   "source": [
    "# Constructing DataFrame\n",
    "un_sub['Loan Status'] = pd.DataFrame(unseen_pred)"
   ]
  },
  {
   "cell_type": "code",
   "execution_count": null,
   "id": "bbeefc01",
   "metadata": {},
   "outputs": [],
   "source": [
    "un_sub = un_sub.to_csv('submission.csv', index=False)"
   ]
  },
  {
   "cell_type": "code",
   "execution_count": null,
   "id": "6eaf77d7",
   "metadata": {},
   "outputs": [],
   "source": [
    "un_sub.value_counts()"
   ]
  }
 ],
 "metadata": {
  "kernelspec": {
   "display_name": "Python 3",
   "language": "python",
   "name": "python3"
  },
  "language_info": {
   "codemirror_mode": {
    "name": "ipython",
    "version": 3
   },
   "file_extension": ".py",
   "mimetype": "text/x-python",
   "name": "python",
   "nbconvert_exporter": "python",
   "pygments_lexer": "ipython3",
   "version": "3.8.8"
  }
 },
 "nbformat": 4,
 "nbformat_minor": 5
}
