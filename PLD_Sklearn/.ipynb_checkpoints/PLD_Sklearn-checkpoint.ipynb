{
 "cells": [
  {
   "cell_type": "code",
   "execution_count": 63,
   "id": "a792d70f",
   "metadata": {},
   "outputs": [],
   "source": [
    "# importing data manipulation tools\n",
    "import pandas as pd\n",
    "import numpy as np\n",
    "import pickle\n",
    "\n",
    "# model management tool\n",
    "import mlflow\n",
    "import mlflow.sklearn\n",
    "\n",
    "# model metrics and performance lib\n",
    "from sklearn.metrics import classification_report, confusion_matrix\n",
    "from sklearn.metrics import accuracy_score, f1_score, plot_roc_curve\n",
    "\n",
    "# model preprocessing\n",
    "from sklearn.pipeline import Pipeline\n",
    "from sklearn.decomposition import PCA\n",
    "from sklearn.feature_selection import SelectKBest, f_classif\n",
    "from sklearn.impute import SimpleImputer\n",
    "from sklearn.preprocessing import RobustScaler\n",
    "from sklearn.model_selection import GridSearchCV, StratifiedKFold, train_test_split\n",
    "\n",
    "# model algorithsm\n",
    "import xgboost\n",
    "from xgboost import XGBClassifier\n",
    "from sklearn.linear_model import LogisticRegression\n",
    "\n",
    "# data visualization\n",
    "from matplotlib import pyplot as plt\n",
    "import seaborn as sns"
   ]
  },
  {
   "cell_type": "code",
   "execution_count": 3,
   "id": "4ebc5527",
   "metadata": {},
   "outputs": [],
   "source": [
    "# loading dataset\n",
    "df = pd.read_csv('train.csv')"
   ]
  },
  {
   "cell_type": "code",
   "execution_count": 4,
   "id": "a4e1e810",
   "metadata": {},
   "outputs": [
    {
     "data": {
      "text/html": [
       "<div>\n",
       "<style scoped>\n",
       "    .dataframe tbody tr th:only-of-type {\n",
       "        vertical-align: middle;\n",
       "    }\n",
       "\n",
       "    .dataframe tbody tr th {\n",
       "        vertical-align: top;\n",
       "    }\n",
       "\n",
       "    .dataframe thead th {\n",
       "        text-align: right;\n",
       "    }\n",
       "</style>\n",
       "<table border=\"1\" class=\"dataframe\">\n",
       "  <thead>\n",
       "    <tr style=\"text-align: right;\">\n",
       "      <th></th>\n",
       "      <th>season</th>\n",
       "      <th>date</th>\n",
       "      <th>league_id</th>\n",
       "      <th>league</th>\n",
       "      <th>Team 1</th>\n",
       "      <th>Team2</th>\n",
       "      <th>SPI1</th>\n",
       "      <th>SPI2</th>\n",
       "      <th>proj_score1</th>\n",
       "      <th>proj_score2</th>\n",
       "      <th>...</th>\n",
       "      <th>importance2</th>\n",
       "      <th>score1</th>\n",
       "      <th>score2</th>\n",
       "      <th>xg1</th>\n",
       "      <th>xg2</th>\n",
       "      <th>nsxg1</th>\n",
       "      <th>nsxg2</th>\n",
       "      <th>adj_score1</th>\n",
       "      <th>adj_score2</th>\n",
       "      <th>Outcome</th>\n",
       "    </tr>\n",
       "  </thead>\n",
       "  <tbody>\n",
       "    <tr>\n",
       "      <th>0</th>\n",
       "      <td>2019</td>\n",
       "      <td>01/03/19</td>\n",
       "      <td>1979</td>\n",
       "      <td>Chinese Super League</td>\n",
       "      <td>Shandong Luneng</td>\n",
       "      <td>Guizhou Renhe</td>\n",
       "      <td>48.22</td>\n",
       "      <td>37.83</td>\n",
       "      <td>1.75</td>\n",
       "      <td>0.84</td>\n",
       "      <td>...</td>\n",
       "      <td>22.1</td>\n",
       "      <td>1.0</td>\n",
       "      <td>0.0</td>\n",
       "      <td>1.39</td>\n",
       "      <td>0.26</td>\n",
       "      <td>2.05</td>\n",
       "      <td>0.54</td>\n",
       "      <td>1.05</td>\n",
       "      <td>0.00</td>\n",
       "      <td>1</td>\n",
       "    </tr>\n",
       "    <tr>\n",
       "      <th>1</th>\n",
       "      <td>2019</td>\n",
       "      <td>01/03/19</td>\n",
       "      <td>1979</td>\n",
       "      <td>Chinese Super League</td>\n",
       "      <td>Shanghai Greenland</td>\n",
       "      <td>Shanghai SIPG</td>\n",
       "      <td>39.81</td>\n",
       "      <td>60.08</td>\n",
       "      <td>1.22</td>\n",
       "      <td>1.89</td>\n",
       "      <td>...</td>\n",
       "      <td>63.4</td>\n",
       "      <td>0.0</td>\n",
       "      <td>4.0</td>\n",
       "      <td>0.57</td>\n",
       "      <td>2.76</td>\n",
       "      <td>0.80</td>\n",
       "      <td>1.50</td>\n",
       "      <td>0.00</td>\n",
       "      <td>3.26</td>\n",
       "      <td>0</td>\n",
       "    </tr>\n",
       "    <tr>\n",
       "      <th>2</th>\n",
       "      <td>2019</td>\n",
       "      <td>01/03/19</td>\n",
       "      <td>1979</td>\n",
       "      <td>Chinese Super League</td>\n",
       "      <td>Guangzhou Evergrande</td>\n",
       "      <td>Tianjin Quanujian</td>\n",
       "      <td>65.59</td>\n",
       "      <td>39.99</td>\n",
       "      <td>2.58</td>\n",
       "      <td>0.62</td>\n",
       "      <td>...</td>\n",
       "      <td>28.8</td>\n",
       "      <td>3.0</td>\n",
       "      <td>0.0</td>\n",
       "      <td>0.49</td>\n",
       "      <td>0.45</td>\n",
       "      <td>1.05</td>\n",
       "      <td>0.75</td>\n",
       "      <td>3.15</td>\n",
       "      <td>0.00</td>\n",
       "      <td>1</td>\n",
       "    </tr>\n",
       "    <tr>\n",
       "      <th>3</th>\n",
       "      <td>2019</td>\n",
       "      <td>01/03/19</td>\n",
       "      <td>1979</td>\n",
       "      <td>Chinese Super League</td>\n",
       "      <td>Wuhan Zall</td>\n",
       "      <td>Beijing Guoan</td>\n",
       "      <td>32.25</td>\n",
       "      <td>54.82</td>\n",
       "      <td>1.10</td>\n",
       "      <td>1.79</td>\n",
       "      <td>...</td>\n",
       "      <td>58.9</td>\n",
       "      <td>0.0</td>\n",
       "      <td>1.0</td>\n",
       "      <td>1.12</td>\n",
       "      <td>0.97</td>\n",
       "      <td>1.51</td>\n",
       "      <td>0.94</td>\n",
       "      <td>0.00</td>\n",
       "      <td>1.05</td>\n",
       "      <td>0</td>\n",
       "    </tr>\n",
       "    <tr>\n",
       "      <th>4</th>\n",
       "      <td>2019</td>\n",
       "      <td>01/03/19</td>\n",
       "      <td>1979</td>\n",
       "      <td>Chinese Super League</td>\n",
       "      <td>Chongqing Lifan</td>\n",
       "      <td>Guangzhou RF</td>\n",
       "      <td>38.24</td>\n",
       "      <td>40.45</td>\n",
       "      <td>1.57</td>\n",
       "      <td>1.24</td>\n",
       "      <td>...</td>\n",
       "      <td>21.3</td>\n",
       "      <td>2.0</td>\n",
       "      <td>2.0</td>\n",
       "      <td>2.77</td>\n",
       "      <td>3.17</td>\n",
       "      <td>1.05</td>\n",
       "      <td>2.08</td>\n",
       "      <td>2.10</td>\n",
       "      <td>2.10</td>\n",
       "      <td>1</td>\n",
       "    </tr>\n",
       "  </tbody>\n",
       "</table>\n",
       "<p>5 rows × 21 columns</p>\n",
       "</div>"
      ],
      "text/plain": [
       "   season      date  league_id                league                Team 1  \\\n",
       "0    2019  01/03/19       1979  Chinese Super League       Shandong Luneng   \n",
       "1    2019  01/03/19       1979  Chinese Super League    Shanghai Greenland   \n",
       "2    2019  01/03/19       1979  Chinese Super League  Guangzhou Evergrande   \n",
       "3    2019  01/03/19       1979  Chinese Super League            Wuhan Zall   \n",
       "4    2019  01/03/19       1979  Chinese Super League       Chongqing Lifan   \n",
       "\n",
       "               Team2   SPI1   SPI2  proj_score1  proj_score2  ...  \\\n",
       "0      Guizhou Renhe  48.22  37.83         1.75         0.84  ...   \n",
       "1      Shanghai SIPG  39.81  60.08         1.22         1.89  ...   \n",
       "2  Tianjin Quanujian  65.59  39.99         2.58         0.62  ...   \n",
       "3      Beijing Guoan  32.25  54.82         1.10         1.79  ...   \n",
       "4       Guangzhou RF  38.24  40.45         1.57         1.24  ...   \n",
       "\n",
       "   importance2  score1  score2   xg1   xg2  nsxg1  nsxg2  adj_score1  \\\n",
       "0         22.1     1.0     0.0  1.39  0.26   2.05   0.54        1.05   \n",
       "1         63.4     0.0     4.0  0.57  2.76   0.80   1.50        0.00   \n",
       "2         28.8     3.0     0.0  0.49  0.45   1.05   0.75        3.15   \n",
       "3         58.9     0.0     1.0  1.12  0.97   1.51   0.94        0.00   \n",
       "4         21.3     2.0     2.0  2.77  3.17   1.05   2.08        2.10   \n",
       "\n",
       "   adj_score2  Outcome  \n",
       "0        0.00        1  \n",
       "1        3.26        0  \n",
       "2        0.00        1  \n",
       "3        1.05        0  \n",
       "4        2.10        1  \n",
       "\n",
       "[5 rows x 21 columns]"
      ]
     },
     "execution_count": 4,
     "metadata": {},
     "output_type": "execute_result"
    }
   ],
   "source": [
    "# Return the first `n` rows.\n",
    "df.head()"
   ]
  },
  {
   "cell_type": "code",
   "execution_count": 5,
   "id": "5ac32431",
   "metadata": {},
   "outputs": [
    {
     "data": {
      "text/plain": [
       "(7443, 21)"
      ]
     },
     "execution_count": 5,
     "metadata": {},
     "output_type": "execute_result"
    }
   ],
   "source": [
    "# Return a tuple representing the dimensionality of the DataFrame.\n",
    "df.shape"
   ]
  },
  {
   "cell_type": "code",
   "execution_count": 6,
   "id": "7a7a7305",
   "metadata": {},
   "outputs": [
    {
     "name": "stdout",
     "output_type": "stream",
     "text": [
      "<class 'pandas.core.frame.DataFrame'>\n",
      "RangeIndex: 7443 entries, 0 to 7442\n",
      "Data columns (total 21 columns):\n",
      " #   Column       Non-Null Count  Dtype  \n",
      "---  ------       --------------  -----  \n",
      " 0   season       7443 non-null   int64  \n",
      " 1   date         7443 non-null   object \n",
      " 2   league_id    7443 non-null   int64  \n",
      " 3   league       7443 non-null   object \n",
      " 4   Team 1       7443 non-null   object \n",
      " 5   Team2        7443 non-null   object \n",
      " 6   SPI1         7443 non-null   float64\n",
      " 7   SPI2         7443 non-null   float64\n",
      " 8   proj_score1  7443 non-null   float64\n",
      " 9   proj_score2  7443 non-null   float64\n",
      " 10  importance1  2527 non-null   float64\n",
      " 11  importance2  2527 non-null   float64\n",
      " 12  score1       2643 non-null   float64\n",
      " 13  score2       2643 non-null   float64\n",
      " 14  xg1          1715 non-null   float64\n",
      " 15  xg2          1715 non-null   float64\n",
      " 16  nsxg1        1715 non-null   float64\n",
      " 17  nsxg2        1715 non-null   float64\n",
      " 18  adj_score1   1715 non-null   float64\n",
      " 19  adj_score2   1715 non-null   float64\n",
      " 20  Outcome      7443 non-null   int64  \n",
      "dtypes: float64(14), int64(3), object(4)\n",
      "memory usage: 1.2+ MB\n"
     ]
    }
   ],
   "source": [
    "# Print a concise summary of a DataFrame.\n",
    "df.info()"
   ]
  },
  {
   "cell_type": "code",
   "execution_count": 7,
   "id": "cbe49d33",
   "metadata": {},
   "outputs": [
    {
     "data": {
      "text/plain": [
       "season            0\n",
       "date              0\n",
       "league_id         0\n",
       "league            0\n",
       "Team 1            0\n",
       "Team2             0\n",
       "SPI1              0\n",
       "SPI2              0\n",
       "proj_score1       0\n",
       "proj_score2       0\n",
       "importance1    4916\n",
       "importance2    4916\n",
       "score1         4800\n",
       "score2         4800\n",
       "xg1            5728\n",
       "xg2            5728\n",
       "nsxg1          5728\n",
       "nsxg2          5728\n",
       "adj_score1     5728\n",
       "adj_score2     5728\n",
       "Outcome           0\n",
       "dtype: int64"
      ]
     },
     "execution_count": 7,
     "metadata": {},
     "output_type": "execute_result"
    }
   ],
   "source": [
    "# returns number of missing value\n",
    "df.isnull().sum()"
   ]
  },
  {
   "cell_type": "code",
   "execution_count": 8,
   "id": "cf53cc9f",
   "metadata": {},
   "outputs": [],
   "source": [
    "# Data Analysis"
   ]
  },
  {
   "cell_type": "code",
   "execution_count": 10,
   "id": "9671d104",
   "metadata": {},
   "outputs": [
    {
     "data": {
      "text/plain": [
       "<AxesSubplot:xlabel='xg1', ylabel='xg2'>"
      ]
     },
     "execution_count": 10,
     "metadata": {},
     "output_type": "execute_result"
    },
    {
     "data": {
      "image/png": "[encoded data removed]",
      "text/plain": [
       "<Figure size 432x288 with 1 Axes>"
      ]
     },
     "metadata": {
      "needs_background": "light"
     },
     "output_type": "display_data"
    }
   ],
   "source": [
    "# detecting outliers \n",
    "sns.scatterplot(data=df, x='xg1', y='xg2')"
   ]
  },
  {
   "cell_type": "code",
   "execution_count": 12,
   "id": "b752b294",
   "metadata": {},
   "outputs": [
    {
     "data": {
      "text/plain": [
       "<AxesSubplot:xlabel='nsxg1', ylabel='nsxg2'>"
      ]
     },
     "execution_count": 12,
     "metadata": {},
     "output_type": "execute_result"
    },
    {
     "data": {
      "image/png": "[encoded data removed]",
      "text/plain": [
       "<Figure size 432x288 with 1 Axes>"
      ]
     },
     "metadata": {
      "needs_background": "light"
     },
     "output_type": "display_data"
    }
   ],
   "source": [
    "# detecting outliers \n",
    "sns.scatterplot(data=df, x='nsxg1', y='nsxg2')"
   ]
  },
  {
   "cell_type": "code",
   "execution_count": null,
   "id": "fd950fcb",
   "metadata": {},
   "outputs": [],
   "source": [
    "# Data cleaning"
   ]
  },
  {
   "cell_type": "code",
   "execution_count": 17,
   "id": "e9b95906",
   "metadata": {},
   "outputs": [],
   "source": [
    "# dropping inrelevant col\n",
    "df = df.drop(['Team 1', 'Team2', 'date', 'league', 'league_id', 'season'], axis=1)"
   ]
  },
  {
   "cell_type": "code",
   "execution_count": 18,
   "id": "616772a7",
   "metadata": {},
   "outputs": [],
   "source": [
    "# assigning dependent features to X and independent features to y\n",
    "X = df.drop(['Outcome'], axis=1)\n",
    "y = df['Outcome']"
   ]
  },
  {
   "cell_type": "code",
   "execution_count": 19,
   "id": "ac927b93",
   "metadata": {},
   "outputs": [],
   "source": [
    "# Imputation transformer for completing missing values.\n",
    "imp = SimpleImputer(missing_values=np.nan, strategy='mean')\n",
    "imp = imp.fit(X[:]) # Fit the imputer on X.\n",
    "X[:] = imp.transform(X[:])"
   ]
  },
  {
   "cell_type": "code",
   "execution_count": 20,
   "id": "69fa7827",
   "metadata": {},
   "outputs": [],
   "source": [
    "# model development"
   ]
  },
  {
   "cell_type": "code",
   "execution_count": 22,
   "id": "1944c636",
   "metadata": {},
   "outputs": [],
   "source": [
    "# scale features using statistics that are robust to outliers.\n",
    "rob = RobustScaler()\n",
    "# Fit to data, then transform it.\n",
    "X = rob.fit_transform(X)"
   ]
  },
  {
   "cell_type": "code",
   "execution_count": 24,
   "id": "3d61b3d3",
   "metadata": {},
   "outputs": [
    {
     "name": "stdout",
     "output_type": "stream",
     "text": [
      "[[ 0.41242236 -0.01886019  0.77272727 ... -0.56869971 -0.46013994\n",
      "  -1.23      ]\n",
      " [ 0.06418219  0.89339893 -0.43181818 ...  0.39130029 -1.51013994\n",
      "   2.03      ]\n",
      " [ 1.13167702  0.0697007   2.65909091 ... -0.35869971  1.63986006\n",
      "  -1.23      ]\n",
      " ...\n",
      " [-1.04720497 -0.60270603 -0.81818182 ...  0.          0.\n",
      "   0.        ]\n",
      " [-1.09730849 -0.82902829 -0.43181818 ...  0.          0.\n",
      "   0.        ]\n",
      " [-0.51221532 -1.12915129  0.         ...  0.          0.\n",
      "   0.        ]]\n"
     ]
    }
   ],
   "source": [
    "print(X)"
   ]
  },
  {
   "cell_type": "code",
   "execution_count": 25,
   "id": "492c1f9e",
   "metadata": {},
   "outputs": [],
   "source": [
    "# Split arrays or matrices into random train and test subsets\n",
    "xtrain, xtest, ytrain, ytest = train_test_split(X, y, test_size=0.35, random_state=1234, stratify=y)"
   ]
  },
  {
   "cell_type": "code",
   "execution_count": 27,
   "id": "a106c301",
   "metadata": {},
   "outputs": [
    {
     "name": "stdout",
     "output_type": "stream",
     "text": [
      "(4837, 14)\n",
      "(2606, 14)\n",
      "(4837,)\n",
      "(2606,)\n"
     ]
    }
   ],
   "source": [
    "print(xtrain.shape)\n",
    "print(xtest.shape)\n",
    "print(ytrain.shape)\n",
    "print(ytest.shape)"
   ]
  },
  {
   "cell_type": "code",
   "execution_count": 31,
   "id": "71db191b",
   "metadata": {},
   "outputs": [],
   "source": [
    "# Pipeline of transforms with a final estimator.\n",
    "pipe = Pipeline([\n",
    "        ('select', SelectKBest(f_classif)),\n",
    "        # Implementation of the scikit-learn API for XGBoost classification.\n",
    "        ('xg', XGBClassifier(use_label_encoder=True, random_state=2014))\n",
    "])"
   ]
  },
  {
   "cell_type": "code",
   "execution_count": null,
   "id": "afc22d7e",
   "metadata": {},
   "outputs": [],
   "source": [
    "# Stratified K-Folds cross-validator\n",
    "stk = StratifiedKFold(n_splits=6, shuffle=True, random_state=2014)\n",
    "\n",
    "# specifying parameter for optimal search\n",
    "param = {\n",
    "        'select__k': [13, 15, 18],\n",
    "        'xg__n_estimators' : [10, 20, 50],\n",
    "        'xg__max_depth' : [100, 300, 250]\n",
    "}\n",
    "\n",
    "# Exhaustive search over specified parameter values for an estimator.\n",
    "grid = GridSearchCV(estimator=pipe, param_grid=param, cv=stk, scoring='accuracy', verbose=False)\n",
    "grid.fit(xtrain, ytrain)"
   ]
  },
  {
   "cell_type": "code",
   "execution_count": 132,
   "id": "635d971b",
   "metadata": {},
   "outputs": [
    {
     "data": {
      "text/plain": [
       "{'select__k': 13, 'xg__max_depth': 100, 'xg__n_estimators': 20}"
      ]
     },
     "execution_count": 132,
     "metadata": {},
     "output_type": "execute_result"
    }
   ],
   "source": [
    "#\n",
    "grid.best_params_()"
   ]
  },
  {
   "cell_type": "code",
   "execution_count": 133,
   "id": "c67b5ec1",
   "metadata": {},
   "outputs": [
    {
     "data": {
      "text/plain": [
       "0.9948312070868731"
      ]
     },
     "execution_count": 133,
     "metadata": {},
     "output_type": "execute_result"
    }
   ],
   "source": [
    "# Double-precision floating-point number type\n",
    "grid.best_score_"
   ]
  },
  {
   "cell_type": "code",
   "execution_count": 38,
   "id": "e0e8d858",
   "metadata": {},
   "outputs": [],
   "source": [
    "# Call predict on the estimator with the best found parameters.\n",
    "ypred = grid.predict(xtest)"
   ]
  },
  {
   "cell_type": "code",
   "execution_count": 40,
   "id": "deb2d8c9",
   "metadata": {},
   "outputs": [
    {
     "name": "stdout",
     "output_type": "stream",
     "text": [
      "0.9877206446661551\n"
     ]
    }
   ],
   "source": [
    "# Accuracy classification score.\n",
    "acc = accuracy_score(ytest, ypred)\n",
    "print(acc)"
   ]
  },
  {
   "cell_type": "code",
   "execution_count": 41,
   "id": "b9d14d8b",
   "metadata": {},
   "outputs": [
    {
     "name": "stdout",
     "output_type": "stream",
     "text": [
      "              precision    recall  f1-score   support\n",
      "\n",
      "           0       0.98      0.98      0.98       831\n",
      "           1       0.99      0.99      0.99      1775\n",
      "\n",
      "    accuracy                           0.99      2606\n",
      "   macro avg       0.99      0.99      0.99      2606\n",
      "weighted avg       0.99      0.99      0.99      2606\n",
      "\n"
     ]
    }
   ],
   "source": [
    "# Build a text report showing the main classification metrics.\n",
    "print(classification_report(ytest, ypred))"
   ]
  },
  {
   "cell_type": "code",
   "execution_count": 42,
   "id": "b1c7270a",
   "metadata": {},
   "outputs": [
    {
     "data": {
      "text/plain": [
       "array([[ 814,   17],\n",
       "       [  15, 1760]], dtype=int64)"
      ]
     },
     "execution_count": 42,
     "metadata": {},
     "output_type": "execute_result"
    }
   ],
   "source": [
    "# Compute confusion matrix to evaluate the accuracy of a classification.\n",
    "confusion_matrix(ytest, ypred)"
   ]
  },
  {
   "cell_type": "code",
   "execution_count": 46,
   "id": "99c854ef",
   "metadata": {},
   "outputs": [
    {
     "data": {
      "text/plain": [
       "<sklearn.metrics._plot.roc_curve.RocCurveDisplay at 0x1d0625a7880>"
      ]
     },
     "execution_count": 46,
     "metadata": {},
     "output_type": "execute_result"
    },
    {
     "data": {
      "image/png": "[encoded data removed]",
      "text/plain": [
       "<Figure size 432x288 with 1 Axes>"
      ]
     },
     "metadata": {
      "needs_background": "light"
     },
     "output_type": "display_data"
    }
   ],
   "source": [
    "# Plot Receiver operating characteristic (ROC) curve.\n",
    "plot_roc_curve(grid, xtrain, ytrain)"
   ]
  },
  {
   "cell_type": "code",
   "execution_count": 55,
   "id": "d501b5fc",
   "metadata": {},
   "outputs": [],
   "source": [
    "# Saving model to disk\n",
    "filename = 'SoccerFeverModel.pkl'\n",
    "\n",
    "with open(filename, 'wb') as file:\n",
    "    pickle.dump(grid, file)"
   ]
  },
  {
   "cell_type": "code",
   "execution_count": 56,
   "id": "5deeb188",
   "metadata": {},
   "outputs": [],
   "source": [
    "# loading save model\n",
    "with open(filename, 'rb') as file:\n",
    "    load_model = pickle.load(file)"
   ]
  },
  {
   "cell_type": "code",
   "execution_count": 164,
   "id": "532f5a53",
   "metadata": {},
   "outputs": [],
   "source": [
    "# dropping inrelevant\n",
    "new_test = test.drop(['season','date','league_id','league','Team 1','Team2'], axis=1)"
   ]
  },
  {
   "cell_type": "code",
   "execution_count": 177,
   "id": "187899e1",
   "metadata": {},
   "outputs": [
    {
     "data": {
      "text/plain": [
       "SPI1           0\n",
       "SPI2           0\n",
       "proj_score1    0\n",
       "proj_score2    0\n",
       "importance1    0\n",
       "importance2    0\n",
       "score1         0\n",
       "score2         0\n",
       "xg1            0\n",
       "xg2            0\n",
       "nsxg1          0\n",
       "nsxg2          0\n",
       "adj_score1     0\n",
       "adj_score2     0\n",
       "dtype: int64"
      ]
     },
     "execution_count": 177,
     "metadata": {},
     "output_type": "execute_result"
    }
   ],
   "source": [
    "new_test.isnull().sum()"
   ]
  },
  {
   "cell_type": "code",
   "execution_count": 176,
   "id": "2dfd8e4b",
   "metadata": {},
   "outputs": [],
   "source": [
    "# filling missing value\n",
    "new_test = new_test.fillna(axis=1, method='pad')"
   ]
  },
  {
   "cell_type": "code",
   "execution_count": 178,
   "id": "dd1de21d",
   "metadata": {},
   "outputs": [],
   "source": [
    "te = np.array(new_test)"
   ]
  },
  {
   "cell_type": "code",
   "execution_count": 179,
   "id": "f4455e1f",
   "metadata": {},
   "outputs": [],
   "source": [
    "# Call predict on the estimator with the best found parameters.\n",
    "unseen_pred = grid.predict(te)"
   ]
  },
  {
   "cell_type": "code",
   "execution_count": 180,
   "id": "3e599892",
   "metadata": {},
   "outputs": [],
   "source": [
    "# Constructing DataFrame\n",
    "p = pd.DataFrame(unseen_pred, columns=['Label'])"
   ]
  },
  {
   "cell_type": "code",
   "execution_count": 163,
   "id": "df37fc8f",
   "metadata": {},
   "outputs": [],
   "source": [
    "# loading test data\n",
    "test = pd.read_csv('test.csv')"
   ]
  },
  {
   "cell_type": "code",
   "execution_count": 183,
   "id": "bbeefc01",
   "metadata": {},
   "outputs": [],
   "source": [
    "submitted_file = p.to_csv('soccer.csv')"
   ]
  }
 ],
 "metadata": {
  "kernelspec": {
   "display_name": "Python 3",
   "language": "python",
   "name": "python3"
  },
  "language_info": {
   "codemirror_mode": {
    "name": "ipython",
    "version": 3
   },
   "file_extension": ".py",
   "mimetype": "text/x-python",
   "name": "python",
   "nbconvert_exporter": "python",
   "pygments_lexer": "ipython3",
   "version": "3.8.8"
  }
 },
 "nbformat": 4,
 "nbformat_minor": 5
}
