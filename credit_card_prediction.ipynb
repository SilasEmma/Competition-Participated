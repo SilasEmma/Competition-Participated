{
  "metadata": {
    "kernelspec": {
      "language": "python",
      "display_name": "Python 3",
      "name": "python3"
    },
    "language_info": {
      "pygments_lexer": "ipython3",
      "nbconvert_exporter": "python",
      "version": "3.6.4",
      "file_extension": ".py",
      "codemirror_mode": {
        "name": "ipython",
        "version": 3
      },
      "name": "python",
      "mimetype": "text/x-python"
    },
    "colab": {
      "name": "credit-card-prediction.ipynb",
      "provenance": [],
      "include_colab_link": true
    }
  },
  "nbformat_minor": 0,
  "nbformat": 4,
  "cells": [
    {
      "cell_type": "markdown",
      "metadata": {
        "id": "view-in-github",
        "colab_type": "text"
      },
      "source": [
        "<a href=\"https://colab.research.google.com/github/SilasEmma/Competition-Participated/blob/main/credit_card_prediction.ipynb\" target=\"_parent\"><img src=\"https://colab.research.google.com/assets/colab-badge.svg\" alt=\"Open In Colab\"/></a>"
      ]
    },
    {
      "cell_type": "markdown",
      "source": [
        "**Problem Statement**\n",
        "\n",
        "Financial threats are displaying a trend about the credit risk of commercial banks as the incredible improvement in the financial industry has arisen. In this way, one of the biggest threats faces by commercial banks is the risk prediction of credit clients. The goal is to predict the probability of credit default based on credit card owner's characteristics and payment history.\n",
        "\n",
        "**Approach**\n",
        "\n",
        "Tasks:- Supervised Learning tasks (Classifical Problem)\n",
        "\n",
        "Machine Learning skills like Data Exploration, Data Cleaning, Feature Engineering/Selection, Model Building and Testing/Evaluation"
      ],
      "metadata": {
        "id": "28fae823"
      }
    },
    {
      "cell_type": "code",
      "source": [
        "!pip install mlflow"
      ],
      "metadata": {
        "execution": {
          "iopub.status.busy": "2022-03-07T09:04:39.270706Z",
          "iopub.execute_input": "2022-03-07T09:04:39.271411Z",
          "iopub.status.idle": "2022-03-07T09:04:57.751391Z",
          "shell.execute_reply.started": "2022-03-07T09:04:39.271376Z",
          "shell.execute_reply": "2022-03-07T09:04:57.750659Z"
        },
        "collapsed": true,
        "jupyter": {
          "outputs_hidden": true
        },
        "trusted": true,
        "id": "l9wELv3caJQH"
      },
      "execution_count": null,
      "outputs": []
    },
    {
      "cell_type": "code",
      "source": [
        "# importing relevant libraries\n",
        "\n",
        "# utils lib\n",
        "import pickle\n",
        "from statsmodels.stats.outliers_influence import variance_inflation_factor\n",
        "from collections import Counter\n",
        "\n",
        "# data manipulation\n",
        "import pandas as pd\n",
        "import numpy as np\n",
        "\n",
        "# data viz\n",
        "import seaborn as sns\n",
        "#from pandas_profiling import ProfileReport\n",
        "#from sweetviz import DataframeReport\n",
        "from matplotlib import pyplot as plt\n",
        "\n",
        "# data preprocessing \n",
        "from sklearn.experimental import enable_halving_search_cv\n",
        "from sklearn.model_selection import HalvingGridSearchCV, StratifiedKFold, train_test_split\n",
        "from sklearn.pipeline import Pipeline\n",
        "from sklearn.feature_selection import RFE, VarianceThreshold\n",
        "from sklearn.decomposition import PCA\n",
        "from sklearn.preprocessing import MinMaxScaler, StandardScaler\n",
        "\n",
        "# data imbalance\n",
        "from imblearn.over_sampling import ADASYN, SMOTE\n",
        "\n",
        "# model performance and metrics\n",
        "from sklearn import metrics\n",
        "from sklearn.metrics import f1_score, classification_report, confusion_matrix\n",
        "from sklearn.metrics import mean_squared_error, r2_score, mean_absolute_error, roc_auc_score, precision_score, plot_roc_curve\n",
        "from sklearn.metrics import accuracy_score, plot_roc_curve\n",
        "from yellowbrick.model_selection import learning_curve, validation_curve\n",
        "\n",
        "# model tracking and registry\n",
        "import mlflow\n",
        "import bentoml\n",
        "from mlflow import active_run, set_experiment, set_tag, log_artifact, log_params, log_metrics\n",
        "\n",
        "# ml algorithm\n",
        "from sklearn.linear_model import LogisticRegression\n",
        "from catboost import CatBoostClassifier\n",
        "from sklearn.svm import SVC\n",
        "from xgboost import XGBClassifier\n",
        "from lightgbm import LGBMClassifier\n",
        "from sklearn.neighbors import KNeighborsClassifier\n",
        "from sklearn.ensemble import HistGradientBoostingClassifier, RandomForestClassifier"
      ],
      "metadata": {
        "id": "c6a232c8",
        "execution": {
          "iopub.status.busy": "2022-03-07T09:04:57.753674Z",
          "iopub.execute_input": "2022-03-07T09:04:57.753948Z",
          "iopub.status.idle": "2022-03-07T09:05:00.666131Z",
          "shell.execute_reply.started": "2022-03-07T09:04:57.753914Z",
          "shell.execute_reply": "2022-03-07T09:05:00.665092Z"
        },
        "trusted": true
      },
      "execution_count": null,
      "outputs": []
    },
    {
      "cell_type": "markdown",
      "source": [
        "**Data Understanding**"
      ],
      "metadata": {
        "id": "915bdf8b"
      }
    },
    {
      "cell_type": "code",
      "source": [
        "# loading data\n",
        "#from google.colab import drive\n",
        "#drive.mount('/content/drive')\n",
        "df = pd.read_csv('../input/uci-credit-card/UCI_Credit_Card.csv')\n",
        "#df =pd.read_csv('/content/drive/MyDrive/Colab Notebooks/Credit Card Project/UCI_Credit_Card.csv')"
      ],
      "metadata": {
        "id": "8008cd6a",
        "execution": {
          "iopub.status.busy": "2022-03-07T09:05:00.667866Z",
          "iopub.execute_input": "2022-03-07T09:05:00.668214Z",
          "iopub.status.idle": "2022-03-07T09:05:00.804814Z",
          "shell.execute_reply.started": "2022-03-07T09:05:00.668167Z",
          "shell.execute_reply": "2022-03-07T09:05:00.803707Z"
        },
        "trusted": true
      },
      "execution_count": null,
      "outputs": []
    },
    {
      "cell_type": "code",
      "source": [
        "# Return the first five rows.\n",
        "df.head()"
      ],
      "metadata": {
        "id": "c7c2ee5c",
        "execution": {
          "iopub.status.busy": "2022-03-07T09:05:00.807411Z",
          "iopub.execute_input": "2022-03-07T09:05:00.807697Z",
          "iopub.status.idle": "2022-03-07T09:05:00.846669Z",
          "shell.execute_reply.started": "2022-03-07T09:05:00.80766Z",
          "shell.execute_reply": "2022-03-07T09:05:00.845586Z"
        },
        "trusted": true
      },
      "execution_count": null,
      "outputs": []
    },
    {
      "cell_type": "code",
      "source": [
        "# Print a concise summary of a DataFrame.\n",
        "df.info()"
      ],
      "metadata": {
        "id": "6692e59b",
        "execution": {
          "iopub.status.busy": "2022-03-07T09:05:00.848228Z",
          "iopub.execute_input": "2022-03-07T09:05:00.849272Z",
          "iopub.status.idle": "2022-03-07T09:05:00.875594Z",
          "shell.execute_reply.started": "2022-03-07T09:05:00.849221Z",
          "shell.execute_reply": "2022-03-07T09:05:00.874552Z"
        },
        "trusted": true
      },
      "execution_count": null,
      "outputs": []
    },
    {
      "cell_type": "code",
      "source": [
        "# Return columns with missing values\n",
        "df.isnull().sum()"
      ],
      "metadata": {
        "id": "dea57564",
        "execution": {
          "iopub.status.busy": "2022-03-07T09:05:00.878187Z",
          "iopub.execute_input": "2022-03-07T09:05:00.878421Z",
          "iopub.status.idle": "2022-03-07T09:05:00.888842Z",
          "shell.execute_reply.started": "2022-03-07T09:05:00.87839Z",
          "shell.execute_reply": "2022-03-07T09:05:00.887715Z"
        },
        "trusted": true
      },
      "execution_count": null,
      "outputs": []
    },
    {
      "cell_type": "code",
      "source": [
        "# Return a Series containing counts of unique rows in the DataFrame.\n",
        "df['default.payment.next.month'].value_counts()"
      ],
      "metadata": {
        "id": "3ed52970",
        "execution": {
          "iopub.status.busy": "2022-03-07T09:05:00.890637Z",
          "iopub.execute_input": "2022-03-07T09:05:00.890888Z",
          "iopub.status.idle": "2022-03-07T09:05:00.899824Z",
          "shell.execute_reply.started": "2022-03-07T09:05:00.890858Z",
          "shell.execute_reply": "2022-03-07T09:05:00.898893Z"
        },
        "trusted": true
      },
      "execution_count": null,
      "outputs": []
    },
    {
      "cell_type": "markdown",
      "source": [
        " **Data is highly imbalanced**"
      ],
      "metadata": {
        "id": "8WTUOVL7fS7s"
      }
    },
    {
      "cell_type": "code",
      "source": [
        "sns.countplot(data=df, x='default.payment.next.month')\n",
        "plt.show()"
      ],
      "metadata": {
        "id": "7bdf17ce",
        "execution": {
          "iopub.status.busy": "2022-03-07T09:05:00.901233Z",
          "iopub.execute_input": "2022-03-07T09:05:00.901842Z",
          "iopub.status.idle": "2022-03-07T09:05:01.165117Z",
          "shell.execute_reply.started": "2022-03-07T09:05:00.901805Z",
          "shell.execute_reply": "2022-03-07T09:05:01.164135Z"
        },
        "trusted": true
      },
      "execution_count": null,
      "outputs": []
    },
    {
      "cell_type": "code",
      "source": [
        "# Generate descriptive statistics\n",
        "df.describe()"
      ],
      "metadata": {
        "id": "4696df5a",
        "scrolled": true,
        "execution": {
          "iopub.status.busy": "2022-03-07T09:05:01.166359Z",
          "iopub.execute_input": "2022-03-07T09:05:01.16661Z",
          "iopub.status.idle": "2022-03-07T09:05:01.279988Z",
          "shell.execute_reply.started": "2022-03-07T09:05:01.166579Z",
          "shell.execute_reply": "2022-03-07T09:05:01.278977Z"
        },
        "trusted": true
      },
      "execution_count": null,
      "outputs": []
    },
    {
      "cell_type": "markdown",
      "source": [
        "**Data Cleaning**\n",
        "\n",
        "Data cleaning refers to identifying and correcting errors in the dataset that may negatively\n",
        "impact a predictive model."
      ],
      "metadata": {
        "id": "d6d6ec4a"
      }
    },
    {
      "cell_type": "code",
      "source": [
        "# Return the sum of Series denoting duplicate rows.\n",
        "df.duplicated().sum()"
      ],
      "metadata": {
        "id": "124c3f51",
        "execution": {
          "iopub.status.busy": "2022-03-07T09:05:01.284908Z",
          "iopub.execute_input": "2022-03-07T09:05:01.285369Z",
          "iopub.status.idle": "2022-03-07T09:05:01.333794Z",
          "shell.execute_reply.started": "2022-03-07T09:05:01.285318Z",
          "shell.execute_reply": "2022-03-07T09:05:01.332712Z"
        },
        "trusted": true
      },
      "execution_count": null,
      "outputs": []
    },
    {
      "cell_type": "code",
      "source": [
        "# dropping rows with duplicate\n",
        "df.drop_duplicates(inplace=True)"
      ],
      "metadata": {
        "id": "e8d3f6ff",
        "execution": {
          "iopub.status.busy": "2022-03-07T09:05:01.337354Z",
          "iopub.execute_input": "2022-03-07T09:05:01.337635Z",
          "iopub.status.idle": "2022-03-07T09:05:01.379884Z",
          "shell.execute_reply.started": "2022-03-07T09:05:01.337587Z",
          "shell.execute_reply": "2022-03-07T09:05:01.379062Z"
        },
        "trusted": true
      },
      "execution_count": null,
      "outputs": []
    },
    {
      "cell_type": "code",
      "source": [
        "# Return Series with number of distinct observations\n",
        "df.nunique()"
      ],
      "metadata": {
        "id": "db275aa8",
        "execution": {
          "iopub.status.busy": "2022-03-07T09:05:01.381042Z",
          "iopub.execute_input": "2022-03-07T09:05:01.381647Z",
          "iopub.status.idle": "2022-03-07T09:05:01.407042Z",
          "shell.execute_reply.started": "2022-03-07T09:05:01.38159Z",
          "shell.execute_reply": "2022-03-07T09:05:01.406287Z"
        },
        "trusted": true
      },
      "execution_count": null,
      "outputs": []
    },
    {
      "cell_type": "markdown",
      "source": [
        "**Data Exploration**\n",
        "\n"
      ],
      "metadata": {
        "id": "521624fe"
      }
    },
    {
      "cell_type": "code",
      "source": [
        "# Generate a profile report from a Dataset\n",
        "#pr = ProfileReport(df) ERROR"
      ],
      "metadata": {
        "id": "61a7f0c5",
        "execution": {
          "iopub.status.busy": "2022-03-07T09:05:01.408267Z",
          "iopub.execute_input": "2022-03-07T09:05:01.40866Z",
          "iopub.status.idle": "2022-03-07T09:05:01.412206Z",
          "shell.execute_reply.started": "2022-03-07T09:05:01.408627Z",
          "shell.execute_reply": "2022-03-07T09:05:01.411325Z"
        },
        "trusted": true
      },
      "execution_count": null,
      "outputs": []
    },
    {
      "cell_type": "code",
      "source": [
        "#pr.to_widgets()"
      ],
      "metadata": {
        "id": "9fb80c22",
        "execution": {
          "iopub.status.busy": "2022-03-07T09:05:01.413471Z",
          "iopub.execute_input": "2022-03-07T09:05:01.413799Z",
          "iopub.status.idle": "2022-03-07T09:05:01.426872Z",
          "shell.execute_reply.started": "2022-03-07T09:05:01.413766Z",
          "shell.execute_reply": "2022-03-07T09:05:01.425878Z"
        },
        "trusted": true
      },
      "execution_count": null,
      "outputs": []
    },
    {
      "cell_type": "code",
      "source": [
        "sns.histplot(data=df, x='AGE', bins=30)\n",
        "plt.show()"
      ],
      "metadata": {
        "id": "594d3fad",
        "execution": {
          "iopub.status.busy": "2022-03-07T09:05:01.428767Z",
          "iopub.execute_input": "2022-03-07T09:05:01.429898Z",
          "iopub.status.idle": "2022-03-07T09:05:01.781634Z",
          "shell.execute_reply.started": "2022-03-07T09:05:01.429836Z",
          "shell.execute_reply": "2022-03-07T09:05:01.780584Z"
        },
        "trusted": true
      },
      "execution_count": null,
      "outputs": []
    },
    {
      "cell_type": "code",
      "source": [
        "sns.histplot(data=df, x='LIMIT_BAL', bins=30)\n",
        "plt.show()"
      ],
      "metadata": {
        "id": "14e1a04f",
        "execution": {
          "iopub.status.busy": "2022-03-07T09:05:01.782719Z",
          "iopub.execute_input": "2022-03-07T09:05:01.783515Z",
          "iopub.status.idle": "2022-03-07T09:05:02.125136Z",
          "shell.execute_reply.started": "2022-03-07T09:05:01.783461Z",
          "shell.execute_reply": "2022-03-07T09:05:02.123782Z"
        },
        "trusted": true
      },
      "execution_count": null,
      "outputs": []
    },
    {
      "cell_type": "code",
      "source": [
        "# assigning independent variale\n",
        "x = df.drop(['default.payment.next.month'], axis=1)\n",
        "# assigning dependent variable\n",
        "y = df['default.payment.next.month']"
      ],
      "metadata": {
        "id": "7295700a",
        "execution": {
          "iopub.status.busy": "2022-03-07T09:05:02.126759Z",
          "iopub.execute_input": "2022-03-07T09:05:02.127712Z",
          "iopub.status.idle": "2022-03-07T09:05:02.139896Z",
          "shell.execute_reply.started": "2022-03-07T09:05:02.127659Z",
          "shell.execute_reply": "2022-03-07T09:05:02.138908Z"
        },
        "trusted": true
      },
      "execution_count": null,
      "outputs": []
    },
    {
      "cell_type": "markdown",
      "source": [
        "**Detecting and Handling Multicollinearity using VIF(Variance Inflation Factor.)**"
      ],
      "metadata": {
        "id": "d898-kNzaJRs"
      }
    },
    {
      "cell_type": "code",
      "source": [
        "# creating dataframe for vif\n",
        "vif_data = pd.DataFrame()\n",
        "vif_data['feature'] = x.columns\n",
        "\n",
        "# calculating VIF for each features\n",
        "vif_data['VIF'] = [variance_inflation_factor(x.values, i) for i in range(len(x.columns))]\n",
        "\n",
        "# printing VIF\n",
        "print(vif_data)"
      ],
      "metadata": {
        "execution": {
          "iopub.status.busy": "2022-03-07T09:05:02.141875Z",
          "iopub.execute_input": "2022-03-07T09:05:02.142204Z",
          "iopub.status.idle": "2022-03-07T09:05:03.98029Z",
          "shell.execute_reply.started": "2022-03-07T09:05:02.142168Z",
          "shell.execute_reply": "2022-03-07T09:05:03.979244Z"
        },
        "trusted": true,
        "id": "H_tp6N-vaJRx"
      },
      "execution_count": null,
      "outputs": []
    },
    {
      "cell_type": "code",
      "source": [
        "# dropping some correlated features\n",
        "x.drop(['BILL_AMT6','BILL_AMT5', 'BILL_AMT4', 'BILL_AMT3', 'BILL_AMT2', 'BILL_AMT1'], axis=1, inplace=True)"
      ],
      "metadata": {
        "execution": {
          "iopub.status.busy": "2022-03-07T09:05:03.981799Z",
          "iopub.execute_input": "2022-03-07T09:05:03.982335Z",
          "iopub.status.idle": "2022-03-07T09:05:03.99438Z",
          "shell.execute_reply.started": "2022-03-07T09:05:03.982288Z",
          "shell.execute_reply": "2022-03-07T09:05:03.993015Z"
        },
        "trusted": true,
        "id": "OewPNKrIaJRz"
      },
      "execution_count": null,
      "outputs": []
    },
    {
      "cell_type": "code",
      "source": [
        "x.head()"
      ],
      "metadata": {
        "execution": {
          "iopub.status.busy": "2022-03-07T09:05:03.996413Z",
          "iopub.execute_input": "2022-03-07T09:05:03.997082Z",
          "iopub.status.idle": "2022-03-07T09:05:04.041903Z",
          "shell.execute_reply.started": "2022-03-07T09:05:03.997033Z",
          "shell.execute_reply": "2022-03-07T09:05:04.040838Z"
        },
        "trusted": true,
        "id": "iIVcCMNkaJR1"
      },
      "execution_count": null,
      "outputs": []
    },
    {
      "cell_type": "code",
      "source": [
        "# Split arrays or matrices into random train and test subsets\n",
        "x_train, x_test, y_train, y_test = train_test_split(x, y, stratify=y, test_size=0.33, random_state=1)"
      ],
      "metadata": {
        "id": "3f6d3947",
        "execution": {
          "iopub.status.busy": "2022-03-07T09:05:04.043865Z",
          "iopub.execute_input": "2022-03-07T09:05:04.044511Z",
          "iopub.status.idle": "2022-03-07T09:05:04.081919Z",
          "shell.execute_reply.started": "2022-03-07T09:05:04.044449Z",
          "shell.execute_reply": "2022-03-07T09:05:04.080681Z"
        },
        "trusted": true
      },
      "execution_count": null,
      "outputs": []
    },
    {
      "cell_type": "code",
      "source": [
        "print(x_train.shape)\n",
        "print(x_test.shape)\n",
        "print(y_train.shape)\n",
        "print(y_test.shape)"
      ],
      "metadata": {
        "id": "b07d5526",
        "execution": {
          "iopub.status.busy": "2022-03-07T09:05:04.083926Z",
          "iopub.execute_input": "2022-03-07T09:05:04.084559Z",
          "iopub.status.idle": "2022-03-07T09:05:04.092774Z",
          "shell.execute_reply.started": "2022-03-07T09:05:04.08451Z",
          "shell.execute_reply": "2022-03-07T09:05:04.091965Z"
        },
        "trusted": true
      },
      "execution_count": null,
      "outputs": []
    },
    {
      "cell_type": "markdown",
      "source": [
        "**Data Transformation**\n",
        "\n",
        "Data transformation is the process of Changing the scale or distribution of variables."
      ],
      "metadata": {
        "id": "16d83e19"
      }
    },
    {
      "cell_type": "code",
      "source": [
        "# Transform features by scaling each feature to a given range.\n",
        "# Standardize features by removing the mean and scaling to unit variance.\n",
        "mn = MinMaxScaler()"
      ],
      "metadata": {
        "id": "7d4efd19",
        "execution": {
          "iopub.status.busy": "2022-03-07T09:05:04.093921Z",
          "iopub.execute_input": "2022-03-07T09:05:04.094286Z",
          "iopub.status.idle": "2022-03-07T09:05:04.103424Z",
          "shell.execute_reply.started": "2022-03-07T09:05:04.094254Z",
          "shell.execute_reply": "2022-03-07T09:05:04.102674Z"
        },
        "trusted": true
      },
      "execution_count": null,
      "outputs": []
    },
    {
      "cell_type": "code",
      "source": [
        "# specifying columns to transform\n",
        "scale_col = ['LIMIT_BAL', 'PAY_AMT1', 'PAY_AMT2', 'PAY_AMT3', 'PAY_AMT4', 'PAY_AMT5', 'PAY_AMT6']\n",
        "\n",
        "# Fit to data, then transform it.\n",
        "x_train[scale_col] = mn.fit_transform(x_train[scale_col])\n",
        "# Fit to data, then transform it.\n",
        "x_test[scale_col] = mn.fit_transform(x_test[scale_col])"
      ],
      "metadata": {
        "id": "eec9e277",
        "execution": {
          "iopub.status.busy": "2022-03-07T09:05:04.104951Z",
          "iopub.execute_input": "2022-03-07T09:05:04.105413Z",
          "iopub.status.idle": "2022-03-07T09:05:04.13497Z",
          "shell.execute_reply.started": "2022-03-07T09:05:04.10538Z",
          "shell.execute_reply": "2022-03-07T09:05:04.133907Z"
        },
        "trusted": true
      },
      "execution_count": null,
      "outputs": []
    },
    {
      "cell_type": "markdown",
      "source": [
        "**Imbalanced Datasets**\n",
        "\n",
        "Imbalanced Dataset is a problem of when there is an unequal distribution of classes in the training dataset.\n",
        "\n",
        "The credit card default datasets in imbalanced with about 23364 of non default and \n",
        "about 6636 of default"
      ],
      "metadata": {
        "id": "ad8f553b"
      }
    },
    {
      "cell_type": "code",
      "source": [
        "# Class to perform over-sampling using SMOTE. \n",
        "sm = SMOTE()"
      ],
      "metadata": {
        "id": "0c3eb7c6",
        "execution": {
          "iopub.status.busy": "2022-03-07T09:05:04.136475Z",
          "iopub.execute_input": "2022-03-07T09:05:04.136846Z",
          "iopub.status.idle": "2022-03-07T09:05:04.141363Z",
          "shell.execute_reply.started": "2022-03-07T09:05:04.136806Z",
          "shell.execute_reply": "2022-03-07T09:05:04.140542Z"
        },
        "trusted": true
      },
      "execution_count": null,
      "outputs": []
    },
    {
      "cell_type": "code",
      "source": [
        "# Resample the dataset.\n",
        "x_train_sm, y_train_sm = sm.fit_resample(x_train, y_train)"
      ],
      "metadata": {
        "id": "f5eba1eb",
        "execution": {
          "iopub.status.busy": "2022-03-07T09:05:04.142475Z",
          "iopub.execute_input": "2022-03-07T09:05:04.142836Z",
          "iopub.status.idle": "2022-03-07T09:05:04.7124Z",
          "shell.execute_reply.started": "2022-03-07T09:05:04.14277Z",
          "shell.execute_reply": "2022-03-07T09:05:04.711687Z"
        },
        "trusted": true
      },
      "execution_count": null,
      "outputs": []
    },
    {
      "cell_type": "code",
      "source": [
        "print('Original dataset shape:- {}'.format(Counter(y_train)))\n",
        "print('Reshaped dataset shape:- {}'.format(Counter(y_train_sm)))"
      ],
      "metadata": {
        "id": "9f204ae1",
        "execution": {
          "iopub.status.busy": "2022-03-07T09:05:04.713845Z",
          "iopub.execute_input": "2022-03-07T09:05:04.714276Z",
          "iopub.status.idle": "2022-03-07T09:05:04.729855Z",
          "shell.execute_reply.started": "2022-03-07T09:05:04.714223Z",
          "shell.execute_reply": "2022-03-07T09:05:04.72859Z"
        },
        "trusted": true
      },
      "execution_count": null,
      "outputs": []
    },
    {
      "cell_type": "markdown",
      "source": [
        "**Confusion Matrix Function**\n",
        "\n",
        "This will help in various calculation"
      ],
      "metadata": {
        "id": "q2Z5YblTqUKD"
      }
    },
    {
      "cell_type": "code",
      "source": [
        "# function name : evaluate_model\n",
        "# argumet : y_true, y_predicted\n",
        "# prints Confusion matrix\n",
        "\n",
        "def evaluate_model(y_true, y_predicted, print_score=False):\n",
        "    confusion = metrics.confusion_matrix(y_true, y_predicted)\n",
        "    # Predicted     not_converted    converted\n",
        "    # Actual\n",
        "    # not_converted        TN         FP\n",
        "    # converted            FN         TP\n",
        "\n",
        "    TP = confusion[1,1] # true positive \n",
        "    TN = confusion[0,0] # true negatives\n",
        "    FP = confusion[0,1] # false positives\n",
        "    FN = confusion[1,0] # false negatives\n",
        "\n",
        "    accuracy_sc = metrics.accuracy_score(y_true, y_predicted)\n",
        "    sensitivity_score = TP / float(TP+FN) #TPR\n",
        "    specificity_score = TN / float(TN+FP) #TNR\n",
        "    precision_sc = precision_score(y_true, y_predicted)\n",
        "    FPR = FP/float(FP+TN)\n",
        "    F1_Score = 2 * (precision_sc* sensitivity_score) / (precision_sc + sensitivity_score)\n",
        "    #YJS = sensitivity_score+specificity_score -1\n",
        "    #YJS = sensitivity_score-FPR\n",
        "    #YJS = precision_sc+accuracy_sc+specificity_score-2 # Min FP\n",
        "    YJS =sensitivity_score+accuracy_sc+specificity_score-2 # Min FN\n",
        "    \n",
        "    if print_score:\n",
        "        print(\"Confusion Matrix :\\n\", confusion)\n",
        "        print(\"Accuracy :\", accuracy_sc)\n",
        "        print(\"Sensitivity :\", sensitivity_score)\n",
        "        print(\"Specificity :\", specificity_score)\n",
        "        print(\"Precision :\", precision_sc)\n",
        "        print(\"FPR :\", FPR) \n",
        "        print(\"YJS (TPR-FPR) :\", YJS)\n",
        "        print(\"F1 Score :\", F1_Score)\n",
        "        \n",
        "    return accuracy_sc, sensitivity_score, specificity_score, precision_sc,YJS,F1_Score"
      ],
      "metadata": {
        "id": "54jZ_BOfqIcs",
        "execution": {
          "iopub.status.busy": "2022-03-07T09:05:04.736285Z",
          "iopub.execute_input": "2022-03-07T09:05:04.736763Z",
          "iopub.status.idle": "2022-03-07T09:05:04.74639Z",
          "shell.execute_reply.started": "2022-03-07T09:05:04.736723Z",
          "shell.execute_reply": "2022-03-07T09:05:04.745681Z"
        },
        "trusted": true
      },
      "execution_count": null,
      "outputs": []
    },
    {
      "cell_type": "markdown",
      "source": [
        "**Model Building**"
      ],
      "metadata": {
        "id": "f6c8369d"
      }
    },
    {
      "cell_type": "code",
      "source": [
        "# Pipeline of transforms with a final estimator.\n",
        "pipe_logit = Pipeline([\n",
        "    # Principal component analysis (PCA).\n",
        "    ('selection', PCA()),\n",
        "    # Implementing Logistic Regression Classifier.\n",
        "    ('lr', LogisticRegression(C=0.1, penalty='elasticnet', solver='saga', l1_ratio=0.5, multi_class='ovr', random_state=10))\n",
        "])\n",
        "# Fit the model and transform with the final estimator\n",
        "pipe_logit.fit(x_train_sm, y_train_sm)"
      ],
      "metadata": {
        "id": "1b3f72ef",
        "execution": {
          "iopub.status.busy": "2022-03-07T09:05:04.747515Z",
          "iopub.execute_input": "2022-03-07T09:05:04.747789Z",
          "iopub.status.idle": "2022-03-07T09:05:06.247398Z",
          "shell.execute_reply.started": "2022-03-07T09:05:04.747757Z",
          "shell.execute_reply": "2022-03-07T09:05:06.246163Z"
        },
        "trusted": true
      },
      "execution_count": null,
      "outputs": []
    },
    {
      "cell_type": "code",
      "source": [
        "# Repeats Stratified K-Fold n times with different randomization in each repetition.\n",
        "stk_logit = StratifiedKFold(n_splits=8, shuffle=True, random_state=12)\n",
        "\n",
        "# specifying paramtere\n",
        "param_logit = {\n",
        "    'lr__max_iter' : [20000, 30000, 40000]\n",
        "}\n",
        "\n",
        "# Search over specified parameter values with successive halving.\n",
        "gridcv_logit = HalvingGridSearchCV(estimator=pipe_logit, \n",
        "                             param_grid=param_logit, \n",
        "                             cv=stk_logit, random_state=10)\n",
        "# Run fit with all sets of parameters.\n",
        "gridcv_logit.fit(x_train_sm, y_train_sm)"
      ],
      "metadata": {
        "id": "ea63b0e8",
        "execution": {
          "iopub.status.busy": "2022-03-07T09:05:06.249181Z",
          "iopub.execute_input": "2022-03-07T09:05:06.249716Z",
          "iopub.status.idle": "2022-03-07T09:06:07.843041Z",
          "shell.execute_reply.started": "2022-03-07T09:05:06.249662Z",
          "shell.execute_reply": "2022-03-07T09:06:07.841779Z"
        },
        "trusted": true
      },
      "execution_count": null,
      "outputs": []
    },
    {
      "cell_type": "code",
      "source": [
        "# cross-validated score of the best_estimator.\n",
        "gridcv_logit.best_score_"
      ],
      "metadata": {
        "id": "99283ff5",
        "execution": {
          "iopub.status.busy": "2022-03-07T09:06:07.844542Z",
          "iopub.execute_input": "2022-03-07T09:06:07.845783Z",
          "iopub.status.idle": "2022-03-07T09:06:07.854312Z",
          "shell.execute_reply.started": "2022-03-07T09:06:07.845726Z",
          "shell.execute_reply": "2022-03-07T09:06:07.852871Z"
        },
        "trusted": true
      },
      "execution_count": null,
      "outputs": []
    },
    {
      "cell_type": "code",
      "source": [
        "# \n",
        "y_pred_logit = gridcv_logit.predict(x_test)"
      ],
      "metadata": {
        "id": "1c487a9b",
        "execution": {
          "iopub.status.busy": "2022-03-07T09:06:07.856588Z",
          "iopub.execute_input": "2022-03-07T09:06:07.857018Z",
          "iopub.status.idle": "2022-03-07T09:06:07.878321Z",
          "shell.execute_reply.started": "2022-03-07T09:06:07.856967Z",
          "shell.execute_reply": "2022-03-07T09:06:07.877074Z"
        },
        "trusted": true
      },
      "execution_count": null,
      "outputs": []
    },
    {
      "cell_type": "code",
      "source": [
        "# Compute confusion matrix to evaluate the accuracy of a classification.\n",
        "Logistic_mod =list(evaluate_model(y_test, y_pred_logit, print_score=True))"
      ],
      "metadata": {
        "id": "eYU7yKCuSfJC",
        "execution": {
          "iopub.status.busy": "2022-03-07T09:06:07.886361Z",
          "iopub.execute_input": "2022-03-07T09:06:07.89064Z",
          "iopub.status.idle": "2022-03-07T09:06:07.926151Z",
          "shell.execute_reply.started": "2022-03-07T09:06:07.890444Z",
          "shell.execute_reply": "2022-03-07T09:06:07.924897Z"
        },
        "trusted": true
      },
      "execution_count": null,
      "outputs": []
    },
    {
      "cell_type": "code",
      "source": [
        "# Plot Receiver operating characteristic (ROC) curve\n",
        "plot_roc_curve(pipe_logit, x_train_sm, y_train_sm)\n",
        "plt.show()"
      ],
      "metadata": {
        "id": "_Q0ncHlDS28Z",
        "execution": {
          "iopub.status.busy": "2022-03-07T09:06:07.934215Z",
          "iopub.execute_input": "2022-03-07T09:06:07.939115Z",
          "iopub.status.idle": "2022-03-07T09:06:08.309133Z",
          "shell.execute_reply.started": "2022-03-07T09:06:07.939019Z",
          "shell.execute_reply": "2022-03-07T09:06:08.308371Z"
        },
        "trusted": true
      },
      "execution_count": null,
      "outputs": []
    },
    {
      "cell_type": "code",
      "source": [
        "# Determines cross-validated training and test scores for different training set sizes.\n",
        "#print(learning_curve(pipe_logit, x, y, cv=5, scoring='accuracy'))"
      ],
      "metadata": {
        "execution": {
          "iopub.status.busy": "2022-03-07T09:06:08.310153Z",
          "iopub.execute_input": "2022-03-07T09:06:08.310517Z",
          "iopub.status.idle": "2022-03-07T09:06:08.31576Z",
          "shell.execute_reply.started": "2022-03-07T09:06:08.310485Z",
          "shell.execute_reply": "2022-03-07T09:06:08.314438Z"
        },
        "trusted": true,
        "id": "BnnsJ3ooaJSV"
      },
      "execution_count": null,
      "outputs": []
    },
    {
      "cell_type": "code",
      "source": [
        "# Determine training and test scores for varying parameter values.\n",
        "#print(validation_curve(pipe_logit, x, y, cv=5, scoring='accuracy'))"
      ],
      "metadata": {
        "execution": {
          "iopub.status.busy": "2022-03-07T09:06:08.317124Z",
          "iopub.execute_input": "2022-03-07T09:06:08.317414Z",
          "iopub.status.idle": "2022-03-07T09:06:08.331116Z",
          "shell.execute_reply.started": "2022-03-07T09:06:08.31738Z",
          "shell.execute_reply": "2022-03-07T09:06:08.33041Z"
        },
        "trusted": true,
        "id": "p113Et92aJSW"
      },
      "execution_count": null,
      "outputs": []
    },
    {
      "cell_type": "markdown",
      "source": [
        "**KNeighborClassifier with Cross-validation and hyper-parameter**"
      ],
      "metadata": {
        "id": "QiZZx3mnsiKt"
      }
    },
    {
      "cell_type": "code",
      "source": [
        "# Pipeline of transforms with a final estimator.\n",
        "pipe_knn = Pipeline([\n",
        "    # Principal component analysis (PCA).\n",
        "    ('selection', PCA()),\n",
        "    # Classifier implementing the k-nearest neighbors vote.\n",
        "    ('knn', KNeighborsClassifier())\n",
        "])\n",
        "# Fit the model and transform with the final estimator\n",
        "pipe_knn.fit(x_train_sm, y_train_sm)"
      ],
      "metadata": {
        "id": "xJVksNCTUgYm",
        "execution": {
          "iopub.status.busy": "2022-03-07T09:06:08.332315Z",
          "iopub.execute_input": "2022-03-07T09:06:08.333795Z",
          "iopub.status.idle": "2022-03-07T09:06:08.38228Z",
          "shell.execute_reply.started": "2022-03-07T09:06:08.333749Z",
          "shell.execute_reply": "2022-03-07T09:06:08.380928Z"
        },
        "trusted": true
      },
      "execution_count": null,
      "outputs": []
    },
    {
      "cell_type": "code",
      "source": [
        "# Repeats Stratified K-Fold n times with different randomization in each repetition.\n",
        "stk_knn = StratifiedKFold(n_splits=8, shuffle=True, random_state=12)\n",
        "\n",
        "# specifying paramtere\n",
        "param_knn = {\n",
        "    'knn__n_neighbors' : [3, 5, 6]\n",
        "}\n",
        "\n",
        "# Search over specified parameter values with successive halving.\n",
        "gridcv_knn = HalvingGridSearchCV(estimator=pipe_knn, \n",
        "                                 param_grid=param_knn, \n",
        "                                 cv=stk_knn, random_state=10)\n",
        "# Run fit with all sets of parameters.\n",
        "gridcv_knn.fit(x_train_sm, y_train_sm)"
      ],
      "metadata": {
        "id": "l7qvJ58KunI9",
        "execution": {
          "iopub.status.busy": "2022-03-07T09:06:08.383942Z",
          "iopub.execute_input": "2022-03-07T09:06:08.384304Z",
          "iopub.status.idle": "2022-03-07T09:08:55.701413Z",
          "shell.execute_reply.started": "2022-03-07T09:06:08.384255Z",
          "shell.execute_reply": "2022-03-07T09:08:55.699804Z"
        },
        "trusted": true
      },
      "execution_count": null,
      "outputs": []
    },
    {
      "cell_type": "code",
      "source": [
        "# cross-validated score of the best_estimator.\n",
        "gridcv_knn.best_score_"
      ],
      "metadata": {
        "id": "uAYrGGjYvtEd",
        "execution": {
          "iopub.status.busy": "2022-03-07T09:08:55.703495Z",
          "iopub.execute_input": "2022-03-07T09:08:55.70407Z",
          "iopub.status.idle": "2022-03-07T09:08:55.714956Z",
          "shell.execute_reply.started": "2022-03-07T09:08:55.704017Z",
          "shell.execute_reply": "2022-03-07T09:08:55.713674Z"
        },
        "trusted": true
      },
      "execution_count": null,
      "outputs": []
    },
    {
      "cell_type": "code",
      "source": [
        "# \n",
        "y_pred_knn = gridcv_knn.predict(x_test)"
      ],
      "metadata": {
        "id": "XykprWBKVYjq",
        "execution": {
          "iopub.status.busy": "2022-03-07T09:08:55.716611Z",
          "iopub.execute_input": "2022-03-07T09:08:55.717237Z",
          "iopub.status.idle": "2022-03-07T09:09:00.578555Z",
          "shell.execute_reply.started": "2022-03-07T09:08:55.717188Z",
          "shell.execute_reply": "2022-03-07T09:09:00.577099Z"
        },
        "trusted": true
      },
      "execution_count": null,
      "outputs": []
    },
    {
      "cell_type": "code",
      "source": [
        "# Compute confusion matrix to evaluate the accuracy of a classification.\n",
        "Knn_mod = list(evaluate_model(y_test, y_pred_knn, print_score=True))"
      ],
      "metadata": {
        "id": "ymc7Z-LBVQdH",
        "execution": {
          "iopub.status.busy": "2022-03-07T09:09:00.579995Z",
          "iopub.execute_input": "2022-03-07T09:09:00.580254Z",
          "iopub.status.idle": "2022-03-07T09:09:00.598661Z",
          "shell.execute_reply.started": "2022-03-07T09:09:00.580222Z",
          "shell.execute_reply": "2022-03-07T09:09:00.595891Z"
        },
        "trusted": true
      },
      "execution_count": null,
      "outputs": []
    },
    {
      "cell_type": "code",
      "source": [
        "# Plot Receiver operating characteristic (ROC) curve\n",
        "plot_roc_curve(pipe_knn, x_train_sm, y_train_sm)"
      ],
      "metadata": {
        "id": "2gS9Sqo3U7T2",
        "execution": {
          "iopub.status.busy": "2022-03-07T09:09:00.600304Z",
          "iopub.execute_input": "2022-03-07T09:09:00.600535Z",
          "iopub.status.idle": "2022-03-07T09:09:20.763008Z",
          "shell.execute_reply.started": "2022-03-07T09:09:00.600505Z",
          "shell.execute_reply": "2022-03-07T09:09:20.761596Z"
        },
        "trusted": true
      },
      "execution_count": null,
      "outputs": []
    },
    {
      "cell_type": "markdown",
      "source": [
        "**HistGradientBoostingClassifier with Cross-validation and hyper-parameter turning**"
      ],
      "metadata": {
        "id": "650b7d5a"
      }
    },
    {
      "cell_type": "code",
      "source": [
        "# Pipeline of transforms with a final estimator.\n",
        "pipe_hist = Pipeline([\n",
        "    # Principal component analysis (PCA)\n",
        "    ('selection', PCA()),\n",
        "    # Histogram-based Gradient Boosting Classification Tree.\n",
        "    ('hist', HistGradientBoostingClassifier(loss='binary_crossentropy', learning_rate=0.01, validation_fraction=0.2, random_state=1))\n",
        "])\n",
        "# Fit the model and transform with the final estimator\n",
        "pipe_hist.fit(x_train_sm, y_train_sm)"
      ],
      "metadata": {
        "id": "c073fd7d",
        "execution": {
          "iopub.status.busy": "2022-03-07T09:09:20.764856Z",
          "iopub.execute_input": "2022-03-07T09:09:20.76523Z",
          "iopub.status.idle": "2022-03-07T09:09:22.172349Z",
          "shell.execute_reply.started": "2022-03-07T09:09:20.765181Z",
          "shell.execute_reply": "2022-03-07T09:09:22.17137Z"
        },
        "trusted": true
      },
      "execution_count": null,
      "outputs": []
    },
    {
      "cell_type": "code",
      "source": [
        "# Repeats Stratified K-Fold n times with different randomization in each repetition.\n",
        "stk_hist = StratifiedKFold(n_splits=8, shuffle=True, random_state=12)\n",
        "\n",
        "# specifying paramtere\n",
        "param_hist = {\n",
        "    'hist__max_iter' : [200, 300, 400]\n",
        "}\n",
        "\n",
        "# Search over specified parameter values with successive halving.\n",
        "gridcv_hist = HalvingGridSearchCV(estimator=pipe_hist, \n",
        "                                  param_grid=param_hist, \n",
        "                                  cv=stk_hist, random_state=10)\n",
        "# Run fit with all sets of parameters.\n",
        "gridcv_hist.fit(x_train_sm, y_train_sm)"
      ],
      "metadata": {
        "id": "wK-p2rnxwzUh",
        "execution": {
          "iopub.status.busy": "2022-03-07T09:09:22.173785Z",
          "iopub.execute_input": "2022-03-07T09:09:22.174439Z",
          "iopub.status.idle": "2022-03-07T09:11:25.597354Z",
          "shell.execute_reply.started": "2022-03-07T09:09:22.174401Z",
          "shell.execute_reply": "2022-03-07T09:11:25.596357Z"
        },
        "trusted": true
      },
      "execution_count": null,
      "outputs": []
    },
    {
      "cell_type": "code",
      "source": [
        "# cross-validated score of the best_estimator.\n",
        "gridcv_hist.best_score_"
      ],
      "metadata": {
        "id": "AlJD4zdfx8di",
        "execution": {
          "iopub.status.busy": "2022-03-07T09:11:25.598545Z",
          "iopub.execute_input": "2022-03-07T09:11:25.598807Z",
          "iopub.status.idle": "2022-03-07T09:11:25.606956Z",
          "shell.execute_reply.started": "2022-03-07T09:11:25.598776Z",
          "shell.execute_reply": "2022-03-07T09:11:25.605778Z"
        },
        "trusted": true
      },
      "execution_count": null,
      "outputs": []
    },
    {
      "cell_type": "code",
      "source": [
        "# \n",
        "y_pred_hist = gridcv_hist.predict(x_test)"
      ],
      "metadata": {
        "id": "i6ggSHY4dghx",
        "execution": {
          "iopub.status.busy": "2022-03-07T09:11:25.608902Z",
          "iopub.execute_input": "2022-03-07T09:11:25.609925Z",
          "iopub.status.idle": "2022-03-07T09:11:25.896165Z",
          "shell.execute_reply.started": "2022-03-07T09:11:25.609867Z",
          "shell.execute_reply": "2022-03-07T09:11:25.895456Z"
        },
        "trusted": true
      },
      "execution_count": null,
      "outputs": []
    },
    {
      "cell_type": "code",
      "source": [
        "# Compute confusion matrix to evaluate the accuracy of a classification.\n",
        "Hist_Grad_boost = list(evaluate_model(y_test, y_pred_hist, print_score=True))"
      ],
      "metadata": {
        "id": "Y4usy-Qbdsxo",
        "execution": {
          "iopub.status.busy": "2022-03-07T09:11:25.89745Z",
          "iopub.execute_input": "2022-03-07T09:11:25.898401Z",
          "iopub.status.idle": "2022-03-07T09:11:25.914045Z",
          "shell.execute_reply.started": "2022-03-07T09:11:25.89836Z",
          "shell.execute_reply": "2022-03-07T09:11:25.912011Z"
        },
        "trusted": true
      },
      "execution_count": null,
      "outputs": []
    },
    {
      "cell_type": "code",
      "source": [
        "# Plot Receiver operating characteristic (ROC) curve\n",
        "plot_roc_curve(pipe_hist, x_train_sm, y_train_sm)"
      ],
      "metadata": {
        "id": "6JwY_cDHda0G",
        "execution": {
          "iopub.status.busy": "2022-03-07T09:11:25.915341Z",
          "iopub.execute_input": "2022-03-07T09:11:25.915676Z",
          "iopub.status.idle": "2022-03-07T09:11:26.417582Z",
          "shell.execute_reply.started": "2022-03-07T09:11:25.915606Z",
          "shell.execute_reply": "2022-03-07T09:11:26.416548Z"
        },
        "trusted": true
      },
      "execution_count": null,
      "outputs": []
    },
    {
      "cell_type": "markdown",
      "source": [
        "**XGBClassifier with Cross-validation and Hyper-parameter**"
      ],
      "metadata": {
        "id": "nH3RfByve99P"
      }
    },
    {
      "cell_type": "code",
      "source": [
        "# Pipeline of transforms with a final estimator.\n",
        "pipe_xgb = Pipeline([\n",
        "    # Principal component analysis (PCA)\n",
        "    ('selection', PCA()),\n",
        "    # Implementation of the scikit-learn API for XGBoost classification.\n",
        "    ('xgb', XGBClassifier(booster='gbtree', max_depth=10, learning_rate=0.01, random_state=22))\n",
        "])\n",
        "# Fit the model and transform with the final estimator\n",
        "pipe_xgb.fit(x_train_sm, y_train_sm)"
      ],
      "metadata": {
        "id": "997cc9d2",
        "execution": {
          "iopub.status.busy": "2022-03-07T09:11:26.418847Z",
          "iopub.execute_input": "2022-03-07T09:11:26.41908Z",
          "iopub.status.idle": "2022-03-07T09:11:41.811487Z",
          "shell.execute_reply.started": "2022-03-07T09:11:26.41905Z",
          "shell.execute_reply": "2022-03-07T09:11:41.810591Z"
        },
        "trusted": true
      },
      "execution_count": null,
      "outputs": []
    },
    {
      "cell_type": "code",
      "source": [
        "# Provides train/test indices to split data in train/test sets.\n",
        "stk_xgb = StratifiedKFold(n_splits=8, shuffle=True, random_state=12)\n",
        "\n",
        "# specifying paramtere\n",
        "param_xgb = {\n",
        "    'xgb__n_estimators' : [200, 300, 400]\n",
        "}\n",
        "\n",
        "# Search over specified parameter values with successive halving.\n",
        "gridcv_xgb = HalvingGridSearchCV(estimator=pipe_xgb, \n",
        "                                  param_grid=param_xgb, \n",
        "                                  cv=stk_xgb, random_state=10)\n",
        "# Run fit with all sets of parameters.\n",
        "gridcv_xgb.fit(x_train_sm, y_train_sm)"
      ],
      "metadata": {
        "id": "tljU51_f01nE",
        "execution": {
          "iopub.status.busy": "2022-03-07T09:11:41.812826Z",
          "iopub.execute_input": "2022-03-07T09:11:41.813081Z",
          "iopub.status.idle": "2022-03-07T09:24:52.132499Z",
          "shell.execute_reply.started": "2022-03-07T09:11:41.813049Z",
          "shell.execute_reply": "2022-03-07T09:24:52.131377Z"
        },
        "collapsed": true,
        "jupyter": {
          "outputs_hidden": true
        },
        "trusted": true
      },
      "execution_count": null,
      "outputs": []
    },
    {
      "cell_type": "code",
      "source": [
        "print(\"Best XGBClassifier Parameter: {}\".format(gridcv_xgb.best_params_))"
      ],
      "metadata": {
        "execution": {
          "iopub.status.busy": "2022-03-07T09:24:52.134208Z",
          "iopub.execute_input": "2022-03-07T09:24:52.134783Z",
          "iopub.status.idle": "2022-03-07T09:24:52.141089Z",
          "shell.execute_reply.started": "2022-03-07T09:24:52.134732Z",
          "shell.execute_reply": "2022-03-07T09:24:52.140071Z"
        },
        "trusted": true,
        "id": "qOk-bni5aJS3"
      },
      "execution_count": null,
      "outputs": []
    },
    {
      "cell_type": "code",
      "source": [
        "# cross-validated score of the best_estimator.\n",
        "gridcv_xgb.best_score_"
      ],
      "metadata": {
        "id": "koB3t-_I1IxO",
        "execution": {
          "iopub.status.busy": "2022-03-07T09:24:52.142822Z",
          "iopub.execute_input": "2022-03-07T09:24:52.143287Z",
          "iopub.status.idle": "2022-03-07T09:24:52.157175Z",
          "shell.execute_reply.started": "2022-03-07T09:24:52.143237Z",
          "shell.execute_reply": "2022-03-07T09:24:52.155964Z"
        },
        "trusted": true
      },
      "execution_count": null,
      "outputs": []
    },
    {
      "cell_type": "markdown",
      "source": [
        "**Using Mlflow for Tracking our Project**\n",
        "\n",
        "MLflow is an Open Source tool to manage the life cycle of machine learning models. To do this, it has several main aspects:\n",
        "\n",
        "Tracking : records the results and parameters of the models to be able to compare them.\n",
        "Projects : packages the code in such a way that be reproducible.\n",
        "Models : allows you to manage the versioning of models, as well as put ML models into production as an endpoint. "
      ],
      "metadata": {
        "id": "T4UQBKDxaJS6"
      }
    },
    {
      "cell_type": "code",
      "source": [
        "# Set the tracking server URI.\n",
        "mlflow.set_tracking_uri('file:///kaggle/working/mlruns')"
      ],
      "metadata": {
        "execution": {
          "iopub.status.busy": "2022-03-07T09:24:52.158422Z",
          "iopub.execute_input": "2022-03-07T09:24:52.158681Z",
          "iopub.status.idle": "2022-03-07T09:24:52.169636Z",
          "shell.execute_reply.started": "2022-03-07T09:24:52.158632Z",
          "shell.execute_reply": "2022-03-07T09:24:52.168652Z"
        },
        "trusted": true,
        "id": "_Ryf7ZknaJS7"
      },
      "execution_count": null,
      "outputs": []
    },
    {
      "cell_type": "code",
      "source": [
        "# Set the given experiment as the active experiment.\n",
        "set_experiment(\"Credit Card Default Prediction.\")\n",
        "ml_experiment_id = 1"
      ],
      "metadata": {
        "execution": {
          "iopub.status.busy": "2022-03-07T09:24:52.171749Z",
          "iopub.execute_input": "2022-03-07T09:24:52.172471Z",
          "iopub.status.idle": "2022-03-07T09:24:52.194882Z",
          "shell.execute_reply.started": "2022-03-07T09:24:52.172422Z",
          "shell.execute_reply": "2022-03-07T09:24:52.193941Z"
        },
        "trusted": true,
        "id": "5TpbF4e5aJS8"
      },
      "execution_count": null,
      "outputs": []
    },
    {
      "cell_type": "code",
      "source": [
        "# Start a new MLflow run\n",
        "with mlflow.start_run(experiment_id=ml_experiment_id):\n",
        "    \n",
        "    # Log a batch of params for the current run.\n",
        "    log_params(gridcv_xgb.best_params_)\n",
        "    \n",
        "    # get prediction on x data\n",
        "    y_pred_xgb = gridcv_xgb.predict(x_test)\n",
        "    \n",
        "    # calculating accuracy, precision and recall\n",
        "    # Accuracy classification score.\n",
        "    accuracy = accuracy_score(y_test, y_pred_xgb)\n",
        "    # Compute the precision.\n",
        "    precision  = precision_score(y_test, y_pred_xgb, average='weighted')\n",
        "    # Compute the F1 score, also known as balanced F-score or F-measure.\n",
        "    f1 = f1_score(y_test, y_pred_xgb, average='weighted')\n",
        "    \n",
        "    # log parameter\n",
        "    metrics = {\n",
        "        \"accuracy\":accuracy,\n",
        "        \"precision\":precision,\n",
        "        \"f1 score\": f1\n",
        "    }\n",
        "    \n",
        "    # Log multiple metrics for the current run.\n",
        "    log_metrics(metrics)\n",
        "    \n",
        "    # log a local file or directory as an artifact of the currently active run\n",
        "    log_artifact(local_path='../input/uci-credit-card/UCI_Credit_Card.csv', artifact_path='default.payment.next.month')\n",
        "    \n",
        "    # Log a scikit-learn model as an MLflow artifact for the current run.\n",
        "    mlflow.sklearn.log_model(gridcv_xgb, \"gridcv_xgb_model\")"
      ],
      "metadata": {
        "execution": {
          "iopub.status.busy": "2022-03-07T09:24:52.197072Z",
          "iopub.execute_input": "2022-03-07T09:24:52.197671Z",
          "iopub.status.idle": "2022-03-07T09:24:59.540183Z",
          "shell.execute_reply.started": "2022-03-07T09:24:52.197598Z",
          "shell.execute_reply": "2022-03-07T09:24:59.539029Z"
        },
        "trusted": true,
        "id": "c-rTYpPDaJS-"
      },
      "execution_count": null,
      "outputs": []
    },
    {
      "cell_type": "code",
      "source": [
        "y_pred_xgb = gridcv_xgb.predict(x_test)"
      ],
      "metadata": {
        "id": "KV_mtcmnd45v",
        "execution": {
          "iopub.status.busy": "2022-03-07T09:24:59.541861Z",
          "iopub.execute_input": "2022-03-07T09:24:59.542105Z",
          "iopub.status.idle": "2022-03-07T09:24:59.726401Z",
          "shell.execute_reply.started": "2022-03-07T09:24:59.542074Z",
          "shell.execute_reply": "2022-03-07T09:24:59.72568Z"
        },
        "trusted": true
      },
      "execution_count": null,
      "outputs": []
    },
    {
      "cell_type": "code",
      "source": [
        "# Compute confusion matrix to evaluate the accuracy of a classification.\n",
        "#XGB_mod = list(evaluate_model(y_test, y_pred_xgb, print_score=True))"
      ],
      "metadata": {
        "id": "u5gTxFJGd4aE",
        "execution": {
          "iopub.status.busy": "2022-03-07T09:24:59.730216Z",
          "iopub.execute_input": "2022-03-07T09:24:59.730855Z",
          "iopub.status.idle": "2022-03-07T09:24:59.736175Z",
          "shell.execute_reply.started": "2022-03-07T09:24:59.730817Z",
          "shell.execute_reply": "2022-03-07T09:24:59.734705Z"
        },
        "trusted": true
      },
      "execution_count": null,
      "outputs": []
    },
    {
      "cell_type": "code",
      "source": [
        "# Plot Receiver operating characteristic (ROC) curve\n",
        "plot_roc_curve(pipe_xgb, x_train_sm, y_train_sm)"
      ],
      "metadata": {
        "id": "vgTqGeRmd4Bn",
        "execution": {
          "iopub.status.busy": "2022-03-07T09:24:59.737432Z",
          "iopub.execute_input": "2022-03-07T09:24:59.737924Z",
          "iopub.status.idle": "2022-03-07T09:25:00.25677Z",
          "shell.execute_reply.started": "2022-03-07T09:24:59.737874Z",
          "shell.execute_reply": "2022-03-07T09:25:00.25585Z"
        },
        "trusted": true
      },
      "execution_count": null,
      "outputs": []
    },
    {
      "cell_type": "markdown",
      "source": [
        "**Random Forest Classifier with Cross_validation and hyper-parameter turning**"
      ],
      "metadata": {
        "id": "xDdFPsl29jWz"
      }
    },
    {
      "cell_type": "code",
      "source": [
        "# Pipeline of transforms with a final estimator.\n",
        "pipe_rfc = Pipeline([\n",
        "    # Principal component analysis (PCA)\n",
        "    ('selection', PCA()), \n",
        "    # A random forest is a meta estimator that fits a number of decision tree\n",
        "    ('rf', RandomForestClassifier(max_depth=8, oob_score=True, n_jobs=-1, random_state=400))\n",
        "])\n",
        "# Fit the model and transform with the final estimator\n",
        "pipe_rfc.fit(x_train_sm, y_train_sm)"
      ],
      "metadata": {
        "id": "YcVyGAEY8n5W",
        "execution": {
          "iopub.status.busy": "2022-03-07T09:25:00.258082Z",
          "iopub.execute_input": "2022-03-07T09:25:00.258319Z",
          "iopub.status.idle": "2022-03-07T09:25:03.813919Z",
          "shell.execute_reply.started": "2022-03-07T09:25:00.258287Z",
          "shell.execute_reply": "2022-03-07T09:25:03.812919Z"
        },
        "trusted": true
      },
      "execution_count": null,
      "outputs": []
    },
    {
      "cell_type": "code",
      "source": [
        "# Repeats Stratified K-Fold n times with different randomization in each repetition.\n",
        "stk_rfc = StratifiedKFold(n_splits=8, shuffle=True, random_state=12)\n",
        "\n",
        "# specifying paramtere\n",
        "param_rfc = {\n",
        "    'rf__n_estimators' : [200, 300, 400]\n",
        "}\n",
        "\n",
        "# Search over specified parameter values with successive halving.\n",
        "gridcv_rfc = HalvingGridSearchCV(estimator=pipe_rfc, \n",
        "                                  param_grid=param_rfc, \n",
        "                                  cv=stk_rfc, random_state=10)\n",
        "# Run fit with all sets of parameters.\n",
        "gridcv_rfc.fit(x_train_sm, y_train_sm)"
      ],
      "metadata": {
        "id": "iOjrOzMa3eDt",
        "execution": {
          "iopub.status.busy": "2022-03-07T09:25:03.815033Z",
          "iopub.execute_input": "2022-03-07T09:25:03.815403Z",
          "iopub.status.idle": "2022-03-07T09:27:44.40346Z",
          "shell.execute_reply.started": "2022-03-07T09:25:03.81537Z",
          "shell.execute_reply": "2022-03-07T09:27:44.402167Z"
        },
        "trusted": true
      },
      "execution_count": null,
      "outputs": []
    },
    {
      "cell_type": "code",
      "source": [
        "# cross-validated score of the best_estimator.\n",
        "gridcv_rfc.best_score_"
      ],
      "metadata": {
        "id": "_gfTfMZd3beq",
        "execution": {
          "iopub.status.busy": "2022-03-07T09:27:44.405757Z",
          "iopub.execute_input": "2022-03-07T09:27:44.406142Z",
          "iopub.status.idle": "2022-03-07T09:27:44.41524Z",
          "shell.execute_reply.started": "2022-03-07T09:27:44.406092Z",
          "shell.execute_reply": "2022-03-07T09:27:44.414155Z"
        },
        "trusted": true
      },
      "execution_count": null,
      "outputs": []
    },
    {
      "cell_type": "code",
      "source": [
        "# \n",
        "y_pred_rfc = gridcv_rfc.predict(x_test)"
      ],
      "metadata": {
        "id": "tvVXhuKOjATw",
        "execution": {
          "iopub.status.busy": "2022-03-07T09:27:44.417256Z",
          "iopub.execute_input": "2022-03-07T09:27:44.418254Z",
          "iopub.status.idle": "2022-03-07T09:27:44.637689Z",
          "shell.execute_reply.started": "2022-03-07T09:27:44.418202Z",
          "shell.execute_reply": "2022-03-07T09:27:44.636502Z"
        },
        "trusted": true
      },
      "execution_count": null,
      "outputs": []
    },
    {
      "cell_type": "code",
      "source": [
        "# Compute confusion matrix to evaluate the accuracy of a classification.\n",
        "#rfc_mod = list(evaluate_model(y_test, y_pred_rfc, print_score=True))"
      ],
      "metadata": {
        "id": "aGQmEWO621Vc",
        "execution": {
          "iopub.status.busy": "2022-03-07T09:33:24.26631Z",
          "iopub.execute_input": "2022-03-07T09:33:24.266751Z",
          "iopub.status.idle": "2022-03-07T09:33:24.272705Z",
          "shell.execute_reply.started": "2022-03-07T09:33:24.266697Z",
          "shell.execute_reply": "2022-03-07T09:33:24.271344Z"
        },
        "trusted": true
      },
      "execution_count": null,
      "outputs": []
    },
    {
      "cell_type": "code",
      "source": [
        "# Plot Receiver operating characteristic (ROC) curve\n",
        "plot_roc_curve(pipe_rfc, x_train_sm, y_train_sm)"
      ],
      "metadata": {
        "id": "9LDFtZcLquic",
        "execution": {
          "iopub.status.busy": "2022-03-07T09:33:24.275169Z",
          "iopub.execute_input": "2022-03-07T09:33:24.275567Z",
          "iopub.status.idle": "2022-03-07T09:33:24.821126Z",
          "shell.execute_reply.started": "2022-03-07T09:33:24.275518Z",
          "shell.execute_reply": "2022-03-07T09:33:24.820107Z"
        },
        "trusted": true
      },
      "execution_count": null,
      "outputs": []
    },
    {
      "cell_type": "markdown",
      "source": [
        "**Support Vector Classifier with Cross_validation and hyper-parameter turning**"
      ],
      "metadata": {
        "id": "noenD4jRvrn3"
      }
    },
    {
      "cell_type": "code",
      "source": [
        "# Pipeline of transforms with a final estimator.\n",
        "pipe_svm = Pipeline([\n",
        "    # Principal component analysis (PCA)\n",
        "    ('selection', PCA()), \n",
        "    # C-Support Vector Classification.\n",
        "    ('svm', SVC(kernel='rbf', random_state=2))\n",
        "])\n",
        "# Fit the model and transform with the final estimator\n",
        "pipe_svm.fit(x_train_sm, y_train_sm)"
      ],
      "metadata": {
        "id": "ousRA39au689",
        "execution": {
          "iopub.status.busy": "2022-03-07T09:33:24.823079Z",
          "iopub.execute_input": "2022-03-07T09:33:24.82333Z",
          "iopub.status.idle": "2022-03-07T09:34:14.964382Z",
          "shell.execute_reply.started": "2022-03-07T09:33:24.823298Z",
          "shell.execute_reply": "2022-03-07T09:34:14.963488Z"
        },
        "trusted": true
      },
      "execution_count": null,
      "outputs": []
    },
    {
      "cell_type": "code",
      "source": [
        "# Repeats Stratified K-Fold n times with different randomization in each repetition.\n",
        "stk_svm = StratifiedKFold(n_splits=8, shuffle=True, random_state=12)\n",
        "\n",
        "# specifying paramtere\n",
        "param_svm = {\n",
        "    'svm__C' : [2, 3, 4]\n",
        "}\n",
        "\n",
        "# Search over specified parameter values with successive halving.\n",
        "gridcv_svm = HalvingGridSearchCV(estimator=pipe_svm, \n",
        "                                  param_grid=param_svm, \n",
        "                                  cv=stk_svm, random_state=10)\n",
        "# Run fit with all sets of parameters.\n",
        "gridcv_svm.fit(x_train_sm, y_train_sm)"
      ],
      "metadata": {
        "id": "AE99Euq55UGl",
        "execution": {
          "iopub.status.busy": "2022-03-07T09:34:14.965695Z",
          "iopub.execute_input": "2022-03-07T09:34:14.965926Z",
          "iopub.status.idle": "2022-03-07T09:51:23.891001Z",
          "shell.execute_reply.started": "2022-03-07T09:34:14.965896Z",
          "shell.execute_reply": "2022-03-07T09:51:23.889898Z"
        },
        "trusted": true
      },
      "execution_count": null,
      "outputs": []
    },
    {
      "cell_type": "code",
      "source": [
        "# cross-validated score of the best_estimator.\n",
        "gridcv_svm.best_score_"
      ],
      "metadata": {
        "id": "Mf4lY8uf5BLU",
        "execution": {
          "iopub.status.busy": "2022-03-07T09:51:23.893293Z",
          "iopub.execute_input": "2022-03-07T09:51:23.893572Z",
          "iopub.status.idle": "2022-03-07T09:51:23.899982Z",
          "shell.execute_reply.started": "2022-03-07T09:51:23.893539Z",
          "shell.execute_reply": "2022-03-07T09:51:23.899021Z"
        },
        "trusted": true
      },
      "execution_count": null,
      "outputs": []
    },
    {
      "cell_type": "code",
      "source": [
        "# \n",
        "y_pred_svm = gridcv_svm.predict(x_test)"
      ],
      "metadata": {
        "id": "3YWMLnuY5Ay9",
        "execution": {
          "iopub.status.busy": "2022-03-07T09:51:23.901227Z",
          "iopub.execute_input": "2022-03-07T09:51:23.901455Z",
          "iopub.status.idle": "2022-03-07T09:51:36.880016Z",
          "shell.execute_reply.started": "2022-03-07T09:51:23.901425Z",
          "shell.execute_reply": "2022-03-07T09:51:36.879295Z"
        },
        "trusted": true
      },
      "execution_count": null,
      "outputs": []
    },
    {
      "cell_type": "code",
      "source": [
        "# Compute confusion matrix to evaluate the accuracy of a classification.\n",
        "#svm =list(evaluate_model(y_test, y_pred_svm, print_score=True))"
      ],
      "metadata": {
        "id": "e4q4EiToyG-a",
        "execution": {
          "iopub.status.busy": "2022-03-07T09:52:49.39132Z",
          "iopub.execute_input": "2022-03-07T09:52:49.392157Z",
          "iopub.status.idle": "2022-03-07T09:52:49.396743Z",
          "shell.execute_reply.started": "2022-03-07T09:52:49.39212Z",
          "shell.execute_reply": "2022-03-07T09:52:49.395795Z"
        },
        "trusted": true
      },
      "execution_count": null,
      "outputs": []
    },
    {
      "cell_type": "code",
      "source": [
        "# Plot Receiver operating characteristic (ROC) curve\n",
        "plot_roc_curve(pipe_svm, x_train_sm, y_train_sm)"
      ],
      "metadata": {
        "id": "QPh5_UKq43-N",
        "execution": {
          "iopub.status.busy": "2022-03-07T09:52:52.748211Z",
          "iopub.execute_input": "2022-03-07T09:52:52.748498Z",
          "iopub.status.idle": "2022-03-07T09:53:38.929429Z",
          "shell.execute_reply.started": "2022-03-07T09:52:52.748467Z",
          "shell.execute_reply": "2022-03-07T09:53:38.928173Z"
        },
        "trusted": true
      },
      "execution_count": null,
      "outputs": []
    },
    {
      "cell_type": "markdown",
      "source": [
        "**CatBoost Classifier with Cross_validation and hyper-parameter turning**"
      ],
      "metadata": {
        "id": "KD6M-mDYaJTq"
      }
    },
    {
      "cell_type": "code",
      "source": [
        "# Pipeline of transforms with a final estimator.\n",
        "pipe_cat = Pipeline([\n",
        "    # Principal component analysis (PCA)\n",
        "    ('selection', PCA()), \n",
        "    # mplementation of the scikit-learn API for CatBoost classification.\n",
        "    ('cat', CatBoostClassifier(learning_rate=0.01, depth=8, max_bin=255, random_state=2))\n",
        "])\n",
        "# Fit the model and transform with the final estimator\n",
        "pipe_cat.fit(x_train_sm, y_train_sm)"
      ],
      "metadata": {
        "execution": {
          "iopub.status.busy": "2022-03-07T09:55:06.07205Z",
          "iopub.execute_input": "2022-03-07T09:55:06.072402Z",
          "iopub.status.idle": "2022-03-07T09:55:25.201797Z",
          "shell.execute_reply.started": "2022-03-07T09:55:06.072366Z",
          "shell.execute_reply": "2022-03-07T09:55:25.199811Z"
        },
        "collapsed": true,
        "jupyter": {
          "outputs_hidden": true
        },
        "trusted": true,
        "id": "AhtsgANhaJTw"
      },
      "execution_count": null,
      "outputs": []
    },
    {
      "cell_type": "code",
      "source": [
        "# Repeats Stratified K-Fold n times with different randomization in each repetition.\n",
        "stk_cat = StratifiedKFold(n_splits=8, shuffle=True, random_state=12)\n",
        "\n",
        "# specifying paramtere\n",
        "param_cat = {\n",
        "    'cat__iterations' : [550, 600, 800]\n",
        "}\n",
        "\n",
        "# Search over specified parameter values with successive halving.\n",
        "gridcv_cat = HalvingGridSearchCV(estimator=pipe_cat, \n",
        "                                  param_grid=param_cat, \n",
        "                                  cv=stk_cat, random_state=10)\n",
        "# Run fit with all sets of parameters.\n",
        "gridcv_cat.fit(x_train_sm, y_train_sm)"
      ],
      "metadata": {
        "execution": {
          "iopub.status.busy": "2022-03-07T09:55:25.20407Z",
          "iopub.execute_input": "2022-03-07T09:55:25.204317Z",
          "iopub.status.idle": "2022-03-07T10:00:58.50483Z",
          "shell.execute_reply.started": "2022-03-07T09:55:25.204286Z",
          "shell.execute_reply": "2022-03-07T10:00:58.503703Z"
        },
        "collapsed": true,
        "jupyter": {
          "outputs_hidden": true
        },
        "trusted": true,
        "id": "KbAg6-GlaJTz"
      },
      "execution_count": null,
      "outputs": []
    },
    {
      "cell_type": "code",
      "source": [
        "# cross-validated score of the best_estimator.\n",
        "gridcv_cat.best_score_"
      ],
      "metadata": {
        "execution": {
          "iopub.status.busy": "2022-03-07T10:00:58.508213Z",
          "iopub.execute_input": "2022-03-07T10:00:58.508497Z",
          "iopub.status.idle": "2022-03-07T10:00:58.515504Z",
          "shell.execute_reply.started": "2022-03-07T10:00:58.508463Z",
          "shell.execute_reply": "2022-03-07T10:00:58.513995Z"
        },
        "trusted": true,
        "id": "TIqP1Lg0aJT1"
      },
      "execution_count": null,
      "outputs": []
    },
    {
      "cell_type": "code",
      "source": [
        "# \n",
        "y_pred_cat = gridcv_cat.predict(x_test)"
      ],
      "metadata": {
        "execution": {
          "iopub.status.busy": "2022-03-07T10:00:58.517225Z",
          "iopub.execute_input": "2022-03-07T10:00:58.517552Z",
          "iopub.status.idle": "2022-03-07T10:00:58.691781Z",
          "shell.execute_reply.started": "2022-03-07T10:00:58.517501Z",
          "shell.execute_reply": "2022-03-07T10:00:58.690566Z"
        },
        "trusted": true,
        "id": "cqyhdhkdaJT2"
      },
      "execution_count": null,
      "outputs": []
    },
    {
      "cell_type": "code",
      "source": [
        "# Compute confusion matrix to evaluate the accuracy of a classification.\n",
        "#cat =list(evaluate_model(y_test, y_pred_cat, print_score=True))"
      ],
      "metadata": {
        "execution": {
          "iopub.status.busy": "2022-03-07T10:00:58.694148Z",
          "iopub.execute_input": "2022-03-07T10:00:58.694419Z",
          "iopub.status.idle": "2022-03-07T10:00:58.698752Z",
          "shell.execute_reply.started": "2022-03-07T10:00:58.694387Z",
          "shell.execute_reply": "2022-03-07T10:00:58.697598Z"
        },
        "trusted": true,
        "id": "EAiTRXHqaJT3"
      },
      "execution_count": null,
      "outputs": []
    },
    {
      "cell_type": "code",
      "source": [
        "# Plot Receiver operating characteristic (ROC) curve\n",
        "plot_roc_curve(pipe_cat, x_train_sm, y_train_sm)"
      ],
      "metadata": {
        "execution": {
          "iopub.status.busy": "2022-03-07T10:00:58.70051Z",
          "iopub.execute_input": "2022-03-07T10:00:58.700802Z",
          "iopub.status.idle": "2022-03-07T10:00:59.299444Z",
          "shell.execute_reply.started": "2022-03-07T10:00:58.700769Z",
          "shell.execute_reply": "2022-03-07T10:00:59.298677Z"
        },
        "trusted": true,
        "id": "vniR1HpqaJT5"
      },
      "execution_count": null,
      "outputs": []
    },
    {
      "cell_type": "markdown",
      "source": [
        "**Compare All Models Performance**"
      ],
      "metadata": {
        "id": "-UTDQQBp1ZQd"
      }
    },
    {
      "cell_type": "code",
      "source": [
        "Metrics_name = [\"Accuracy\",\"Sensitivity\",\"Specificity\",\"Precision\",\"YJS\",\"F1-Score\"]\n",
        "zip2 = zip(Logistic_mod, Knn_mod, Hist_Grad_boost,) #XGB_mod, rfc_mod, svm, cat)\n",
        "fnl=pd.DataFrame(zip2)\n",
        "fnl.columns = [\"LogisticRegression\", \"KNN\", \"HistGradBoost\",] #\"XGBooster\", \"Random Forest\", \"Support Vector Classifier\",\"CatBoosterClassifier\"]\n",
        "fnl =fnl.transpose()\n",
        "fnl.columns = Metrics_name\n",
        "fnl= fnl.sort_values(by=['Accuracy'],ascending=False)\n",
        "fnl\n"
      ],
      "metadata": {
        "id": "ofOGfylZ1WSy",
        "execution": {
          "iopub.status.busy": "2022-03-07T10:06:03.710795Z",
          "iopub.execute_input": "2022-03-07T10:06:03.711089Z",
          "iopub.status.idle": "2022-03-07T10:06:03.735069Z",
          "shell.execute_reply.started": "2022-03-07T10:06:03.711058Z",
          "shell.execute_reply": "2022-03-07T10:06:03.733839Z"
        },
        "trusted": true
      },
      "execution_count": null,
      "outputs": []
    },
    {
      "cell_type": "code",
      "source": [
        "!mlflow ui"
      ],
      "metadata": {
        "execution": {
          "iopub.status.busy": "2022-03-07T10:27:34.708342Z",
          "iopub.execute_input": "2022-03-07T10:27:34.708831Z"
        },
        "trusted": true,
        "id": "V-5GlQXeaJT_"
      },
      "execution_count": null,
      "outputs": []
    },
    {
      "cell_type": "code",
      "source": [
        ""
      ],
      "metadata": {
        "id": "59Se6DL-aJUB"
      },
      "execution_count": null,
      "outputs": []
    }
  ]
}