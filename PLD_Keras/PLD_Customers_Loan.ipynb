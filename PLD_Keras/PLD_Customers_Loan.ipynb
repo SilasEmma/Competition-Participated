{
 "cells": [
  {
   "cell_type": "code",
   "execution_count": 1,
   "id": "b8076692",
   "metadata": {},
   "outputs": [],
   "source": [
    "# loading relevant libraries for model development, data manipution and visualization\n",
    "\n",
    "# loading data manipulation tool\n",
    "import pandas as pd\n",
    "import numpy as np\n",
    "import pickle\n",
    "from collections import Counter\n",
    "\n",
    "# Data visualization tool\n",
    "import seaborn as sns\n",
    "from matplotlib import pyplot as plt\n",
    "from pandas_profiling import ProfileReport\n",
    "\n",
    "# loading model performance lib\n",
    "from sklearn.metrics import classification_report, confusion_matrix\n",
    "from sklearn.metrics import accuracy_score, f1_score, log_loss\n",
    "\n",
    "# preprocessing lib\n",
    "from sklearn.preprocessing import MinMaxScaler, LabelEncoder\n",
    "from sklearn.model_selection import train_test_split\n",
    "\n",
    "# handling data imbalance\n",
    "from imblearn.over_sampling import ADASYN, SMOTE\n",
    "\n",
    "# loading algorithm\n",
    "from tensorflow.keras import Sequential, regularizers\n",
    "from tensorflow.keras.layers import Dense, Dropout\n",
    "from tensorflow.keras.models import load_model , save_model"
   ]
  },
  {
   "cell_type": "markdown",
   "id": "fd5e6798",
   "metadata": {},
   "source": [
    "**Data Understanding**"
   ]
  },
  {
   "cell_type": "code",
   "execution_count": 2,
   "id": "a40afbbf",
   "metadata": {},
   "outputs": [],
   "source": [
    "# loading datasets\n",
    "df = pd.read_csv(\"train.csv\")"
   ]
  },
  {
   "cell_type": "code",
   "execution_count": 3,
   "id": "91e7fde6",
   "metadata": {},
   "outputs": [
    {
     "data": {
      "text/html": [
       "<div>\n",
       "<style scoped>\n",
       "    .dataframe tbody tr th:only-of-type {\n",
       "        vertical-align: middle;\n",
       "    }\n",
       "\n",
       "    .dataframe tbody tr th {\n",
       "        vertical-align: top;\n",
       "    }\n",
       "\n",
       "    .dataframe thead th {\n",
       "        text-align: right;\n",
       "    }\n",
       "</style>\n",
       "<table border=\"1\" class=\"dataframe\">\n",
       "  <thead>\n",
       "    <tr style=\"text-align: right;\">\n",
       "      <th></th>\n",
       "      <th>ID</th>\n",
       "      <th>Loan Amount</th>\n",
       "      <th>Funded Amount</th>\n",
       "      <th>Funded Amount Investor</th>\n",
       "      <th>Term</th>\n",
       "      <th>Batch Enrolled</th>\n",
       "      <th>Interest Rate</th>\n",
       "      <th>Grade</th>\n",
       "      <th>Sub Grade</th>\n",
       "      <th>Home OwnerShip</th>\n",
       "      <th>...</th>\n",
       "      <th>Recoveries</th>\n",
       "      <th>Collection Recovery Fee</th>\n",
       "      <th>Collection 12 months Medical</th>\n",
       "      <th>Application Type</th>\n",
       "      <th>Last week Pay</th>\n",
       "      <th>Accounts Delinquent</th>\n",
       "      <th>Total Collection Amount</th>\n",
       "      <th>Total Current Balance</th>\n",
       "      <th>Total Revolving Credit Limit</th>\n",
       "      <th>Loan Status</th>\n",
       "    </tr>\n",
       "  </thead>\n",
       "  <tbody>\n",
       "    <tr>\n",
       "      <th>0</th>\n",
       "      <td>65087372</td>\n",
       "      <td>10000</td>\n",
       "      <td>32236</td>\n",
       "      <td>12329.36286</td>\n",
       "      <td>59</td>\n",
       "      <td>BAT2522922</td>\n",
       "      <td>11.135007</td>\n",
       "      <td>B</td>\n",
       "      <td>C4</td>\n",
       "      <td>MORTGAGE</td>\n",
       "      <td>...</td>\n",
       "      <td>2.498291</td>\n",
       "      <td>0.793724</td>\n",
       "      <td>0</td>\n",
       "      <td>INDIVIDUAL</td>\n",
       "      <td>49</td>\n",
       "      <td>0</td>\n",
       "      <td>31</td>\n",
       "      <td>311301</td>\n",
       "      <td>6619</td>\n",
       "      <td>0</td>\n",
       "    </tr>\n",
       "    <tr>\n",
       "      <th>1</th>\n",
       "      <td>1450153</td>\n",
       "      <td>3609</td>\n",
       "      <td>11940</td>\n",
       "      <td>12191.99692</td>\n",
       "      <td>59</td>\n",
       "      <td>BAT1586599</td>\n",
       "      <td>12.237563</td>\n",
       "      <td>C</td>\n",
       "      <td>D3</td>\n",
       "      <td>RENT</td>\n",
       "      <td>...</td>\n",
       "      <td>2.377215</td>\n",
       "      <td>0.974821</td>\n",
       "      <td>0</td>\n",
       "      <td>INDIVIDUAL</td>\n",
       "      <td>109</td>\n",
       "      <td>0</td>\n",
       "      <td>53</td>\n",
       "      <td>182610</td>\n",
       "      <td>20885</td>\n",
       "      <td>0</td>\n",
       "    </tr>\n",
       "    <tr>\n",
       "      <th>2</th>\n",
       "      <td>1969101</td>\n",
       "      <td>28276</td>\n",
       "      <td>9311</td>\n",
       "      <td>21603.22455</td>\n",
       "      <td>59</td>\n",
       "      <td>BAT2136391</td>\n",
       "      <td>12.545884</td>\n",
       "      <td>F</td>\n",
       "      <td>D4</td>\n",
       "      <td>MORTGAGE</td>\n",
       "      <td>...</td>\n",
       "      <td>4.316277</td>\n",
       "      <td>1.020075</td>\n",
       "      <td>0</td>\n",
       "      <td>INDIVIDUAL</td>\n",
       "      <td>66</td>\n",
       "      <td>0</td>\n",
       "      <td>34</td>\n",
       "      <td>89801</td>\n",
       "      <td>26155</td>\n",
       "      <td>0</td>\n",
       "    </tr>\n",
       "    <tr>\n",
       "      <th>3</th>\n",
       "      <td>6651430</td>\n",
       "      <td>11170</td>\n",
       "      <td>6954</td>\n",
       "      <td>17877.15585</td>\n",
       "      <td>59</td>\n",
       "      <td>BAT2428731</td>\n",
       "      <td>16.731201</td>\n",
       "      <td>C</td>\n",
       "      <td>C3</td>\n",
       "      <td>MORTGAGE</td>\n",
       "      <td>...</td>\n",
       "      <td>0.107020</td>\n",
       "      <td>0.749971</td>\n",
       "      <td>0</td>\n",
       "      <td>INDIVIDUAL</td>\n",
       "      <td>39</td>\n",
       "      <td>0</td>\n",
       "      <td>40</td>\n",
       "      <td>9189</td>\n",
       "      <td>60214</td>\n",
       "      <td>0</td>\n",
       "    </tr>\n",
       "    <tr>\n",
       "      <th>4</th>\n",
       "      <td>14354669</td>\n",
       "      <td>16890</td>\n",
       "      <td>13226</td>\n",
       "      <td>13539.92667</td>\n",
       "      <td>59</td>\n",
       "      <td>BAT5341619</td>\n",
       "      <td>15.008300</td>\n",
       "      <td>C</td>\n",
       "      <td>D4</td>\n",
       "      <td>MORTGAGE</td>\n",
       "      <td>...</td>\n",
       "      <td>1294.818751</td>\n",
       "      <td>0.368953</td>\n",
       "      <td>0</td>\n",
       "      <td>INDIVIDUAL</td>\n",
       "      <td>18</td>\n",
       "      <td>0</td>\n",
       "      <td>430</td>\n",
       "      <td>126029</td>\n",
       "      <td>22579</td>\n",
       "      <td>0</td>\n",
       "    </tr>\n",
       "  </tbody>\n",
       "</table>\n",
       "<p>5 rows × 35 columns</p>\n",
       "</div>"
      ],
      "text/plain": [
       "         ID  Loan Amount  Funded Amount  Funded Amount Investor  Term  \\\n",
       "0  65087372        10000          32236             12329.36286    59   \n",
       "1   1450153         3609          11940             12191.99692    59   \n",
       "2   1969101        28276           9311             21603.22455    59   \n",
       "3   6651430        11170           6954             17877.15585    59   \n",
       "4  14354669        16890          13226             13539.92667    59   \n",
       "\n",
       "  Batch Enrolled  Interest Rate Grade Sub Grade Home OwnerShip  ...  \\\n",
       "0     BAT2522922      11.135007     B        C4       MORTGAGE  ...   \n",
       "1     BAT1586599      12.237563     C        D3           RENT  ...   \n",
       "2     BAT2136391      12.545884     F        D4       MORTGAGE  ...   \n",
       "3     BAT2428731      16.731201     C        C3       MORTGAGE  ...   \n",
       "4     BAT5341619      15.008300     C        D4       MORTGAGE  ...   \n",
       "\n",
       "    Recoveries Collection Recovery Fee Collection 12 months Medical  \\\n",
       "0     2.498291                0.793724                            0   \n",
       "1     2.377215                0.974821                            0   \n",
       "2     4.316277                1.020075                            0   \n",
       "3     0.107020                0.749971                            0   \n",
       "4  1294.818751                0.368953                            0   \n",
       "\n",
       "  Application Type  Last week Pay  Accounts Delinquent  \\\n",
       "0       INDIVIDUAL             49                    0   \n",
       "1       INDIVIDUAL            109                    0   \n",
       "2       INDIVIDUAL             66                    0   \n",
       "3       INDIVIDUAL             39                    0   \n",
       "4       INDIVIDUAL             18                    0   \n",
       "\n",
       "   Total Collection Amount  Total Current Balance  \\\n",
       "0                       31                 311301   \n",
       "1                       53                 182610   \n",
       "2                       34                  89801   \n",
       "3                       40                   9189   \n",
       "4                      430                 126029   \n",
       "\n",
       "   Total Revolving Credit Limit  Loan Status  \n",
       "0                          6619            0  \n",
       "1                         20885            0  \n",
       "2                         26155            0  \n",
       "3                         60214            0  \n",
       "4                         22579            0  \n",
       "\n",
       "[5 rows x 35 columns]"
      ]
     },
     "execution_count": 3,
     "metadata": {},
     "output_type": "execute_result"
    }
   ],
   "source": [
    "# Return the first 5 rows.\n",
    "df.head()"
   ]
  },
  {
   "cell_type": "code",
   "execution_count": 4,
   "id": "36b5aa3c",
   "metadata": {},
   "outputs": [
    {
     "data": {
      "text/plain": [
       "(67463, 35)"
      ]
     },
     "execution_count": 4,
     "metadata": {},
     "output_type": "execute_result"
    }
   ],
   "source": [
    "# Return a tuple representing the dimensionality of the DataFrame.\n",
    "df.shape"
   ]
  },
  {
   "cell_type": "code",
   "execution_count": 5,
   "id": "1820e040",
   "metadata": {},
   "outputs": [
    {
     "name": "stdout",
     "output_type": "stream",
     "text": [
      "<class 'pandas.core.frame.DataFrame'>\n",
      "RangeIndex: 67463 entries, 0 to 67462\n",
      "Data columns (total 35 columns):\n",
      " #   Column                        Non-Null Count  Dtype  \n",
      "---  ------                        --------------  -----  \n",
      " 0   ID                            67463 non-null  int64  \n",
      " 1   Loan Amount                   67463 non-null  int64  \n",
      " 2   Funded Amount                 67463 non-null  int64  \n",
      " 3   Funded Amount Investor        67463 non-null  float64\n",
      " 4   Term                          67463 non-null  int64  \n",
      " 5   Batch Enrolled                67463 non-null  object \n",
      " 6   Interest Rate                 67463 non-null  float64\n",
      " 7   Grade                         67463 non-null  object \n",
      " 8   Sub Grade                     67463 non-null  object \n",
      " 9   Home OwnerShip                67463 non-null  object \n",
      " 10  Employment Duration           67463 non-null  float64\n",
      " 11  Verification Status           67463 non-null  object \n",
      " 12  Payment Plan                  67463 non-null  object \n",
      " 13  Loan Title                    67463 non-null  object \n",
      " 14  Debit to Income               67463 non-null  float64\n",
      " 15  Delinquency - two years       67463 non-null  int64  \n",
      " 16  Inquires - six months         67463 non-null  int64  \n",
      " 17  Open Account                  67463 non-null  int64  \n",
      " 18  Public Record                 67463 non-null  int64  \n",
      " 19  Revolving Balance             67463 non-null  int64  \n",
      " 20  Revolving Utilities           67463 non-null  float64\n",
      " 21  Total Accounts                67463 non-null  int64  \n",
      " 22  Initial List Status           67463 non-null  object \n",
      " 23  Total Received Interest       67463 non-null  float64\n",
      " 24  Total Received Late Fee       67463 non-null  float64\n",
      " 25  Recoveries                    67463 non-null  float64\n",
      " 26  Collection Recovery Fee       67463 non-null  float64\n",
      " 27  Collection 12 months Medical  67463 non-null  int64  \n",
      " 28  Application Type              67463 non-null  object \n",
      " 29  Last week Pay                 67463 non-null  int64  \n",
      " 30  Accounts Delinquent           67463 non-null  int64  \n",
      " 31  Total Collection Amount       67463 non-null  int64  \n",
      " 32  Total Current Balance         67463 non-null  int64  \n",
      " 33  Total Revolving Credit Limit  67463 non-null  int64  \n",
      " 34  Loan Status                   67463 non-null  int64  \n",
      "dtypes: float64(9), int64(17), object(9)\n",
      "memory usage: 18.0+ MB\n"
     ]
    }
   ],
   "source": [
    "# Print a concise summary of a DataFrame.\n",
    "df.info()"
   ]
  },
  {
   "cell_type": "code",
   "execution_count": 6,
   "id": "c56410e0",
   "metadata": {},
   "outputs": [
    {
     "data": {
      "text/plain": [
       "ID                              0\n",
       "Loan Amount                     0\n",
       "Funded Amount                   0\n",
       "Funded Amount Investor          0\n",
       "Term                            0\n",
       "Batch Enrolled                  0\n",
       "Interest Rate                   0\n",
       "Grade                           0\n",
       "Sub Grade                       0\n",
       "Home OwnerShip                  0\n",
       "Employment Duration             0\n",
       "Verification Status             0\n",
       "Payment Plan                    0\n",
       "Loan Title                      0\n",
       "Debit to Income                 0\n",
       "Delinquency - two years         0\n",
       "Inquires - six months           0\n",
       "Open Account                    0\n",
       "Public Record                   0\n",
       "Revolving Balance               0\n",
       "Revolving Utilities             0\n",
       "Total Accounts                  0\n",
       "Initial List Status             0\n",
       "Total Received Interest         0\n",
       "Total Received Late Fee         0\n",
       "Recoveries                      0\n",
       "Collection Recovery Fee         0\n",
       "Collection 12 months Medical    0\n",
       "Application Type                0\n",
       "Last week Pay                   0\n",
       "Accounts Delinquent             0\n",
       "Total Collection Amount         0\n",
       "Total Current Balance           0\n",
       "Total Revolving Credit Limit    0\n",
       "Loan Status                     0\n",
       "dtype: int64"
      ]
     },
     "execution_count": 6,
     "metadata": {},
     "output_type": "execute_result"
    }
   ],
   "source": [
    "# return number of missing value present\n",
    "df.isnull().sum()"
   ]
  },
  {
   "cell_type": "code",
   "execution_count": 7,
   "id": "07392d75",
   "metadata": {
    "scrolled": true
   },
   "outputs": [
    {
     "data": {
      "text/plain": [
       "0    61222\n",
       "1     6241\n",
       "Name: Loan Status, dtype: int64"
      ]
     },
     "execution_count": 7,
     "metadata": {},
     "output_type": "execute_result"
    }
   ],
   "source": [
    "# Return a Series containing counts of unique rows in the DataFrame.\n",
    "df['Loan Status'].value_counts()\n",
    "\n",
    "# Datasets is highly imbalance"
   ]
  },
  {
   "cell_type": "code",
   "execution_count": 8,
   "id": "dae5d955",
   "metadata": {
    "scrolled": false
   },
   "outputs": [
    {
     "data": {
      "text/plain": [
       "Source Verified    33036\n",
       "Verified           18078\n",
       "Not Verified       16349\n",
       "Name: Verification Status, dtype: int64"
      ]
     },
     "execution_count": 8,
     "metadata": {},
     "output_type": "execute_result"
    }
   ],
   "source": [
    "# Return a Series containing counts of unique rows in the DataFrame.\n",
    "df['Verification Status'].value_counts()"
   ]
  },
  {
   "cell_type": "code",
   "execution_count": 9,
   "id": "9bce6090",
   "metadata": {},
   "outputs": [
    {
     "data": {
      "text/plain": [
       "MORTGAGE    36351\n",
       "RENT        24150\n",
       "OWN          6962\n",
       "Name: Home OwnerShip, dtype: int64"
      ]
     },
     "execution_count": 9,
     "metadata": {},
     "output_type": "execute_result"
    }
   ],
   "source": [
    "# Return a Series containing counts of unique rows in the DataFrame.\n",
    "df['Home OwnerShip'].value_counts()"
   ]
  },
  {
   "cell_type": "markdown",
   "id": "6b613387",
   "metadata": {},
   "source": [
    "**Eploratory Data Analysis**"
   ]
  },
  {
   "cell_type": "code",
   "execution_count": 10,
   "id": "5bf11b3c",
   "metadata": {},
   "outputs": [
    {
     "data": {
      "text/plain": [
       "<AxesSubplot:title={'center':\"Customer's Loan Status.\"}, xlabel='Loan Status', ylabel='count'>"
      ]
     },
     "execution_count": 10,
     "metadata": {},
     "output_type": "execute_result"
    },
    {
     "data": {
      "image/png": "[encoded data removed]",
      "text/plain": [
       "<Figure size 432x288 with 1 Axes>"
      ]
     },
     "metadata": {
      "needs_background": "light"
     },
     "output_type": "display_data"
    }
   ],
   "source": [
    "plt.title(\"Customer's Loan Status.\")\n",
    "sns.countplot(data=df, x='Loan Status')"
   ]
  },
  {
   "cell_type": "code",
   "execution_count": 11,
   "id": "20537405",
   "metadata": {},
   "outputs": [
    {
     "data": {
      "text/plain": [
       "<AxesSubplot:title={'center':\"Customer's Home Ownership by Loan Status.\"}, xlabel='Home OwnerShip', ylabel='count'>"
      ]
     },
     "execution_count": 11,
     "metadata": {},
     "output_type": "execute_result"
    },
    {
     "data": {
      "image/png": "[encoded data removed]",
      "text/plain": [
       "<Figure size 1440x360 with 1 Axes>"
      ]
     },
     "metadata": {
      "needs_background": "light"
     },
     "output_type": "display_data"
    }
   ],
   "source": [
    "plt.figure(figsize=(20,5))\n",
    "plt.title(\"Customer's Home Ownership by Loan Status.\")\n",
    "sns.countplot(data=df, x='Home OwnerShip', hue='Loan Status')"
   ]
  },
  {
   "cell_type": "code",
   "execution_count": 12,
   "id": "86fc72dc",
   "metadata": {
    "scrolled": true
   },
   "outputs": [
    {
     "data": {
      "text/plain": [
       "<AxesSubplot:title={'center':'Customers Verify Status by Loan Status.'}, xlabel='Verification Status', ylabel='count'>"
      ]
     },
     "execution_count": 12,
     "metadata": {},
     "output_type": "execute_result"
    },
    {
     "data": {
      "image/png": "[encoded data removed]",
      "text/plain": [
       "<Figure size 1440x360 with 1 Axes>"
      ]
     },
     "metadata": {
      "needs_background": "light"
     },
     "output_type": "display_data"
    }
   ],
   "source": [
    "plt.figure(figsize=(20,5))\n",
    "plt.title(\"Customers Verify Status by Loan Status.\")\n",
    "sns.countplot(data=df, x='Verification Status', hue='Loan Status')"
   ]
  },
  {
   "cell_type": "code",
   "execution_count": 13,
   "id": "776773ef",
   "metadata": {},
   "outputs": [
    {
     "data": {
      "text/plain": [
       "<AxesSubplot:title={'center':\"Customer's Home OwnerShip.\"}, xlabel='Home OwnerShip', ylabel='count'>"
      ]
     },
     "execution_count": 13,
     "metadata": {},
     "output_type": "execute_result"
    },
    {
     "data": {
      "image/png": "[encoded data removed]",
      "text/plain": [
       "<Figure size 432x288 with 1 Axes>"
      ]
     },
     "metadata": {
      "needs_background": "light"
     },
     "output_type": "display_data"
    }
   ],
   "source": [
    "plt.title(\"Customer's Home OwnerShip.\")\n",
    "sns.countplot(data=df, x='Home OwnerShip')"
   ]
  },
  {
   "cell_type": "code",
   "execution_count": 14,
   "id": "621b5120",
   "metadata": {},
   "outputs": [
    {
     "data": {
      "text/plain": [
       "<AxesSubplot:title={'center':\"Customer's Delinquency in last two years.\"}, xlabel='Delinquency - two years', ylabel='count'>"
      ]
     },
     "execution_count": 14,
     "metadata": {},
     "output_type": "execute_result"
    },
    {
     "data": {
      "image/png": "[encoded data removed]",
      "text/plain": [
       "<Figure size 720x360 with 1 Axes>"
      ]
     },
     "metadata": {
      "needs_background": "light"
     },
     "output_type": "display_data"
    }
   ],
   "source": [
    "plt.figure(figsize=(10,5))\n",
    "plt.title(\"Customer's Delinquency in last two years.\")\n",
    "sns.countplot(data=df, x='Delinquency - two years')"
   ]
  },
  {
   "cell_type": "code",
   "execution_count": 15,
   "id": "de818c11",
   "metadata": {},
   "outputs": [],
   "source": [
    "# Generate a profile report from a Dataset\n",
    "#profile = ProfileReport(df=df, explorative=True)\n",
    "#profile.to_widgets()"
   ]
  },
  {
   "cell_type": "markdown",
   "id": "6c6ab4c1",
   "metadata": {},
   "source": [
    "**Data Cleaning and Preprocessing**\n",
    "\n",
    "1. Drop inrelevant columns\n"
   ]
  },
  {
   "cell_type": "code",
   "execution_count": 16,
   "id": "a17eca17",
   "metadata": {},
   "outputs": [],
   "source": [
    "# Drop specified labels from rows or columns.\n",
    "df = df.drop(['ID'], axis=1)"
   ]
  },
  {
   "cell_type": "markdown",
   "id": "df22b851",
   "metadata": {},
   "source": [
    "**Encoding Categorical Variables into numberical using Labelencoder**"
   ]
  },
  {
   "cell_type": "code",
   "execution_count": 17,
   "id": "f4e49dc0",
   "metadata": {},
   "outputs": [],
   "source": [
    "# Encode target labels\n",
    "df['Batch Enrolled'] = LabelEncoder().fit_transform(df['Batch Enrolled'])\n",
    "df['Grade'] = LabelEncoder().fit_transform(df['Grade'])\n",
    "df['Sub Grade'] = LabelEncoder().fit_transform(df['Sub Grade'])\n",
    "df['Home OwnerShip'] = LabelEncoder().fit_transform(df['Home OwnerShip'])\n",
    "df['Verification Status'] = LabelEncoder().fit_transform(df['Verification Status'])\n",
    "df['Payment Plan'] = LabelEncoder().fit_transform(df['Payment Plan'])\n",
    "df['Loan Title'] = LabelEncoder().fit_transform(df['Loan Title'])\n",
    "df['Initial List Status'] = LabelEncoder().fit_transform(df['Initial List Status'])\n",
    "df['Application Type'] = LabelEncoder().fit_transform(df['Application Type'])"
   ]
  },
  {
   "cell_type": "code",
   "execution_count": 18,
   "id": "5df76340",
   "metadata": {},
   "outputs": [
    {
     "data": {
      "text/html": [
       "<div>\n",
       "<style scoped>\n",
       "    .dataframe tbody tr th:only-of-type {\n",
       "        vertical-align: middle;\n",
       "    }\n",
       "\n",
       "    .dataframe tbody tr th {\n",
       "        vertical-align: top;\n",
       "    }\n",
       "\n",
       "    .dataframe thead th {\n",
       "        text-align: right;\n",
       "    }\n",
       "</style>\n",
       "<table border=\"1\" class=\"dataframe\">\n",
       "  <thead>\n",
       "    <tr style=\"text-align: right;\">\n",
       "      <th></th>\n",
       "      <th>Loan Amount</th>\n",
       "      <th>Funded Amount</th>\n",
       "      <th>Funded Amount Investor</th>\n",
       "      <th>Term</th>\n",
       "      <th>Batch Enrolled</th>\n",
       "      <th>Interest Rate</th>\n",
       "      <th>Grade</th>\n",
       "      <th>Sub Grade</th>\n",
       "      <th>Home OwnerShip</th>\n",
       "      <th>Employment Duration</th>\n",
       "      <th>...</th>\n",
       "      <th>Recoveries</th>\n",
       "      <th>Collection Recovery Fee</th>\n",
       "      <th>Collection 12 months Medical</th>\n",
       "      <th>Application Type</th>\n",
       "      <th>Last week Pay</th>\n",
       "      <th>Accounts Delinquent</th>\n",
       "      <th>Total Collection Amount</th>\n",
       "      <th>Total Current Balance</th>\n",
       "      <th>Total Revolving Credit Limit</th>\n",
       "      <th>Loan Status</th>\n",
       "    </tr>\n",
       "  </thead>\n",
       "  <tbody>\n",
       "    <tr>\n",
       "      <th>0</th>\n",
       "      <td>10000</td>\n",
       "      <td>32236</td>\n",
       "      <td>12329.36286</td>\n",
       "      <td>59</td>\n",
       "      <td>16</td>\n",
       "      <td>11.135007</td>\n",
       "      <td>1</td>\n",
       "      <td>13</td>\n",
       "      <td>0</td>\n",
       "      <td>176346.62670</td>\n",
       "      <td>...</td>\n",
       "      <td>2.498291</td>\n",
       "      <td>0.793724</td>\n",
       "      <td>0</td>\n",
       "      <td>0</td>\n",
       "      <td>49</td>\n",
       "      <td>0</td>\n",
       "      <td>31</td>\n",
       "      <td>311301</td>\n",
       "      <td>6619</td>\n",
       "      <td>0</td>\n",
       "    </tr>\n",
       "    <tr>\n",
       "      <th>1</th>\n",
       "      <td>3609</td>\n",
       "      <td>11940</td>\n",
       "      <td>12191.99692</td>\n",
       "      <td>59</td>\n",
       "      <td>4</td>\n",
       "      <td>12.237563</td>\n",
       "      <td>2</td>\n",
       "      <td>17</td>\n",
       "      <td>2</td>\n",
       "      <td>39833.92100</td>\n",
       "      <td>...</td>\n",
       "      <td>2.377215</td>\n",
       "      <td>0.974821</td>\n",
       "      <td>0</td>\n",
       "      <td>0</td>\n",
       "      <td>109</td>\n",
       "      <td>0</td>\n",
       "      <td>53</td>\n",
       "      <td>182610</td>\n",
       "      <td>20885</td>\n",
       "      <td>0</td>\n",
       "    </tr>\n",
       "    <tr>\n",
       "      <th>2</th>\n",
       "      <td>28276</td>\n",
       "      <td>9311</td>\n",
       "      <td>21603.22455</td>\n",
       "      <td>59</td>\n",
       "      <td>11</td>\n",
       "      <td>12.545884</td>\n",
       "      <td>5</td>\n",
       "      <td>18</td>\n",
       "      <td>0</td>\n",
       "      <td>91506.69105</td>\n",
       "      <td>...</td>\n",
       "      <td>4.316277</td>\n",
       "      <td>1.020075</td>\n",
       "      <td>0</td>\n",
       "      <td>0</td>\n",
       "      <td>66</td>\n",
       "      <td>0</td>\n",
       "      <td>34</td>\n",
       "      <td>89801</td>\n",
       "      <td>26155</td>\n",
       "      <td>0</td>\n",
       "    </tr>\n",
       "    <tr>\n",
       "      <th>3</th>\n",
       "      <td>11170</td>\n",
       "      <td>6954</td>\n",
       "      <td>17877.15585</td>\n",
       "      <td>59</td>\n",
       "      <td>15</td>\n",
       "      <td>16.731201</td>\n",
       "      <td>2</td>\n",
       "      <td>12</td>\n",
       "      <td>0</td>\n",
       "      <td>108286.57590</td>\n",
       "      <td>...</td>\n",
       "      <td>0.107020</td>\n",
       "      <td>0.749971</td>\n",
       "      <td>0</td>\n",
       "      <td>0</td>\n",
       "      <td>39</td>\n",
       "      <td>0</td>\n",
       "      <td>40</td>\n",
       "      <td>9189</td>\n",
       "      <td>60214</td>\n",
       "      <td>0</td>\n",
       "    </tr>\n",
       "    <tr>\n",
       "      <th>4</th>\n",
       "      <td>16890</td>\n",
       "      <td>13226</td>\n",
       "      <td>13539.92667</td>\n",
       "      <td>59</td>\n",
       "      <td>32</td>\n",
       "      <td>15.008300</td>\n",
       "      <td>2</td>\n",
       "      <td>18</td>\n",
       "      <td>0</td>\n",
       "      <td>44234.82545</td>\n",
       "      <td>...</td>\n",
       "      <td>1294.818751</td>\n",
       "      <td>0.368953</td>\n",
       "      <td>0</td>\n",
       "      <td>0</td>\n",
       "      <td>18</td>\n",
       "      <td>0</td>\n",
       "      <td>430</td>\n",
       "      <td>126029</td>\n",
       "      <td>22579</td>\n",
       "      <td>0</td>\n",
       "    </tr>\n",
       "  </tbody>\n",
       "</table>\n",
       "<p>5 rows × 34 columns</p>\n",
       "</div>"
      ],
      "text/plain": [
       "   Loan Amount  Funded Amount  Funded Amount Investor  Term  Batch Enrolled  \\\n",
       "0        10000          32236             12329.36286    59              16   \n",
       "1         3609          11940             12191.99692    59               4   \n",
       "2        28276           9311             21603.22455    59              11   \n",
       "3        11170           6954             17877.15585    59              15   \n",
       "4        16890          13226             13539.92667    59              32   \n",
       "\n",
       "   Interest Rate  Grade  Sub Grade  Home OwnerShip  Employment Duration  ...  \\\n",
       "0      11.135007      1         13               0         176346.62670  ...   \n",
       "1      12.237563      2         17               2          39833.92100  ...   \n",
       "2      12.545884      5         18               0          91506.69105  ...   \n",
       "3      16.731201      2         12               0         108286.57590  ...   \n",
       "4      15.008300      2         18               0          44234.82545  ...   \n",
       "\n",
       "    Recoveries  Collection Recovery Fee  Collection 12 months Medical  \\\n",
       "0     2.498291                 0.793724                             0   \n",
       "1     2.377215                 0.974821                             0   \n",
       "2     4.316277                 1.020075                             0   \n",
       "3     0.107020                 0.749971                             0   \n",
       "4  1294.818751                 0.368953                             0   \n",
       "\n",
       "   Application Type  Last week Pay  Accounts Delinquent  \\\n",
       "0                 0             49                    0   \n",
       "1                 0            109                    0   \n",
       "2                 0             66                    0   \n",
       "3                 0             39                    0   \n",
       "4                 0             18                    0   \n",
       "\n",
       "   Total Collection Amount  Total Current Balance  \\\n",
       "0                       31                 311301   \n",
       "1                       53                 182610   \n",
       "2                       34                  89801   \n",
       "3                       40                   9189   \n",
       "4                      430                 126029   \n",
       "\n",
       "   Total Revolving Credit Limit  Loan Status  \n",
       "0                          6619            0  \n",
       "1                         20885            0  \n",
       "2                         26155            0  \n",
       "3                         60214            0  \n",
       "4                         22579            0  \n",
       "\n",
       "[5 rows x 34 columns]"
      ]
     },
     "execution_count": 18,
     "metadata": {},
     "output_type": "execute_result"
    }
   ],
   "source": [
    "df.head()"
   ]
  },
  {
   "cell_type": "code",
   "execution_count": 19,
   "id": "c4ab665c",
   "metadata": {},
   "outputs": [],
   "source": [
    "# assign feature i.e independent variable to X and target variable to y i.e dependent\n",
    "X = df.drop(['Loan Status'], axis=1)\n",
    "y = df['Loan Status']"
   ]
  },
  {
   "cell_type": "markdown",
   "id": "946e3e3f",
   "metadata": {},
   "source": [
    "**Splitting Data into train and valid for Model Development**\n",
    "\n"
   ]
  },
  {
   "cell_type": "code",
   "execution_count": 20,
   "id": "038e7da4",
   "metadata": {},
   "outputs": [],
   "source": [
    "# Split arrays or matrices into random train and test subsets\n",
    "x_train, x_test, y_train, y_test = train_test_split(X, y, stratify=y, test_size=0.30, random_state=2021)\n",
    "# Split arrays into validation\n",
    "x_train, x_valid, y_train, y_valid = train_test_split(x_train, y_train, test_size=0.2)"
   ]
  },
  {
   "cell_type": "code",
   "execution_count": 21,
   "id": "5d27894c",
   "metadata": {},
   "outputs": [
    {
     "name": "stdout",
     "output_type": "stream",
     "text": [
      "0    0.908468\n",
      "1    0.091532\n",
      "Name: Loan Status, dtype: float64\n",
      "0    0.907505\n",
      "1    0.092495\n",
      "Name: Loan Status, dtype: float64\n"
     ]
    }
   ],
   "source": [
    "print(y_train.value_counts()/len(y_train))\n",
    "print(y_test.value_counts()/len(y_test))"
   ]
  },
  {
   "cell_type": "code",
   "execution_count": 22,
   "id": "9a9a7796",
   "metadata": {},
   "outputs": [],
   "source": [
    "# Scale features using statistics that are robust to outliers.\n",
    "mn = MinMaxScaler()\n",
    "# Fit to data, then transform it train data\n",
    "#X = mn.fit_transform(X)"
   ]
  },
  {
   "cell_type": "code",
   "execution_count": 23,
   "id": "cdb08878",
   "metadata": {},
   "outputs": [],
   "source": [
    "# Fit to data, then transform it train data\n",
    "x_train = mn.fit_transform(x_train)\n",
    "# Fit to data, then transform it test data\n",
    "x_test = mn.fit_transform(x_test)"
   ]
  },
  {
   "cell_type": "markdown",
   "id": "bf141da2",
   "metadata": {},
   "source": [
    "**Handling Data Imbalance Using SMOTE Techniques**"
   ]
  },
  {
   "cell_type": "code",
   "execution_count": 24,
   "id": "b9cb8c1c",
   "metadata": {},
   "outputs": [
    {
     "name": "stdout",
     "output_type": "stream",
     "text": [
      "Original Datasets Shape:  Counter({0: 34321, 1: 3458})\n",
      "Resample Datasets Shape:  Counter({0: 34321, 1: 34321})\n"
     ]
    }
   ],
   "source": [
    "# Handling data imbalance using sklearn in-built library SMOTE.\n",
    "\n",
    "# Oversample using Adaptive Synthetic (ADASYN) algorithm..\n",
    "sm = SMOTE()\n",
    "# Resample the dataset.\n",
    "x_train_sm, y_train_sm = sm.fit_resample(x_train, y_train)\n",
    "\n",
    "print(\"Original Datasets Shape: \", Counter(y_train))\n",
    "print(\"Resample Datasets Shape: \", Counter(y_train_sm))"
   ]
  },
  {
   "cell_type": "code",
   "execution_count": 25,
   "id": "4e6ef567",
   "metadata": {},
   "outputs": [
    {
     "name": "stdout",
     "output_type": "stream",
     "text": [
      "(68642, 33)\n",
      "(20239, 33)\n",
      "(68642,)\n",
      "(20239,)\n",
      "(9445, 33)\n",
      "(9445,)\n"
     ]
    }
   ],
   "source": [
    "# print the shapes \n",
    "print(x_train_sm.shape)\n",
    "print(x_test.shape)\n",
    "print(y_train_sm.shape)\n",
    "print(y_test.shape)\n",
    "print(x_valid.shape)\n",
    "print(y_valid.shape)"
   ]
  },
  {
   "cell_type": "markdown",
   "id": "edc63dea",
   "metadata": {},
   "source": [
    "**Model Development**"
   ]
  },
  {
   "cell_type": "code",
   "execution_count": 26,
   "id": "076e275a",
   "metadata": {},
   "outputs": [
    {
     "name": "stdout",
     "output_type": "stream",
     "text": [
      "Model: \"sequential\"\n",
      "_________________________________________________________________\n",
      "Layer (type)                 Output Shape              Param #   \n",
      "=================================================================\n",
      "dense (Dense)                (None, 33)                1122      \n",
      "_________________________________________________________________\n",
      "dropout (Dropout)            (None, 33)                0         \n",
      "_________________________________________________________________\n",
      "dense_1 (Dense)              (None, 512)               17408     \n",
      "_________________________________________________________________\n",
      "dropout_1 (Dropout)          (None, 512)               0         \n",
      "_________________________________________________________________\n",
      "dense_2 (Dense)              (None, 256)               131328    \n",
      "_________________________________________________________________\n",
      "dropout_2 (Dropout)          (None, 256)               0         \n",
      "_________________________________________________________________\n",
      "dense_3 (Dense)              (None, 128)               32896     \n",
      "_________________________________________________________________\n",
      "dropout_3 (Dropout)          (None, 128)               0         \n",
      "_________________________________________________________________\n",
      "dense_4 (Dense)              (None, 64)                8256      \n",
      "_________________________________________________________________\n",
      "dropout_4 (Dropout)          (None, 64)                0         \n",
      "_________________________________________________________________\n",
      "dense_5 (Dense)              (None, 32)                2080      \n",
      "_________________________________________________________________\n",
      "dropout_5 (Dropout)          (None, 32)                0         \n",
      "_________________________________________________________________\n",
      "dense_6 (Dense)              (None, 1)                 33        \n",
      "=================================================================\n",
      "Total params: 193,123\n",
      "Trainable params: 193,123\n",
      "Non-trainable params: 0\n",
      "_________________________________________________________________\n"
     ]
    }
   ],
   "source": [
    "# creating our model with keras\n",
    "model = Sequential([\n",
    "    # regular densely-connected NN layer.\n",
    "    Dense(33, input_shape=(33,), activation='relu', kernel_regularizer=regularizers.L2(l2=0.001)),\n",
    "    # Applies Dropout to turn off some input while training.\n",
    "    Dropout(rate=0.2),\n",
    "    # second hidden layer\n",
    "    Dense(512, activation='relu', kernel_regularizer=regularizers.L2(l2=0.001)),\n",
    "    Dropout(rate=0.3),\n",
    "    # third hidden layer\n",
    "    Dense(256, activation='relu', kernel_regularizer=regularizers.L2(l2=0.001)),\n",
    "    Dropout(rate=0.4),\n",
    "    # fourth hidden layer\n",
    "    Dense(128, activation='relu', kernel_regularizer=regularizers.L2(l2=0.001)),\n",
    "    Dropout(rate=0.5),\n",
    "    # fifth hidden layer\n",
    "    Dense(64, activation='relu', kernel_regularizer=regularizers.L2(l2=0.001)),\n",
    "    Dropout(rate=0.5),\n",
    "    # last layer\n",
    "    Dense(32, activation='relu', kernel_regularizer=regularizers.L2(l2=0.001)),\n",
    "    Dropout(rate=0.2),\n",
    "    # output layer \n",
    "    Dense(1, activation='sigmoid')\n",
    "])\n",
    "# Prints a string summary of the network.\n",
    "model.summary()"
   ]
  },
  {
   "cell_type": "code",
   "execution_count": 27,
   "id": "c0275f87",
   "metadata": {},
   "outputs": [],
   "source": [
    "# Configures the model for training.\n",
    "model.compile(optimizer='adam', loss='binary_crossentropy', metrics=['accuracy'])"
   ]
  },
  {
   "cell_type": "code",
   "execution_count": 28,
   "id": "80c940c8",
   "metadata": {
    "scrolled": true
   },
   "outputs": [
    {
     "name": "stdout",
     "output_type": "stream",
     "text": [
      "Epoch 1/20\n",
      "2146/2146 [==============================] - 112s 49ms/step - loss: 0.7442 - accuracy: 0.5022 - val_loss: 0.7007 - val_accuracy: 0.092549 - ac - ETA: 0s - loss: 0\n",
      "Epoch 2/20\n",
      "2146/2146 [==============================] - 88s 41ms/step - loss: 0.6932 - accuracy: 0.4976 - val_loss: 0.6984 - val_accuracy: 0.09253s - los - ETA: 1s - loss: 0.6932 - accuracy\n",
      "Epoch 3/20\n",
      "2146/2146 [==============================] - 69s 32ms/step - loss: 0.6932 - accuracy: 0.4980 - val_loss: 0.6935 - val_accuracy: 0.0925\n",
      "Epoch 4/20\n",
      "2146/2146 [==============================] - 60s 28ms/step - loss: 0.6932 - accuracy: 0.5004 - val_loss: 0.6867 - val_accuracy: 0.9075\n",
      "Epoch 5/20\n",
      "2146/2146 [==============================] - 60s 28ms/step - loss: 0.6932 - accuracy: 0.5031 - val_loss: 0.7009 - val_accuracy: 0.0925\n",
      "Epoch 6/20\n",
      "2146/2146 [==============================] - 60s 28ms/step - loss: 0.6932 - accuracy: 0.4976 - val_loss: 0.6876 - val_accuracy: 0.9075\n",
      "Epoch 7/20\n",
      "2146/2146 [==============================] - 58s 27ms/step - loss: 0.6931 - accuracy: 0.5022 - val_loss: 0.6976 - val_accuracy: 0.0925\n",
      "Epoch 8/20\n",
      "2146/2146 [==============================] - 59s 27ms/step - loss: 0.6932 - accuracy: 0.4981 - val_loss: 0.6932 - val_accuracy: 0.0925\n",
      "Epoch 9/20\n",
      "2146/2146 [==============================] - 58s 27ms/step - loss: 0.6932 - accuracy: 0.4973 - val_loss: 0.6912 - val_accuracy: 0.9075\n",
      "Epoch 10/20\n",
      "2146/2146 [==============================] - 77s 36ms/step - loss: 0.6932 - accuracy: 0.4977 - val_loss: 0.7003 - val_accuracy: 0.0925\n",
      "Epoch 11/20\n",
      "2146/2146 [==============================] - 103s 48ms/step - loss: 0.6932 - accuracy: 0.4974 - val_loss: 0.6974 - val_accuracy: 0.0925- loss: 0.6932 - accuracy: 0.497 - ETA: 19s - loss: 0.6932 - ac - ETA: 17s - loss: 0.6932 - accuracy: - ETA: 17s - loss: 0.6932 - accurac - ETA: 16s - loss: 0.6932 - accurac - ETA: 15s - loss:  - ETA: 1s - loss: 0.6932 - accu - ETA: 1s -\n",
      "Epoch 12/20\n",
      "2146/2146 [==============================] - 78s 36ms/step - loss: 0.6932 - accuracy: 0.5015 - val_loss: 0.6961 - val_accuracy: 0.0925\n",
      "Epoch 13/20\n",
      "2146/2146 [==============================] - 94s 44ms/step - loss: 0.6932 - accuracy: 0.4984 - val_loss: 0.6910 - val_accuracy: 0.9075\n",
      "Epoch 15/20\n",
      "2146/2146 [==============================] - 82s 38ms/step - loss: 0.6932 - accuracy: 0.5003 - val_loss: 0.6944 - val_accuracy: 0.0925\n",
      "Epoch 16/20\n",
      "2146/2146 [==============================] - 81s 38ms/step - loss: 0.6932 - accuracy: 0.4986 - val_loss: 0.6970 - val_accuracy: 0.0925\n",
      "Epoch 17/20\n",
      "2146/2146 [==============================] - 85s 40ms/step - loss: 0.6932 - accuracy: 0.4994 - val_loss: 0.6960 - val_accuracy: 0.0925\n",
      "Epoch 18/20\n",
      "2146/2146 [==============================] - 83s 39ms/step - loss: 0.6932 - accuracy: 0.4975 - val_loss: 0.6926 - val_accuracy: 0.9075\n",
      "Epoch 19/20\n",
      "2146/2146 [==============================] - 82s 38ms/step - loss: 0.6932 - accuracy: 0.4983 - val_loss: 0.6893 - val_accuracy: 0.9075\n",
      "Epoch 20/20\n",
      "2146/2146 [==============================] - 84s 39ms/step - loss: 0.6932 - accuracy: 0.5008 - val_loss: 0.6916 - val_accuracy: 0.9075\n"
     ]
    }
   ],
   "source": [
    "# Trains the model for a fixed number of epochs (iterations on a dataset).\n",
    "history = model.fit(x_train_sm, y_train_sm, batch_size=32, epochs=20, validation_data=(x_test, y_test))"
   ]
  },
  {
   "cell_type": "code",
   "execution_count": 50,
   "id": "a4aa5ff6",
   "metadata": {},
   "outputs": [
    {
     "data": {
      "text/plain": [
       "[0.6915768384933472, 0.9075053334236145]"
      ]
     },
     "execution_count": 50,
     "metadata": {},
     "output_type": "execute_result"
    }
   ],
   "source": [
    "# Returns the loss value & metrics values for the model in test mode.\n",
    "model.evaluate(x_test, y_test, verbose=0)"
   ]
  },
  {
   "cell_type": "code",
   "execution_count": 30,
   "id": "fd544765",
   "metadata": {},
   "outputs": [],
   "source": [
    "# Generates output predictions for the input samples.\n",
    "yhat = model.predict(x_test)"
   ]
  },
  {
   "cell_type": "code",
   "execution_count": 31,
   "id": "73107937",
   "metadata": {},
   "outputs": [],
   "source": [
    "y_pred = []\n",
    "\n",
    "for i in yhat:\n",
    "    if i > 0.5:\n",
    "        y_pred.append(1)\n",
    "    else:\n",
    "        y_pred.append(0)\n"
   ]
  },
  {
   "cell_type": "code",
   "execution_count": 32,
   "id": "87f57e17",
   "metadata": {
    "scrolled": true
   },
   "outputs": [
    {
     "name": "stdout",
     "output_type": "stream",
     "text": [
      "Accuracy Score:- 0.91\n"
     ]
    }
   ],
   "source": [
    "# Accuracy classification score.\n",
    "print(\"Accuracy Score:- {:.2f}\".format(accuracy_score(y_test, y_pred)))"
   ]
  },
  {
   "cell_type": "code",
   "execution_count": 33,
   "id": "28e1d2c7",
   "metadata": {},
   "outputs": [
    {
     "name": "stdout",
     "output_type": "stream",
     "text": [
      "              precision    recall  f1-score   support\n",
      "\n",
      "           0       0.91      1.00      0.95     18367\n",
      "           1       0.00      0.00      0.00      1872\n",
      "\n",
      "    accuracy                           0.91     20239\n",
      "   macro avg       0.45      0.50      0.48     20239\n",
      "weighted avg       0.82      0.91      0.86     20239\n",
      "\n"
     ]
    },
    {
     "name": "stderr",
     "output_type": "stream",
     "text": [
      "C:\\Users\\Silas\\anaconda3\\lib\\site-packages\\sklearn\\metrics\\_classification.py:1308: UndefinedMetricWarning: Precision and F-score are ill-defined and being set to 0.0 in labels with no predicted samples. Use `zero_division` parameter to control this behavior.\n",
      "  _warn_prf(average, modifier, msg_start, len(result))\n",
      "C:\\Users\\Silas\\anaconda3\\lib\\site-packages\\sklearn\\metrics\\_classification.py:1308: UndefinedMetricWarning: Precision and F-score are ill-defined and being set to 0.0 in labels with no predicted samples. Use `zero_division` parameter to control this behavior.\n",
      "  _warn_prf(average, modifier, msg_start, len(result))\n",
      "C:\\Users\\Silas\\anaconda3\\lib\\site-packages\\sklearn\\metrics\\_classification.py:1308: UndefinedMetricWarning: Precision and F-score are ill-defined and being set to 0.0 in labels with no predicted samples. Use `zero_division` parameter to control this behavior.\n",
      "  _warn_prf(average, modifier, msg_start, len(result))\n"
     ]
    }
   ],
   "source": [
    "#\n",
    "print(classification_report(y_test, y_pred))"
   ]
  },
  {
   "cell_type": "code",
   "execution_count": 34,
   "id": "b23ba54a",
   "metadata": {},
   "outputs": [
    {
     "name": "stdout",
     "output_type": "stream",
     "text": [
      "[[18367     0]\n",
      " [ 1872     0]]\n"
     ]
    }
   ],
   "source": [
    "# Build a text report showing the main classification metrics.\n",
    "print(confusion_matrix(y_test, y_pred))"
   ]
  },
  {
   "cell_type": "code",
   "execution_count": 35,
   "id": "9f10448c",
   "metadata": {},
   "outputs": [
    {
     "name": "stdout",
     "output_type": "stream",
     "text": [
      "3.1946533628772573\n"
     ]
    }
   ],
   "source": [
    "# cross-entropy loss.\n",
    "print(log_loss(y_test, y_pred))"
   ]
  },
  {
   "cell_type": "code",
   "execution_count": 36,
   "id": "62b1fcae",
   "metadata": {
    "scrolled": false
   },
   "outputs": [
    {
     "data": {
      "image/png": "[encoded data removed]",
      "text/plain": [
       "<Figure size 432x288 with 1 Axes>"
      ]
     },
     "metadata": {
      "needs_background": "light"
     },
     "output_type": "display_data"
    }
   ],
   "source": [
    "# plotting model performance\n",
    "plt.title('Model Performance')\n",
    "plt.plot(history.history['loss'], label='train')\n",
    "plt.plot(history.history['val_loss'], label='test')\n",
    "plt.legend()\n",
    "plt.show()"
   ]
  },
  {
   "cell_type": "code",
   "execution_count": 37,
   "id": "aaf46f5c",
   "metadata": {},
   "outputs": [
    {
     "data": {
      "text/html": [
       "<div>\n",
       "<style scoped>\n",
       "    .dataframe tbody tr th:only-of-type {\n",
       "        vertical-align: middle;\n",
       "    }\n",
       "\n",
       "    .dataframe tbody tr th {\n",
       "        vertical-align: top;\n",
       "    }\n",
       "\n",
       "    .dataframe thead th {\n",
       "        text-align: right;\n",
       "    }\n",
       "</style>\n",
       "<table border=\"1\" class=\"dataframe\">\n",
       "  <thead>\n",
       "    <tr style=\"text-align: right;\">\n",
       "      <th></th>\n",
       "      <th>Original Value</th>\n",
       "      <th>Model Predicted Value</th>\n",
       "    </tr>\n",
       "  </thead>\n",
       "  <tbody>\n",
       "    <tr>\n",
       "      <th>43475</th>\n",
       "      <td>0</td>\n",
       "      <td>0</td>\n",
       "    </tr>\n",
       "    <tr>\n",
       "      <th>33587</th>\n",
       "      <td>0</td>\n",
       "      <td>0</td>\n",
       "    </tr>\n",
       "    <tr>\n",
       "      <th>19712</th>\n",
       "      <td>0</td>\n",
       "      <td>0</td>\n",
       "    </tr>\n",
       "    <tr>\n",
       "      <th>29590</th>\n",
       "      <td>0</td>\n",
       "      <td>0</td>\n",
       "    </tr>\n",
       "    <tr>\n",
       "      <th>26366</th>\n",
       "      <td>0</td>\n",
       "      <td>0</td>\n",
       "    </tr>\n",
       "    <tr>\n",
       "      <th>22472</th>\n",
       "      <td>0</td>\n",
       "      <td>0</td>\n",
       "    </tr>\n",
       "    <tr>\n",
       "      <th>7836</th>\n",
       "      <td>1</td>\n",
       "      <td>0</td>\n",
       "    </tr>\n",
       "    <tr>\n",
       "      <th>53702</th>\n",
       "      <td>0</td>\n",
       "      <td>0</td>\n",
       "    </tr>\n",
       "    <tr>\n",
       "      <th>55245</th>\n",
       "      <td>1</td>\n",
       "      <td>0</td>\n",
       "    </tr>\n",
       "    <tr>\n",
       "      <th>50956</th>\n",
       "      <td>0</td>\n",
       "      <td>0</td>\n",
       "    </tr>\n",
       "  </tbody>\n",
       "</table>\n",
       "</div>"
      ],
      "text/plain": [
       "       Original Value  Model Predicted Value\n",
       "43475               0                      0\n",
       "33587               0                      0\n",
       "19712               0                      0\n",
       "29590               0                      0\n",
       "26366               0                      0\n",
       "22472               0                      0\n",
       "7836                1                      0\n",
       "53702               0                      0\n",
       "55245               1                      0\n",
       "50956               0                      0"
      ]
     },
     "execution_count": 37,
     "metadata": {},
     "output_type": "execute_result"
    }
   ],
   "source": [
    "# making dataframe to compare original value by model predicted value\n",
    "data = {'Original Value' : y_test, 'Model Predicted Value' : y_pred}\n",
    "final_data = pd.DataFrame(data)\n",
    "final_data.head(10)"
   ]
  },
  {
   "cell_type": "markdown",
   "id": "1d8b7283",
   "metadata": {},
   "source": [
    "**Saving Model For Development**\n",
    "\n",
    "using pickle to save model on local drive"
   ]
  },
  {
   "cell_type": "code",
   "execution_count": 38,
   "id": "a3844a53",
   "metadata": {},
   "outputs": [],
   "source": [
    "# Saves the model to Tensorflow SavedModel or a single HDF5 file\n",
    "#model.save('my_model.h5')"
   ]
  },
  {
   "cell_type": "code",
   "execution_count": 39,
   "id": "20b0da6a",
   "metadata": {},
   "outputs": [],
   "source": [
    "# loading datasets\n",
    "test = pd.read_csv(\"test.csv\")"
   ]
  },
  {
   "cell_type": "code",
   "execution_count": 40,
   "id": "bbacce28",
   "metadata": {},
   "outputs": [
    {
     "data": {
      "text/html": [
       "<div>\n",
       "<style scoped>\n",
       "    .dataframe tbody tr th:only-of-type {\n",
       "        vertical-align: middle;\n",
       "    }\n",
       "\n",
       "    .dataframe tbody tr th {\n",
       "        vertical-align: top;\n",
       "    }\n",
       "\n",
       "    .dataframe thead th {\n",
       "        text-align: right;\n",
       "    }\n",
       "</style>\n",
       "<table border=\"1\" class=\"dataframe\">\n",
       "  <thead>\n",
       "    <tr style=\"text-align: right;\">\n",
       "      <th></th>\n",
       "      <th>ID</th>\n",
       "      <th>Loan Amount</th>\n",
       "      <th>Funded Amount</th>\n",
       "      <th>Funded Amount Investor</th>\n",
       "      <th>Term</th>\n",
       "      <th>Batch Enrolled</th>\n",
       "      <th>Interest Rate</th>\n",
       "      <th>Grade</th>\n",
       "      <th>Sub Grade</th>\n",
       "      <th>Home Ownership</th>\n",
       "      <th>...</th>\n",
       "      <th>Recoveries</th>\n",
       "      <th>Collection Recovery Fee</th>\n",
       "      <th>Collection 12 months Medical</th>\n",
       "      <th>Application Type</th>\n",
       "      <th>Last week Pay</th>\n",
       "      <th>Accounts Delinquent</th>\n",
       "      <th>Total Collection Amount</th>\n",
       "      <th>Total Current Balance</th>\n",
       "      <th>Total Revolving Credit Limit</th>\n",
       "      <th>Loan Status</th>\n",
       "    </tr>\n",
       "  </thead>\n",
       "  <tbody>\n",
       "    <tr>\n",
       "      <th>0</th>\n",
       "      <td>56492997</td>\n",
       "      <td>17120</td>\n",
       "      <td>10365</td>\n",
       "      <td>16025.082690</td>\n",
       "      <td>59</td>\n",
       "      <td>BAT2575549</td>\n",
       "      <td>12.163926</td>\n",
       "      <td>A</td>\n",
       "      <td>D1</td>\n",
       "      <td>RENT</td>\n",
       "      <td>...</td>\n",
       "      <td>8.425776</td>\n",
       "      <td>0.731797</td>\n",
       "      <td>0</td>\n",
       "      <td>INDIVIDUAL</td>\n",
       "      <td>135</td>\n",
       "      <td>0</td>\n",
       "      <td>24</td>\n",
       "      <td>475442</td>\n",
       "      <td>4364</td>\n",
       "      <td>NaN</td>\n",
       "    </tr>\n",
       "    <tr>\n",
       "      <th>1</th>\n",
       "      <td>22540813</td>\n",
       "      <td>7133</td>\n",
       "      <td>11650</td>\n",
       "      <td>12615.795600</td>\n",
       "      <td>59</td>\n",
       "      <td>BAT2833642</td>\n",
       "      <td>6.564296</td>\n",
       "      <td>B</td>\n",
       "      <td>E3</td>\n",
       "      <td>MORTGAGE</td>\n",
       "      <td>...</td>\n",
       "      <td>6.157008</td>\n",
       "      <td>0.992918</td>\n",
       "      <td>0</td>\n",
       "      <td>INDIVIDUAL</td>\n",
       "      <td>56</td>\n",
       "      <td>0</td>\n",
       "      <td>1</td>\n",
       "      <td>72412</td>\n",
       "      <td>2573</td>\n",
       "      <td>NaN</td>\n",
       "    </tr>\n",
       "    <tr>\n",
       "      <th>2</th>\n",
       "      <td>9862181</td>\n",
       "      <td>25291</td>\n",
       "      <td>25825</td>\n",
       "      <td>11621.280830</td>\n",
       "      <td>59</td>\n",
       "      <td>BAT1761981</td>\n",
       "      <td>14.729900</td>\n",
       "      <td>A</td>\n",
       "      <td>C3</td>\n",
       "      <td>MORTGAGE</td>\n",
       "      <td>...</td>\n",
       "      <td>5.705077</td>\n",
       "      <td>0.281580</td>\n",
       "      <td>0</td>\n",
       "      <td>INDIVIDUAL</td>\n",
       "      <td>3</td>\n",
       "      <td>0</td>\n",
       "      <td>26</td>\n",
       "      <td>284825</td>\n",
       "      <td>19676</td>\n",
       "      <td>NaN</td>\n",
       "    </tr>\n",
       "    <tr>\n",
       "      <th>3</th>\n",
       "      <td>10097822</td>\n",
       "      <td>30781</td>\n",
       "      <td>9664</td>\n",
       "      <td>15375.823510</td>\n",
       "      <td>59</td>\n",
       "      <td>BAT5341619</td>\n",
       "      <td>10.523767</td>\n",
       "      <td>A</td>\n",
       "      <td>A2</td>\n",
       "      <td>RENT</td>\n",
       "      <td>...</td>\n",
       "      <td>2.469688</td>\n",
       "      <td>0.959162</td>\n",
       "      <td>0</td>\n",
       "      <td>INDIVIDUAL</td>\n",
       "      <td>21</td>\n",
       "      <td>0</td>\n",
       "      <td>32</td>\n",
       "      <td>40842</td>\n",
       "      <td>7226</td>\n",
       "      <td>NaN</td>\n",
       "    </tr>\n",
       "    <tr>\n",
       "      <th>4</th>\n",
       "      <td>47771809</td>\n",
       "      <td>8878</td>\n",
       "      <td>9419</td>\n",
       "      <td>7176.647582</td>\n",
       "      <td>58</td>\n",
       "      <td>BAT4694572</td>\n",
       "      <td>9.997013</td>\n",
       "      <td>C</td>\n",
       "      <td>B3</td>\n",
       "      <td>OWN</td>\n",
       "      <td>...</td>\n",
       "      <td>2.127835</td>\n",
       "      <td>0.402315</td>\n",
       "      <td>0</td>\n",
       "      <td>INDIVIDUAL</td>\n",
       "      <td>104</td>\n",
       "      <td>0</td>\n",
       "      <td>33</td>\n",
       "      <td>90825</td>\n",
       "      <td>26145</td>\n",
       "      <td>NaN</td>\n",
       "    </tr>\n",
       "  </tbody>\n",
       "</table>\n",
       "<p>5 rows × 35 columns</p>\n",
       "</div>"
      ],
      "text/plain": [
       "         ID  Loan Amount  Funded Amount  Funded Amount Investor  Term  \\\n",
       "0  56492997        17120          10365            16025.082690    59   \n",
       "1  22540813         7133          11650            12615.795600    59   \n",
       "2   9862181        25291          25825            11621.280830    59   \n",
       "3  10097822        30781           9664            15375.823510    59   \n",
       "4  47771809         8878           9419             7176.647582    58   \n",
       "\n",
       "  Batch Enrolled  Interest Rate Grade Sub Grade Home Ownership  ...  \\\n",
       "0     BAT2575549      12.163926     A        D1           RENT  ...   \n",
       "1     BAT2833642       6.564296     B        E3       MORTGAGE  ...   \n",
       "2     BAT1761981      14.729900     A        C3       MORTGAGE  ...   \n",
       "3     BAT5341619      10.523767     A        A2           RENT  ...   \n",
       "4     BAT4694572       9.997013     C        B3            OWN  ...   \n",
       "\n",
       "   Recoveries Collection Recovery Fee Collection 12 months Medical  \\\n",
       "0    8.425776                0.731797                            0   \n",
       "1    6.157008                0.992918                            0   \n",
       "2    5.705077                0.281580                            0   \n",
       "3    2.469688                0.959162                            0   \n",
       "4    2.127835                0.402315                            0   \n",
       "\n",
       "  Application Type  Last week Pay  Accounts Delinquent  \\\n",
       "0       INDIVIDUAL            135                    0   \n",
       "1       INDIVIDUAL             56                    0   \n",
       "2       INDIVIDUAL              3                    0   \n",
       "3       INDIVIDUAL             21                    0   \n",
       "4       INDIVIDUAL            104                    0   \n",
       "\n",
       "   Total Collection Amount  Total Current Balance  \\\n",
       "0                       24                 475442   \n",
       "1                        1                  72412   \n",
       "2                       26                 284825   \n",
       "3                       32                  40842   \n",
       "4                       33                  90825   \n",
       "\n",
       "   Total Revolving Credit Limit  Loan Status  \n",
       "0                          4364          NaN  \n",
       "1                          2573          NaN  \n",
       "2                         19676          NaN  \n",
       "3                          7226          NaN  \n",
       "4                         26145          NaN  \n",
       "\n",
       "[5 rows x 35 columns]"
      ]
     },
     "execution_count": 40,
     "metadata": {},
     "output_type": "execute_result"
    }
   ],
   "source": [
    "# retruns the first 5 head\n",
    "test.head()"
   ]
  },
  {
   "cell_type": "code",
   "execution_count": 41,
   "id": "da2ed2b9",
   "metadata": {},
   "outputs": [
    {
     "data": {
      "text/plain": [
       "(28913, 35)"
      ]
     },
     "execution_count": 41,
     "metadata": {},
     "output_type": "execute_result"
    }
   ],
   "source": [
    "# returns the dimensionality shape of the data\n",
    "test.shape"
   ]
  },
  {
   "cell_type": "code",
   "execution_count": 42,
   "id": "7f7df5dd",
   "metadata": {},
   "outputs": [],
   "source": [
    "# Drop specified labels from rows or columns.\n",
    "test = test.drop(['ID', 'Loan Status'], axis=1)"
   ]
  },
  {
   "cell_type": "code",
   "execution_count": 43,
   "id": "94a3918d",
   "metadata": {},
   "outputs": [],
   "source": [
    "# Encode target labels\n",
    "test['Batch Enrolled'] = LabelEncoder().fit_transform(test['Batch Enrolled'])\n",
    "test['Grade'] = LabelEncoder().fit_transform(test['Grade'])\n",
    "test['Sub Grade'] = LabelEncoder().fit_transform(test['Sub Grade'])\n",
    "test['Home Ownership'] = LabelEncoder().fit_transform(test['Home Ownership'])\n",
    "test['Verification Status'] = LabelEncoder().fit_transform(test['Verification Status'])\n",
    "test['Payment Plan'] = LabelEncoder().fit_transform(test['Payment Plan'])\n",
    "test['Loan Title'] = LabelEncoder().fit_transform(test['Loan Title'])\n",
    "test['Initial List Status'] = LabelEncoder().fit_transform(test['Initial List Status'])\n",
    "test['Application Type'] = LabelEncoder().fit_transform(test['Application Type'])"
   ]
  },
  {
   "cell_type": "code",
   "execution_count": 44,
   "id": "d3916b69",
   "metadata": {},
   "outputs": [],
   "source": [
    "# Scale features using statistics that are robust to outliers.\n",
    "mn = MinMaxScaler()\n",
    "# Fit to data, then transform it train data\n",
    "new_fd = mn.fit_transform(test)"
   ]
  },
  {
   "cell_type": "code",
   "execution_count": 45,
   "id": "7759ac8f",
   "metadata": {},
   "outputs": [],
   "source": [
    "# Generates output predictions for the input samples.\n",
    "pred_test = model.predict(new_fd)"
   ]
  },
  {
   "cell_type": "code",
   "execution_count": 46,
   "id": "dd1713f5",
   "metadata": {},
   "outputs": [],
   "source": [
    "Sub = []\n",
    "\n",
    "for i in pred_test:\n",
    "    if i > 0.5:\n",
    "        Sub.append(1)\n",
    "    else:\n",
    "        Sub.append(0)\n"
   ]
  },
  {
   "cell_type": "code",
   "execution_count": 47,
   "id": "9504dfa4",
   "metadata": {},
   "outputs": [],
   "source": [
    "# creating dataframe\n",
    "sub = pd.DataFrame(Sub, columns=['Loan Status'])"
   ]
  },
  {
   "cell_type": "code",
   "execution_count": 48,
   "id": "5bb46974",
   "metadata": {},
   "outputs": [],
   "source": [
    "# saving to prediction to csv file\n",
    "sub = sub.to_csv('submission.csv', index=False)"
   ]
  },
  {
   "cell_type": "code",
   "execution_count": 49,
   "id": "ed980017",
   "metadata": {},
   "outputs": [],
   "source": [
    "sub"
   ]
  }
 ],
 "metadata": {
  "kernelspec": {
   "display_name": "Python 3",
   "language": "python",
   "name": "python3"
  },
  "language_info": {
   "codemirror_mode": {
    "name": "ipython",
    "version": 3
   },
   "file_extension": ".py",
   "mimetype": "text/x-python",
   "name": "python",
   "nbconvert_exporter": "python",
   "pygments_lexer": "ipython3",
   "version": "3.8.8"
  }
 },
 "nbformat": 4,
 "nbformat_minor": 5
}
