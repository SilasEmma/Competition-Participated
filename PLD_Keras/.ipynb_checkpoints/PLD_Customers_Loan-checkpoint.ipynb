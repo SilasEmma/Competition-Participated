{
 "cells": [
  {
   "cell_type": "markdown",
   "id": "f728a5c5",
   "metadata": {},
   "source": [
    "# **Expresso Churn Prediction**\n",
    "\n",
    "Expresso is an African telecommunications services company that provides telecommunication services to customer. Expresso offers a wide range of products and services to meet the needs of customers.\n",
    "\n",
    "\n",
    "\n",
    "\n",
    "# **Aim**\n",
    "\n",
    "The objective is to develop a predictive model that determines the likelihood for a customer to churn - to stop purchasing airtime and data from Expresso. Every Company priority or dream is retaining existing customer which is more cost effective than acquiring new customers.\n",
    "\n",
    "\n",
    "**Environment Setup**\n",
    "\n",
    "1. Scikit-learn\n",
    "2. Pandas\n",
    "3. Matplotlib\n",
    "4. Tensorflow\n",
    "5. Keras API"
   ]
  },
  {
   "cell_type": "code",
   "execution_count": 1,
   "id": "b8076692",
   "metadata": {},
   "outputs": [],
   "source": [
    "# loading relevant libraries for model development, data manipution and visualization\n",
    "\n",
    "# loading data manipulation tool\n",
    "import pandas as pd\n",
    "import numpy as np\n",
    "import pickle\n",
    "from collections import Counter\n",
    "\n",
    "# Data visualization tool\n",
    "import seaborn as sns\n",
    "from matplotlib import pyplot as plt\n",
    "\n",
    "# loading model performance lib\n",
    "from sklearn.metrics import classification_report, confusion_matrix\n",
    "from sklearn.metrics import accuracy_score, f1_score, plot_roc_curve\n",
    "\n",
    "# preprocessing lib\n",
    "from sklearn.impute import KNNImputer, SimpleImputer\n",
    "from sklearn.preprocessing import MinMaxScaler, LabelEncoder, OrdinalEncoder\n",
    "from sklearn.model_selection import train_test_split\n",
    "from imblearn.under_sampling import NearMiss\n",
    "from imblearn.over_sampling import SMOTE\n",
    "\n",
    "# loading algorithm\n",
    "from tensorflow.keras import Sequential\n",
    "from tensorflow.keras.layers import Dense, Dropout"
   ]
  },
  {
   "cell_type": "code",
   "execution_count": 2,
   "id": "a40afbbf",
   "metadata": {},
   "outputs": [],
   "source": [
    "# loading datasets\n",
    "df = pd.read_csv(\"Train.csv\")"
   ]
  },
  {
   "cell_type": "code",
   "execution_count": 3,
   "id": "91e7fde6",
   "metadata": {},
   "outputs": [
    {
     "data": {
      "text/html": [
       "<div>\n",
       "<style scoped>\n",
       "    .dataframe tbody tr th:only-of-type {\n",
       "        vertical-align: middle;\n",
       "    }\n",
       "\n",
       "    .dataframe tbody tr th {\n",
       "        vertical-align: top;\n",
       "    }\n",
       "\n",
       "    .dataframe thead th {\n",
       "        text-align: right;\n",
       "    }\n",
       "</style>\n",
       "<table border=\"1\" class=\"dataframe\">\n",
       "  <thead>\n",
       "    <tr style=\"text-align: right;\">\n",
       "      <th></th>\n",
       "      <th>user_id</th>\n",
       "      <th>REGION</th>\n",
       "      <th>TENURE</th>\n",
       "      <th>MONTANT</th>\n",
       "      <th>FREQUENCE_RECH</th>\n",
       "      <th>REVENUE</th>\n",
       "      <th>ARPU_SEGMENT</th>\n",
       "      <th>FREQUENCE</th>\n",
       "      <th>DATA_VOLUME</th>\n",
       "      <th>ON_NET</th>\n",
       "      <th>ORANGE</th>\n",
       "      <th>TIGO</th>\n",
       "      <th>ZONE1</th>\n",
       "      <th>ZONE2</th>\n",
       "      <th>MRG</th>\n",
       "      <th>REGULARITY</th>\n",
       "      <th>TOP_PACK</th>\n",
       "      <th>FREQ_TOP_PACK</th>\n",
       "      <th>CHURN</th>\n",
       "    </tr>\n",
       "  </thead>\n",
       "  <tbody>\n",
       "    <tr>\n",
       "      <th>0</th>\n",
       "      <td>00000bfd7d50f01092811bc0c8d7b0d6fe7c3596</td>\n",
       "      <td>FATICK</td>\n",
       "      <td>K &gt; 24 month</td>\n",
       "      <td>4250.0</td>\n",
       "      <td>15.0</td>\n",
       "      <td>4251.0</td>\n",
       "      <td>1417.0</td>\n",
       "      <td>17.0</td>\n",
       "      <td>4.0</td>\n",
       "      <td>388.0</td>\n",
       "      <td>46.0</td>\n",
       "      <td>1.0</td>\n",
       "      <td>1.0</td>\n",
       "      <td>2.0</td>\n",
       "      <td>NO</td>\n",
       "      <td>54</td>\n",
       "      <td>On net 200F=Unlimited _call24H</td>\n",
       "      <td>8.0</td>\n",
       "      <td>0</td>\n",
       "    </tr>\n",
       "    <tr>\n",
       "      <th>1</th>\n",
       "      <td>00000cb4a5d760de88fecb38e2f71b7bec52e834</td>\n",
       "      <td>NaN</td>\n",
       "      <td>I 18-21 month</td>\n",
       "      <td>NaN</td>\n",
       "      <td>NaN</td>\n",
       "      <td>NaN</td>\n",
       "      <td>NaN</td>\n",
       "      <td>NaN</td>\n",
       "      <td>NaN</td>\n",
       "      <td>NaN</td>\n",
       "      <td>NaN</td>\n",
       "      <td>NaN</td>\n",
       "      <td>NaN</td>\n",
       "      <td>NaN</td>\n",
       "      <td>NO</td>\n",
       "      <td>4</td>\n",
       "      <td>NaN</td>\n",
       "      <td>NaN</td>\n",
       "      <td>1</td>\n",
       "    </tr>\n",
       "    <tr>\n",
       "      <th>2</th>\n",
       "      <td>00001654a9d9f96303d9969d0a4a851714a4bb57</td>\n",
       "      <td>NaN</td>\n",
       "      <td>K &gt; 24 month</td>\n",
       "      <td>3600.0</td>\n",
       "      <td>2.0</td>\n",
       "      <td>1020.0</td>\n",
       "      <td>340.0</td>\n",
       "      <td>2.0</td>\n",
       "      <td>NaN</td>\n",
       "      <td>90.0</td>\n",
       "      <td>46.0</td>\n",
       "      <td>7.0</td>\n",
       "      <td>NaN</td>\n",
       "      <td>NaN</td>\n",
       "      <td>NO</td>\n",
       "      <td>17</td>\n",
       "      <td>On-net 1000F=10MilF;10d</td>\n",
       "      <td>1.0</td>\n",
       "      <td>0</td>\n",
       "    </tr>\n",
       "    <tr>\n",
       "      <th>3</th>\n",
       "      <td>00001dd6fa45f7ba044bd5d84937be464ce78ac2</td>\n",
       "      <td>DAKAR</td>\n",
       "      <td>K &gt; 24 month</td>\n",
       "      <td>13500.0</td>\n",
       "      <td>15.0</td>\n",
       "      <td>13502.0</td>\n",
       "      <td>4501.0</td>\n",
       "      <td>18.0</td>\n",
       "      <td>43804.0</td>\n",
       "      <td>41.0</td>\n",
       "      <td>102.0</td>\n",
       "      <td>2.0</td>\n",
       "      <td>NaN</td>\n",
       "      <td>NaN</td>\n",
       "      <td>NO</td>\n",
       "      <td>62</td>\n",
       "      <td>Data:1000F=5GB,7d</td>\n",
       "      <td>11.0</td>\n",
       "      <td>0</td>\n",
       "    </tr>\n",
       "    <tr>\n",
       "      <th>4</th>\n",
       "      <td>000028d9e13a595abe061f9b58f3d76ab907850f</td>\n",
       "      <td>DAKAR</td>\n",
       "      <td>K &gt; 24 month</td>\n",
       "      <td>1000.0</td>\n",
       "      <td>1.0</td>\n",
       "      <td>985.0</td>\n",
       "      <td>328.0</td>\n",
       "      <td>1.0</td>\n",
       "      <td>NaN</td>\n",
       "      <td>39.0</td>\n",
       "      <td>24.0</td>\n",
       "      <td>NaN</td>\n",
       "      <td>NaN</td>\n",
       "      <td>NaN</td>\n",
       "      <td>NO</td>\n",
       "      <td>11</td>\n",
       "      <td>Mixt 250F=Unlimited_call24H</td>\n",
       "      <td>2.0</td>\n",
       "      <td>0</td>\n",
       "    </tr>\n",
       "  </tbody>\n",
       "</table>\n",
       "</div>"
      ],
      "text/plain": [
       "                                    user_id  REGION         TENURE  MONTANT  \\\n",
       "0  00000bfd7d50f01092811bc0c8d7b0d6fe7c3596  FATICK   K > 24 month   4250.0   \n",
       "1  00000cb4a5d760de88fecb38e2f71b7bec52e834     NaN  I 18-21 month      NaN   \n",
       "2  00001654a9d9f96303d9969d0a4a851714a4bb57     NaN   K > 24 month   3600.0   \n",
       "3  00001dd6fa45f7ba044bd5d84937be464ce78ac2   DAKAR   K > 24 month  13500.0   \n",
       "4  000028d9e13a595abe061f9b58f3d76ab907850f   DAKAR   K > 24 month   1000.0   \n",
       "\n",
       "   FREQUENCE_RECH  REVENUE  ARPU_SEGMENT  FREQUENCE  DATA_VOLUME  ON_NET  \\\n",
       "0            15.0   4251.0        1417.0       17.0          4.0   388.0   \n",
       "1             NaN      NaN           NaN        NaN          NaN     NaN   \n",
       "2             2.0   1020.0         340.0        2.0          NaN    90.0   \n",
       "3            15.0  13502.0        4501.0       18.0      43804.0    41.0   \n",
       "4             1.0    985.0         328.0        1.0          NaN    39.0   \n",
       "\n",
       "   ORANGE  TIGO  ZONE1  ZONE2 MRG  REGULARITY                        TOP_PACK  \\\n",
       "0    46.0   1.0    1.0    2.0  NO          54  On net 200F=Unlimited _call24H   \n",
       "1     NaN   NaN    NaN    NaN  NO           4                             NaN   \n",
       "2    46.0   7.0    NaN    NaN  NO          17         On-net 1000F=10MilF;10d   \n",
       "3   102.0   2.0    NaN    NaN  NO          62               Data:1000F=5GB,7d   \n",
       "4    24.0   NaN    NaN    NaN  NO          11     Mixt 250F=Unlimited_call24H   \n",
       "\n",
       "   FREQ_TOP_PACK  CHURN  \n",
       "0            8.0      0  \n",
       "1            NaN      1  \n",
       "2            1.0      0  \n",
       "3           11.0      0  \n",
       "4            2.0      0  "
      ]
     },
     "execution_count": 3,
     "metadata": {},
     "output_type": "execute_result"
    }
   ],
   "source": [
    "# Return the first 5 rows.\n",
    "df.head()"
   ]
  },
  {
   "cell_type": "code",
   "execution_count": 4,
   "id": "36b5aa3c",
   "metadata": {},
   "outputs": [
    {
     "data": {
      "text/plain": [
       "(2154048, 19)"
      ]
     },
     "execution_count": 4,
     "metadata": {},
     "output_type": "execute_result"
    }
   ],
   "source": [
    "# Return a tuple representing the dimensionality of the DataFrame.\n",
    "df.shape"
   ]
  },
  {
   "cell_type": "code",
   "execution_count": 5,
   "id": "1820e040",
   "metadata": {},
   "outputs": [
    {
     "name": "stdout",
     "output_type": "stream",
     "text": [
      "<class 'pandas.core.frame.DataFrame'>\n",
      "RangeIndex: 2154048 entries, 0 to 2154047\n",
      "Data columns (total 19 columns):\n",
      " #   Column          Dtype  \n",
      "---  ------          -----  \n",
      " 0   user_id         object \n",
      " 1   REGION          object \n",
      " 2   TENURE          object \n",
      " 3   MONTANT         float64\n",
      " 4   FREQUENCE_RECH  float64\n",
      " 5   REVENUE         float64\n",
      " 6   ARPU_SEGMENT    float64\n",
      " 7   FREQUENCE       float64\n",
      " 8   DATA_VOLUME     float64\n",
      " 9   ON_NET          float64\n",
      " 10  ORANGE          float64\n",
      " 11  TIGO            float64\n",
      " 12  ZONE1           float64\n",
      " 13  ZONE2           float64\n",
      " 14  MRG             object \n",
      " 15  REGULARITY      int64  \n",
      " 16  TOP_PACK        object \n",
      " 17  FREQ_TOP_PACK   float64\n",
      " 18  CHURN           int64  \n",
      "dtypes: float64(12), int64(2), object(5)\n",
      "memory usage: 312.2+ MB\n"
     ]
    }
   ],
   "source": [
    "# Print a concise summary of a DataFrame.\n",
    "df.info()"
   ]
  },
  {
   "cell_type": "code",
   "execution_count": 6,
   "id": "c56410e0",
   "metadata": {
    "scrolled": true
   },
   "outputs": [
    {
     "data": {
      "text/plain": [
       "user_id                 0\n",
       "REGION             849299\n",
       "TENURE                  0\n",
       "MONTANT            756739\n",
       "FREQUENCE_RECH     756739\n",
       "REVENUE            726048\n",
       "ARPU_SEGMENT       726048\n",
       "FREQUENCE          726048\n",
       "DATA_VOLUME       1060433\n",
       "ON_NET             786675\n",
       "ORANGE             895248\n",
       "TIGO              1290016\n",
       "ZONE1             1984327\n",
       "ZONE2             2017224\n",
       "MRG                     0\n",
       "REGULARITY              0\n",
       "TOP_PACK           902594\n",
       "FREQ_TOP_PACK      902594\n",
       "CHURN                   0\n",
       "dtype: int64"
      ]
     },
     "execution_count": 6,
     "metadata": {},
     "output_type": "execute_result"
    }
   ],
   "source": [
    "# return number of missing value present\n",
    "df.isnull().sum()"
   ]
  },
  {
   "cell_type": "code",
   "execution_count": 7,
   "id": "d57ec7ce",
   "metadata": {},
   "outputs": [
    {
     "data": {
      "text/html": [
       "<div>\n",
       "<style scoped>\n",
       "    .dataframe tbody tr th:only-of-type {\n",
       "        vertical-align: middle;\n",
       "    }\n",
       "\n",
       "    .dataframe tbody tr th {\n",
       "        vertical-align: top;\n",
       "    }\n",
       "\n",
       "    .dataframe thead th {\n",
       "        text-align: right;\n",
       "    }\n",
       "</style>\n",
       "<table border=\"1\" class=\"dataframe\">\n",
       "  <thead>\n",
       "    <tr style=\"text-align: right;\">\n",
       "      <th></th>\n",
       "      <th>MONTANT</th>\n",
       "      <th>FREQUENCE_RECH</th>\n",
       "      <th>REVENUE</th>\n",
       "      <th>ARPU_SEGMENT</th>\n",
       "      <th>FREQUENCE</th>\n",
       "      <th>DATA_VOLUME</th>\n",
       "      <th>ON_NET</th>\n",
       "      <th>ORANGE</th>\n",
       "      <th>TIGO</th>\n",
       "      <th>ZONE1</th>\n",
       "      <th>ZONE2</th>\n",
       "      <th>REGULARITY</th>\n",
       "      <th>FREQ_TOP_PACK</th>\n",
       "      <th>CHURN</th>\n",
       "    </tr>\n",
       "  </thead>\n",
       "  <tbody>\n",
       "    <tr>\n",
       "      <th>count</th>\n",
       "      <td>1.397309e+06</td>\n",
       "      <td>1.397309e+06</td>\n",
       "      <td>1.428000e+06</td>\n",
       "      <td>1.428000e+06</td>\n",
       "      <td>1.428000e+06</td>\n",
       "      <td>1.093615e+06</td>\n",
       "      <td>1.367373e+06</td>\n",
       "      <td>1.258800e+06</td>\n",
       "      <td>864032.000000</td>\n",
       "      <td>169721.000000</td>\n",
       "      <td>136824.000000</td>\n",
       "      <td>2.154048e+06</td>\n",
       "      <td>1.251454e+06</td>\n",
       "      <td>2.154048e+06</td>\n",
       "    </tr>\n",
       "    <tr>\n",
       "      <th>mean</th>\n",
       "      <td>5.532117e+03</td>\n",
       "      <td>1.152912e+01</td>\n",
       "      <td>5.510810e+03</td>\n",
       "      <td>1.836943e+03</td>\n",
       "      <td>1.397814e+01</td>\n",
       "      <td>3.366450e+03</td>\n",
       "      <td>2.776891e+02</td>\n",
       "      <td>9.541871e+01</td>\n",
       "      <td>23.109253</td>\n",
       "      <td>8.170132</td>\n",
       "      <td>7.553309</td>\n",
       "      <td>2.804251e+01</td>\n",
       "      <td>9.272461e+00</td>\n",
       "      <td>1.875474e-01</td>\n",
       "    </tr>\n",
       "    <tr>\n",
       "      <th>std</th>\n",
       "      <td>7.111339e+03</td>\n",
       "      <td>1.327407e+01</td>\n",
       "      <td>7.187113e+03</td>\n",
       "      <td>2.395700e+03</td>\n",
       "      <td>1.469403e+01</td>\n",
       "      <td>1.330446e+04</td>\n",
       "      <td>8.726889e+02</td>\n",
       "      <td>2.049873e+02</td>\n",
       "      <td>63.578086</td>\n",
       "      <td>41.169511</td>\n",
       "      <td>33.487234</td>\n",
       "      <td>2.228686e+01</td>\n",
       "      <td>1.228044e+01</td>\n",
       "      <td>3.903504e-01</td>\n",
       "    </tr>\n",
       "    <tr>\n",
       "      <th>min</th>\n",
       "      <td>1.000000e+01</td>\n",
       "      <td>1.000000e+00</td>\n",
       "      <td>1.000000e+00</td>\n",
       "      <td>0.000000e+00</td>\n",
       "      <td>1.000000e+00</td>\n",
       "      <td>0.000000e+00</td>\n",
       "      <td>0.000000e+00</td>\n",
       "      <td>0.000000e+00</td>\n",
       "      <td>0.000000</td>\n",
       "      <td>0.000000</td>\n",
       "      <td>0.000000</td>\n",
       "      <td>1.000000e+00</td>\n",
       "      <td>1.000000e+00</td>\n",
       "      <td>0.000000e+00</td>\n",
       "    </tr>\n",
       "    <tr>\n",
       "      <th>25%</th>\n",
       "      <td>1.000000e+03</td>\n",
       "      <td>2.000000e+00</td>\n",
       "      <td>1.000000e+03</td>\n",
       "      <td>3.330000e+02</td>\n",
       "      <td>3.000000e+00</td>\n",
       "      <td>0.000000e+00</td>\n",
       "      <td>5.000000e+00</td>\n",
       "      <td>7.000000e+00</td>\n",
       "      <td>2.000000</td>\n",
       "      <td>0.000000</td>\n",
       "      <td>0.000000</td>\n",
       "      <td>6.000000e+00</td>\n",
       "      <td>2.000000e+00</td>\n",
       "      <td>0.000000e+00</td>\n",
       "    </tr>\n",
       "    <tr>\n",
       "      <th>50%</th>\n",
       "      <td>3.000000e+03</td>\n",
       "      <td>7.000000e+00</td>\n",
       "      <td>3.000000e+03</td>\n",
       "      <td>1.000000e+03</td>\n",
       "      <td>9.000000e+00</td>\n",
       "      <td>2.570000e+02</td>\n",
       "      <td>2.700000e+01</td>\n",
       "      <td>2.900000e+01</td>\n",
       "      <td>6.000000</td>\n",
       "      <td>1.000000</td>\n",
       "      <td>2.000000</td>\n",
       "      <td>2.400000e+01</td>\n",
       "      <td>5.000000e+00</td>\n",
       "      <td>0.000000e+00</td>\n",
       "    </tr>\n",
       "    <tr>\n",
       "      <th>75%</th>\n",
       "      <td>7.350000e+03</td>\n",
       "      <td>1.600000e+01</td>\n",
       "      <td>7.368000e+03</td>\n",
       "      <td>2.456000e+03</td>\n",
       "      <td>2.000000e+01</td>\n",
       "      <td>2.895000e+03</td>\n",
       "      <td>1.560000e+02</td>\n",
       "      <td>9.900000e+01</td>\n",
       "      <td>20.000000</td>\n",
       "      <td>3.000000</td>\n",
       "      <td>5.000000</td>\n",
       "      <td>5.100000e+01</td>\n",
       "      <td>1.200000e+01</td>\n",
       "      <td>0.000000e+00</td>\n",
       "    </tr>\n",
       "    <tr>\n",
       "      <th>max</th>\n",
       "      <td>4.700000e+05</td>\n",
       "      <td>1.330000e+02</td>\n",
       "      <td>5.321770e+05</td>\n",
       "      <td>1.773920e+05</td>\n",
       "      <td>9.100000e+01</td>\n",
       "      <td>1.823866e+06</td>\n",
       "      <td>5.080900e+04</td>\n",
       "      <td>2.132300e+04</td>\n",
       "      <td>4174.000000</td>\n",
       "      <td>4792.000000</td>\n",
       "      <td>3697.000000</td>\n",
       "      <td>6.200000e+01</td>\n",
       "      <td>7.130000e+02</td>\n",
       "      <td>1.000000e+00</td>\n",
       "    </tr>\n",
       "  </tbody>\n",
       "</table>\n",
       "</div>"
      ],
      "text/plain": [
       "            MONTANT  FREQUENCE_RECH       REVENUE  ARPU_SEGMENT     FREQUENCE  \\\n",
       "count  1.397309e+06    1.397309e+06  1.428000e+06  1.428000e+06  1.428000e+06   \n",
       "mean   5.532117e+03    1.152912e+01  5.510810e+03  1.836943e+03  1.397814e+01   \n",
       "std    7.111339e+03    1.327407e+01  7.187113e+03  2.395700e+03  1.469403e+01   \n",
       "min    1.000000e+01    1.000000e+00  1.000000e+00  0.000000e+00  1.000000e+00   \n",
       "25%    1.000000e+03    2.000000e+00  1.000000e+03  3.330000e+02  3.000000e+00   \n",
       "50%    3.000000e+03    7.000000e+00  3.000000e+03  1.000000e+03  9.000000e+00   \n",
       "75%    7.350000e+03    1.600000e+01  7.368000e+03  2.456000e+03  2.000000e+01   \n",
       "max    4.700000e+05    1.330000e+02  5.321770e+05  1.773920e+05  9.100000e+01   \n",
       "\n",
       "        DATA_VOLUME        ON_NET        ORANGE           TIGO          ZONE1  \\\n",
       "count  1.093615e+06  1.367373e+06  1.258800e+06  864032.000000  169721.000000   \n",
       "mean   3.366450e+03  2.776891e+02  9.541871e+01      23.109253       8.170132   \n",
       "std    1.330446e+04  8.726889e+02  2.049873e+02      63.578086      41.169511   \n",
       "min    0.000000e+00  0.000000e+00  0.000000e+00       0.000000       0.000000   \n",
       "25%    0.000000e+00  5.000000e+00  7.000000e+00       2.000000       0.000000   \n",
       "50%    2.570000e+02  2.700000e+01  2.900000e+01       6.000000       1.000000   \n",
       "75%    2.895000e+03  1.560000e+02  9.900000e+01      20.000000       3.000000   \n",
       "max    1.823866e+06  5.080900e+04  2.132300e+04    4174.000000    4792.000000   \n",
       "\n",
       "               ZONE2    REGULARITY  FREQ_TOP_PACK         CHURN  \n",
       "count  136824.000000  2.154048e+06   1.251454e+06  2.154048e+06  \n",
       "mean        7.553309  2.804251e+01   9.272461e+00  1.875474e-01  \n",
       "std        33.487234  2.228686e+01   1.228044e+01  3.903504e-01  \n",
       "min         0.000000  1.000000e+00   1.000000e+00  0.000000e+00  \n",
       "25%         0.000000  6.000000e+00   2.000000e+00  0.000000e+00  \n",
       "50%         2.000000  2.400000e+01   5.000000e+00  0.000000e+00  \n",
       "75%         5.000000  5.100000e+01   1.200000e+01  0.000000e+00  \n",
       "max      3697.000000  6.200000e+01   7.130000e+02  1.000000e+00  "
      ]
     },
     "execution_count": 7,
     "metadata": {},
     "output_type": "execute_result"
    }
   ],
   "source": [
    "# Generate descriptive statistics.\n",
    "df.describe()"
   ]
  },
  {
   "cell_type": "markdown",
   "id": "6b613387",
   "metadata": {},
   "source": [
    "**Eploratory Data Analysis and Visualization**"
   ]
  },
  {
   "cell_type": "code",
   "execution_count": 8,
   "id": "07392d75",
   "metadata": {
    "scrolled": true
   },
   "outputs": [
    {
     "data": {
      "text/plain": [
       "0    1750062\n",
       "1     403986\n",
       "Name: CHURN, dtype: int64"
      ]
     },
     "execution_count": 8,
     "metadata": {},
     "output_type": "execute_result"
    }
   ],
   "source": [
    "# Return a Series containing counts of unique rows in the DataFrame.\n",
    "df['CHURN'].value_counts()"
   ]
  },
  {
   "cell_type": "code",
   "execution_count": 9,
   "id": "dae5d955",
   "metadata": {},
   "outputs": [
    {
     "data": {
      "text/plain": [
       "K > 24 month     2043201\n",
       "I 18-21 month      45278\n",
       "H 15-18 month      26006\n",
       "G 12-15 month      14901\n",
       "J 21-24 month      12725\n",
       "F 9-12 month        9328\n",
       "E 6-9 month         1839\n",
       "D 3-6 month          770\n",
       "Name: TENURE, dtype: int64"
      ]
     },
     "execution_count": 9,
     "metadata": {},
     "output_type": "execute_result"
    }
   ],
   "source": [
    "# Return a Series containing counts of unique rows in the DataFrame.\n",
    "df['TENURE'].value_counts()"
   ]
  },
  {
   "cell_type": "code",
   "execution_count": 10,
   "id": "20537405",
   "metadata": {},
   "outputs": [
    {
     "data": {
      "text/plain": [
       "<AxesSubplot:title={'center':\"Customer's Region.\"}, xlabel='REGION', ylabel='count'>"
      ]
     },
     "execution_count": 10,
     "metadata": {},
     "output_type": "execute_result"
    },
    {
     "data": {
      "image/png": "[encoded data removed]",
      "text/plain": [
       "<Figure size 1440x360 with 1 Axes>"
      ]
     },
     "metadata": {
      "needs_background": "light"
     },
     "output_type": "display_data"
    }
   ],
   "source": [
    "# plotting region\n",
    "\n",
    "plt.figure(figsize=(20,5))\n",
    "plt.title(\"Customer's Region.\")\n",
    "sns.countplot(data=df, x='REGION')"
   ]
  },
  {
   "cell_type": "code",
   "execution_count": 11,
   "id": "86fc72dc",
   "metadata": {
    "scrolled": true
   },
   "outputs": [
    {
     "data": {
      "text/plain": [
       "<AxesSubplot:title={'center':'Tenure by Customer REVENUE.'}, xlabel='TENURE', ylabel='REVENUE'>"
      ]
     },
     "execution_count": 11,
     "metadata": {},
     "output_type": "execute_result"
    },
    {
     "data": {
      "image/png": "[encoded data removed]",
      "text/plain": [
       "<Figure size 1440x360 with 1 Axes>"
      ]
     },
     "metadata": {
      "needs_background": "light"
     },
     "output_type": "display_data"
    }
   ],
   "source": [
    "# detecting outliers using boxplot\n",
    "\n",
    "plt.figure(figsize=(20,5))\n",
    "plt.title(\"Tenure by Customer REVENUE.\")\n",
    "sns.boxplot(data=df, x='TENURE', y='REVENUE')"
   ]
  },
  {
   "cell_type": "code",
   "execution_count": 12,
   "id": "c2335820",
   "metadata": {
    "scrolled": true
   },
   "outputs": [
    {
     "data": {
      "text/plain": [
       "<AxesSubplot:title={'center':'Data Usage by Customer REVENUE.'}, xlabel='DATA_VOLUME', ylabel='REVENUE'>"
      ]
     },
     "execution_count": 12,
     "metadata": {},
     "output_type": "execute_result"
    },
    {
     "data": {
      "image/png": "[encoded data removed]",
      "text/plain": [
       "<Figure size 1440x360 with 1 Axes>"
      ]
     },
     "metadata": {
      "needs_background": "light"
     },
     "output_type": "display_data"
    }
   ],
   "source": [
    "# detecting outliers using scatterplot\n",
    "\n",
    "plt.figure(figsize=(20,5))\n",
    "plt.title(\"Data Usage by Customer REVENUE.\")\n",
    "sns.scatterplot(data=df, x='DATA_VOLUME', y='REVENUE')"
   ]
  },
  {
   "cell_type": "markdown",
   "id": "6c6ab4c1",
   "metadata": {},
   "source": [
    "**Data Cleaning and Preprocessing**\n",
    "\n",
    "1. Drop inrelevant columns\n",
    "2. Handle outliers by using RobusterScaler\n",
    "3. Treating missing value"
   ]
  },
  {
   "cell_type": "code",
   "execution_count": 13,
   "id": "a17eca17",
   "metadata": {},
   "outputs": [],
   "source": [
    "# Drop specified labels from rows or columns.\n",
    "df = df.drop(['user_id','TOP_PACK', 'MRG', 'TIGO', 'ZONE1', 'ZONE2'], axis=1)"
   ]
  },
  {
   "cell_type": "code",
   "execution_count": 14,
   "id": "658fe90d",
   "metadata": {},
   "outputs": [],
   "source": [
    "num_col = df.select_dtypes(include=['float64', 'int64'])\n",
    "cat_col = df.select_dtypes(\"O\")"
   ]
  },
  {
   "cell_type": "code",
   "execution_count": 15,
   "id": "1cbcb8d5",
   "metadata": {
    "scrolled": true
   },
   "outputs": [
    {
     "data": {
      "text/html": [
       "<div>\n",
       "<style scoped>\n",
       "    .dataframe tbody tr th:only-of-type {\n",
       "        vertical-align: middle;\n",
       "    }\n",
       "\n",
       "    .dataframe tbody tr th {\n",
       "        vertical-align: top;\n",
       "    }\n",
       "\n",
       "    .dataframe thead th {\n",
       "        text-align: right;\n",
       "    }\n",
       "</style>\n",
       "<table border=\"1\" class=\"dataframe\">\n",
       "  <thead>\n",
       "    <tr style=\"text-align: right;\">\n",
       "      <th></th>\n",
       "      <th>REGION</th>\n",
       "      <th>TENURE</th>\n",
       "      <th>MONTANT</th>\n",
       "      <th>FREQUENCE_RECH</th>\n",
       "      <th>REVENUE</th>\n",
       "      <th>ARPU_SEGMENT</th>\n",
       "      <th>FREQUENCE</th>\n",
       "      <th>DATA_VOLUME</th>\n",
       "      <th>ON_NET</th>\n",
       "      <th>ORANGE</th>\n",
       "      <th>REGULARITY</th>\n",
       "      <th>FREQ_TOP_PACK</th>\n",
       "      <th>CHURN</th>\n",
       "    </tr>\n",
       "  </thead>\n",
       "  <tbody>\n",
       "    <tr>\n",
       "      <th>0</th>\n",
       "      <td>2.0</td>\n",
       "      <td>7.0</td>\n",
       "      <td>4250.0</td>\n",
       "      <td>15.0</td>\n",
       "      <td>4251.0</td>\n",
       "      <td>1417.0</td>\n",
       "      <td>17.0</td>\n",
       "      <td>4.0</td>\n",
       "      <td>388.0</td>\n",
       "      <td>46.0</td>\n",
       "      <td>54</td>\n",
       "      <td>8.0</td>\n",
       "      <td>0</td>\n",
       "    </tr>\n",
       "    <tr>\n",
       "      <th>1</th>\n",
       "      <td>NaN</td>\n",
       "      <td>5.0</td>\n",
       "      <td>NaN</td>\n",
       "      <td>NaN</td>\n",
       "      <td>NaN</td>\n",
       "      <td>NaN</td>\n",
       "      <td>NaN</td>\n",
       "      <td>NaN</td>\n",
       "      <td>NaN</td>\n",
       "      <td>NaN</td>\n",
       "      <td>4</td>\n",
       "      <td>NaN</td>\n",
       "      <td>1</td>\n",
       "    </tr>\n",
       "    <tr>\n",
       "      <th>2</th>\n",
       "      <td>NaN</td>\n",
       "      <td>7.0</td>\n",
       "      <td>3600.0</td>\n",
       "      <td>2.0</td>\n",
       "      <td>1020.0</td>\n",
       "      <td>340.0</td>\n",
       "      <td>2.0</td>\n",
       "      <td>NaN</td>\n",
       "      <td>90.0</td>\n",
       "      <td>46.0</td>\n",
       "      <td>17</td>\n",
       "      <td>1.0</td>\n",
       "      <td>0</td>\n",
       "    </tr>\n",
       "    <tr>\n",
       "      <th>3</th>\n",
       "      <td>0.0</td>\n",
       "      <td>7.0</td>\n",
       "      <td>13500.0</td>\n",
       "      <td>15.0</td>\n",
       "      <td>13502.0</td>\n",
       "      <td>4501.0</td>\n",
       "      <td>18.0</td>\n",
       "      <td>43804.0</td>\n",
       "      <td>41.0</td>\n",
       "      <td>102.0</td>\n",
       "      <td>62</td>\n",
       "      <td>11.0</td>\n",
       "      <td>0</td>\n",
       "    </tr>\n",
       "    <tr>\n",
       "      <th>4</th>\n",
       "      <td>0.0</td>\n",
       "      <td>7.0</td>\n",
       "      <td>1000.0</td>\n",
       "      <td>1.0</td>\n",
       "      <td>985.0</td>\n",
       "      <td>328.0</td>\n",
       "      <td>1.0</td>\n",
       "      <td>NaN</td>\n",
       "      <td>39.0</td>\n",
       "      <td>24.0</td>\n",
       "      <td>11</td>\n",
       "      <td>2.0</td>\n",
       "      <td>0</td>\n",
       "    </tr>\n",
       "  </tbody>\n",
       "</table>\n",
       "</div>"
      ],
      "text/plain": [
       "   REGION  TENURE  MONTANT  FREQUENCE_RECH  REVENUE  ARPU_SEGMENT  FREQUENCE  \\\n",
       "0     2.0     7.0   4250.0            15.0   4251.0        1417.0       17.0   \n",
       "1     NaN     5.0      NaN             NaN      NaN           NaN        NaN   \n",
       "2     NaN     7.0   3600.0             2.0   1020.0         340.0        2.0   \n",
       "3     0.0     7.0  13500.0            15.0  13502.0        4501.0       18.0   \n",
       "4     0.0     7.0   1000.0             1.0    985.0         328.0        1.0   \n",
       "\n",
       "   DATA_VOLUME  ON_NET  ORANGE  REGULARITY  FREQ_TOP_PACK  CHURN  \n",
       "0          4.0   388.0    46.0          54            8.0      0  \n",
       "1          NaN     NaN     NaN           4            NaN      1  \n",
       "2          NaN    90.0    46.0          17            1.0      0  \n",
       "3      43804.0    41.0   102.0          62           11.0      0  \n",
       "4          NaN    39.0    24.0          11            2.0      0  "
      ]
     },
     "execution_count": 15,
     "metadata": {},
     "output_type": "execute_result"
    }
   ],
   "source": [
    "scale = OrdinalEncoder().fit_transform(cat_col)\n",
    "nw_scale = pd.DataFrame(scale, columns=['REGION', 'TENURE'])\n",
    "\n",
    "new_df = pd.concat([nw_scale, num_col], axis=1)\n",
    "new_df.head()"
   ]
  },
  {
   "cell_type": "code",
   "execution_count": 16,
   "id": "c4ab665c",
   "metadata": {},
   "outputs": [],
   "source": [
    "# assign feature i.e independent variable to X and target variable to y i.e dependent\n",
    "X = new_df.drop(['CHURN'], axis=1)\n",
    "y = new_df['CHURN']"
   ]
  },
  {
   "cell_type": "code",
   "execution_count": 17,
   "id": "9126dfb7",
   "metadata": {
    "scrolled": true
   },
   "outputs": [],
   "source": [
    "# Imputation for completing missing values using k-Nearest Neighbors.\n",
    "knn = SimpleImputer(missing_values=np.nan, add_indicator=True)\n",
    "# Fit to data, then transform it.\n",
    "X = knn.fit_transform(X)"
   ]
  },
  {
   "cell_type": "code",
   "execution_count": null,
   "id": "b9cb8c1c",
   "metadata": {},
   "outputs": [],
   "source": [
    "nms = SMOTE(sampling_strategy='all')\n",
    "\n",
    "x_nms, y_rus = nms.fit_resample(X, y)\n",
    "\n",
    "print(\"Original Datasets Shape: \", Counter(y))\n",
    "print(\"Resample Datasets Shape: \", Counter(y_rus))"
   ]
  },
  {
   "cell_type": "code",
   "execution_count": null,
   "id": "9a9a7796",
   "metadata": {},
   "outputs": [],
   "source": [
    "m\n",
    "# Scale features using statistics that are robust to outliers.\n",
    "mn = MinMaxScaler()\n",
    " = mn.fit_transform()"
   ]
  },
  {
   "cell_type": "markdown",
   "id": "946e3e3f",
   "metadata": {},
   "source": [
    "**Model Development**\n",
    "\n",
    "1. Split datasets into train/test\n",
    "2. Perform cross-validation\n",
    "3. Turn Parameter for meter performance"
   ]
  },
  {
   "cell_type": "code",
   "execution_count": null,
   "id": "038e7da4",
   "metadata": {},
   "outputs": [],
   "source": [
    "# Split arrays or matrices into random train and test subsets\n",
    "x_train, x_test, y_train, y_test = train_test_split(x_nms, y_rus, test=0.35, stratify=y_rus, random_state=2021)\n",
    "# Split arrays into validation\n",
    "x_train, x_valid, y_train, y_valid = train_test_split(x_train, y_train)"
   ]
  },
  {
   "cell_type": "code",
   "execution_count": null,
   "id": "4e6ef567",
   "metadata": {},
   "outputs": [],
   "source": [
    "# print the shapes \n",
    "print(x_train.shape)\n",
    "print(x_test.shape)\n",
    "print(y_train.shape)\n",
    "print(y_test.shape)\n",
    "print(x_valid.shape)\n",
    "print(y_valid.shape)"
   ]
  },
  {
   "cell_type": "code",
   "execution_count": null,
   "id": "97aeb771",
   "metadata": {},
   "outputs": [],
   "source": [
    "bbbb"
   ]
  },
  {
   "cell_type": "code",
   "execution_count": null,
   "id": "076e275a",
   "metadata": {},
   "outputs": [],
   "source": [
    "model = Sequential([\n",
    "    Dense(500, input_shape=(19,), activation='relu'),\n",
    "    Dropout(rate=0.2),\n",
    "    Dense(400, activation='relu'),\n",
    "    Dropout(rate=0.2),\n",
    "    Dense(350, activation='relu'),\n",
    "    Dropout(rate=0.2),\n",
    "    Dense(200, activation='relu'),\n",
    "    Dropout(rate=0.2),\n",
    "    Dense(150, activation='relu'),\n",
    "    Dropout(rate=0.2),\n",
    "    Dense(100, activation='relu'),\n",
    "    Dropout(rate=0.2),\n",
    "    Dense(l50, activation='relu'),\n",
    "    Dropout(rate=0.2),\n",
    "    Dense(1, activation='sigmoid')\n",
    "])\n",
    "model.summary()"
   ]
  },
  {
   "cell_type": "code",
   "execution_count": null,
   "id": "c0275f87",
   "metadata": {},
   "outputs": [],
   "source": [
    "model.compile(optimizer='adam', loss='binary_crossentropy', metrics=['accuracy'])"
   ]
  },
  {
   "cell_type": "code",
   "execution_count": null,
   "id": "80c940c8",
   "metadata": {},
   "outputs": [],
   "source": [
    "history = model.fit(x_train, y_train, batch_size=32, epochs=15, validation_data=(x_valid, y_valid))"
   ]
  },
  {
   "cell_type": "code",
   "execution_count": null,
   "id": "a4aa5ff6",
   "metadata": {},
   "outputs": [],
   "source": [
    "model.evaluate(x_test, y_test, batch_size=32, verbose=2)"
   ]
  },
  {
   "cell_type": "code",
   "execution_count": null,
   "id": "fd544765",
   "metadata": {},
   "outputs": [],
   "source": [
    "yhat = model.predict(x_test)"
   ]
  },
  {
   "cell_type": "code",
   "execution_count": null,
   "id": "73107937",
   "metadata": {},
   "outputs": [],
   "source": [
    "y_pred = []\n",
    "\n",
    "for i in yhat:\n",
    "    if i > 0.5:\n",
    "        y_pred.append(1)\n",
    "    else:\n",
    "        y_pred.append(0)\n"
   ]
  },
  {
   "cell_type": "code",
   "execution_count": null,
   "id": "87f57e17",
   "metadata": {},
   "outputs": [],
   "source": [
    "print(\"Accuracy Score:- {:.2f}\".format(accuracy_score(y_test, y_pred)))"
   ]
  },
  {
   "cell_type": "code",
   "execution_count": null,
   "id": "28e1d2c7",
   "metadata": {},
   "outputs": [],
   "source": [
    "print(classification_report(y_test, y_pred))"
   ]
  },
  {
   "cell_type": "code",
   "execution_count": null,
   "id": "b23ba54a",
   "metadata": {},
   "outputs": [],
   "source": [
    "print(confusion_matrix(y_test, y_pred))"
   ]
  },
  {
   "cell_type": "code",
   "execution_count": null,
   "id": "62b1fcae",
   "metadata": {},
   "outputs": [],
   "source": [
    "pd.DataFrame(history.history).plot(figsize=(8, 5))\n",
    "plt.show()"
   ]
  },
  {
   "cell_type": "markdown",
   "id": "1d8b7283",
   "metadata": {},
   "source": [
    "**Saving Model For Development**\n",
    "\n",
    "using pickle to save model on local drive"
   ]
  },
  {
   "cell_type": "code",
   "execution_count": null,
   "id": "7f5e526e",
   "metadata": {},
   "outputs": [],
   "source": [
    "# Saving model to disk\n",
    "filename = 'ExpressoModel.pkl'\n",
    "\n",
    "with open(filename, 'wb') as file:\n",
    "    pickle.dump(grid, file)"
   ]
  },
  {
   "cell_type": "markdown",
   "id": "d02e539c",
   "metadata": {},
   "source": [
    "**Loading Model for Predicting Unseen Datasets**\n",
    "\n",
    "1. loading save model \n",
    "2. loading unseen datasets for prediction\n",
    "3. treating missing values present\n",
    "4. predicting and converting to dataframe => csv file"
   ]
  },
  {
   "cell_type": "code",
   "execution_count": null,
   "id": "473ca49b",
   "metadata": {},
   "outputs": [],
   "source": [
    "# loading save model\n",
    "with open(filename, 'rb') as file:\n",
    "    load_model = pickle.load(file)"
   ]
  },
  {
   "cell_type": "code",
   "execution_count": null,
   "id": "35797319",
   "metadata": {},
   "outputs": [],
   "source": [
    "# loading unseen  data\n",
    "unseen = pd.read_csv('test.csv')"
   ]
  },
  {
   "cell_type": "code",
   "execution_count": null,
   "id": "3db889df",
   "metadata": {},
   "outputs": [],
   "source": [
    "# Return the first 5 rows.\n",
    "unseen.head()"
   ]
  },
  {
   "cell_type": "code",
   "execution_count": null,
   "id": "320a6e63",
   "metadata": {},
   "outputs": [],
   "source": [
    "# Return a tuple representing the dimensionality of the DataFrame.\n",
    "unseen.shape"
   ]
  },
  {
   "cell_type": "code",
   "execution_count": null,
   "id": "f5189b53",
   "metadata": {},
   "outputs": [],
   "source": [
    "# return number of missing value present\n",
    "df.isnull().sum()"
   ]
  },
  {
   "cell_type": "code",
   "execution_count": null,
   "id": "5e8faa1f",
   "metadata": {},
   "outputs": [],
   "source": [
    "user_id = unseen['user_id']"
   ]
  },
  {
   "cell_type": "code",
   "execution_count": null,
   "id": "b53ef328",
   "metadata": {},
   "outputs": [],
   "source": [
    "# Drop specified labels from rows or columns.\n",
    "unseen = unseen.drop(['REGION','TENURE','TOP_PACK', 'MRG'], axis=1)\n",
    "unseen"
   ]
  },
  {
   "cell_type": "code",
   "execution_count": null,
   "id": "22aa5efb",
   "metadata": {},
   "outputs": [],
   "source": [
    "# Scale features using statistics that are robust to outliers.\n",
    "rbt = RobustScaler()\n",
    "rbt_scale = rbt.fit_transform(unseen)"
   ]
  },
  {
   "cell_type": "code",
   "execution_count": null,
   "id": "8ddc5391",
   "metadata": {},
   "outputs": [],
   "source": [
    "#\n",
    "tran_data = np.array(rbt_scale)"
   ]
  },
  {
   "cell_type": "code",
   "execution_count": null,
   "id": "e397b087",
   "metadata": {},
   "outputs": [],
   "source": [
    "# Call predict on the estimator with the best found parameters.\n",
    "unseen_pred = grid.predict(tran_data)"
   ]
  },
  {
   "cell_type": "code",
   "execution_count": null,
   "id": "31ca6959",
   "metadata": {},
   "outputs": [],
   "source": [
    "# Constructing DataFrame\n",
    "submit = pd.DataFrame(unseen_pred, columns=['Label'])"
   ]
  },
  {
   "cell_type": "code",
   "execution_count": null,
   "id": "b872742c",
   "metadata": {},
   "outputs": [],
   "source": [
    "\n",
    "submitted_file = submit.to_csv('Expresso.csv')"
   ]
  }
 ],
 "metadata": {
  "kernelspec": {
   "display_name": "Python 3",
   "language": "python",
   "name": "python3"
  },
  "language_info": {
   "codemirror_mode": {
    "name": "ipython",
    "version": 3
   },
   "file_extension": ".py",
   "mimetype": "text/x-python",
   "name": "python",
   "nbconvert_exporter": "python",
   "pygments_lexer": "ipython3",
   "version": "3.8.8"
  }
 },
 "nbformat": 4,
 "nbformat_minor": 5
}
