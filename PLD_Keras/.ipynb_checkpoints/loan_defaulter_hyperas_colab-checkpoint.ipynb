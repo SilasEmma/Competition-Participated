{
 "cells": [
  {
   "cell_type": "code",
   "execution_count": 34,
   "metadata": {
    "colab": {
     "base_uri": "https://localhost:8080/"
    },
    "id": "MYXnLY5IGrkV",
    "outputId": "5f8a4f9e-61e9-438f-9795-c21de3aae07d"
   },
   "outputs": [
    {
     "name": "stdout",
     "output_type": "stream",
     "text": [
      "Requirement already satisfied: hyperas in /usr/local/lib/python3.7/dist-packages (0.4.1)\n",
      "Requirement already satisfied: entrypoints in /usr/local/lib/python3.7/dist-packages (from hyperas) (0.3)\n",
      "Requirement already satisfied: keras in /usr/local/lib/python3.7/dist-packages (from hyperas) (2.7.0)\n",
      "Requirement already satisfied: jupyter in /usr/local/lib/python3.7/dist-packages (from hyperas) (1.0.0)\n",
      "Requirement already satisfied: hyperopt in /usr/local/lib/python3.7/dist-packages (from hyperas) (0.1.2)\n",
      "Requirement already satisfied: nbformat in /usr/local/lib/python3.7/dist-packages (from hyperas) (5.1.3)\n",
      "Requirement already satisfied: nbconvert in /usr/local/lib/python3.7/dist-packages (from hyperas) (5.6.1)\n",
      "Requirement already satisfied: six in /usr/local/lib/python3.7/dist-packages (from hyperopt->hyperas) (1.15.0)\n",
      "Requirement already satisfied: pymongo in /usr/local/lib/python3.7/dist-packages (from hyperopt->hyperas) (3.12.1)\n",
      "Requirement already satisfied: scipy in /usr/local/lib/python3.7/dist-packages (from hyperopt->hyperas) (1.4.1)\n",
      "Requirement already satisfied: tqdm in /usr/local/lib/python3.7/dist-packages (from hyperopt->hyperas) (4.62.3)\n",
      "Requirement already satisfied: future in /usr/local/lib/python3.7/dist-packages (from hyperopt->hyperas) (0.16.0)\n",
      "Requirement already satisfied: numpy in /usr/local/lib/python3.7/dist-packages (from hyperopt->hyperas) (1.19.5)\n",
      "Requirement already satisfied: networkx in /usr/local/lib/python3.7/dist-packages (from hyperopt->hyperas) (2.6.3)\n",
      "Requirement already satisfied: ipywidgets in /usr/local/lib/python3.7/dist-packages (from jupyter->hyperas) (7.6.5)\n",
      "Requirement already satisfied: jupyter-console in /usr/local/lib/python3.7/dist-packages (from jupyter->hyperas) (5.2.0)\n",
      "Requirement already satisfied: notebook in /usr/local/lib/python3.7/dist-packages (from jupyter->hyperas) (5.3.1)\n",
      "Requirement already satisfied: ipykernel in /usr/local/lib/python3.7/dist-packages (from jupyter->hyperas) (4.10.1)\n",
      "Requirement already satisfied: qtconsole in /usr/local/lib/python3.7/dist-packages (from jupyter->hyperas) (5.2.1)\n",
      "Requirement already satisfied: tornado>=4.0 in /usr/local/lib/python3.7/dist-packages (from ipykernel->jupyter->hyperas) (5.1.1)\n",
      "Requirement already satisfied: ipython>=4.0.0 in /usr/local/lib/python3.7/dist-packages (from ipykernel->jupyter->hyperas) (5.5.0)\n",
      "Requirement already satisfied: traitlets>=4.1.0 in /usr/local/lib/python3.7/dist-packages (from ipykernel->jupyter->hyperas) (5.1.1)\n",
      "Requirement already satisfied: jupyter-client in /usr/local/lib/python3.7/dist-packages (from ipykernel->jupyter->hyperas) (5.3.5)\n",
      "Requirement already satisfied: simplegeneric>0.8 in /usr/local/lib/python3.7/dist-packages (from ipython>=4.0.0->ipykernel->jupyter->hyperas) (0.8.1)\n",
      "Requirement already satisfied: setuptools>=18.5 in /usr/local/lib/python3.7/dist-packages (from ipython>=4.0.0->ipykernel->jupyter->hyperas) (57.4.0)\n",
      "Requirement already satisfied: pygments in /usr/local/lib/python3.7/dist-packages (from ipython>=4.0.0->ipykernel->jupyter->hyperas) (2.6.1)\n",
      "Requirement already satisfied: prompt-toolkit<2.0.0,>=1.0.4 in /usr/local/lib/python3.7/dist-packages (from ipython>=4.0.0->ipykernel->jupyter->hyperas) (1.0.18)\n",
      "Requirement already satisfied: pickleshare in /usr/local/lib/python3.7/dist-packages (from ipython>=4.0.0->ipykernel->jupyter->hyperas) (0.7.5)\n",
      "Requirement already satisfied: pexpect in /usr/local/lib/python3.7/dist-packages (from ipython>=4.0.0->ipykernel->jupyter->hyperas) (4.8.0)\n",
      "Requirement already satisfied: decorator in /usr/local/lib/python3.7/dist-packages (from ipython>=4.0.0->ipykernel->jupyter->hyperas) (4.4.2)\n",
      "Requirement already satisfied: wcwidth in /usr/local/lib/python3.7/dist-packages (from prompt-toolkit<2.0.0,>=1.0.4->ipython>=4.0.0->ipykernel->jupyter->hyperas) (0.2.5)\n",
      "Requirement already satisfied: jupyterlab-widgets>=1.0.0 in /usr/local/lib/python3.7/dist-packages (from ipywidgets->jupyter->hyperas) (1.0.2)\n",
      "Requirement already satisfied: widgetsnbextension~=3.5.0 in /usr/local/lib/python3.7/dist-packages (from ipywidgets->jupyter->hyperas) (3.5.2)\n",
      "Requirement already satisfied: ipython-genutils~=0.2.0 in /usr/local/lib/python3.7/dist-packages (from ipywidgets->jupyter->hyperas) (0.2.0)\n",
      "Requirement already satisfied: jupyter-core in /usr/local/lib/python3.7/dist-packages (from nbformat->hyperas) (4.9.1)\n",
      "Requirement already satisfied: jsonschema!=2.5.0,>=2.4 in /usr/local/lib/python3.7/dist-packages (from nbformat->hyperas) (2.6.0)\n",
      "Requirement already satisfied: Send2Trash in /usr/local/lib/python3.7/dist-packages (from notebook->jupyter->hyperas) (1.8.0)\n",
      "Requirement already satisfied: terminado>=0.8.1 in /usr/local/lib/python3.7/dist-packages (from notebook->jupyter->hyperas) (0.12.1)\n",
      "Requirement already satisfied: jinja2 in /usr/local/lib/python3.7/dist-packages (from notebook->jupyter->hyperas) (2.11.3)\n",
      "Requirement already satisfied: pyzmq>=13 in /usr/local/lib/python3.7/dist-packages (from jupyter-client->ipykernel->jupyter->hyperas) (22.3.0)\n",
      "Requirement already satisfied: python-dateutil>=2.1 in /usr/local/lib/python3.7/dist-packages (from jupyter-client->ipykernel->jupyter->hyperas) (2.8.2)\n",
      "Requirement already satisfied: ptyprocess in /usr/local/lib/python3.7/dist-packages (from terminado>=0.8.1->notebook->jupyter->hyperas) (0.7.0)\n",
      "Requirement already satisfied: MarkupSafe>=0.23 in /usr/local/lib/python3.7/dist-packages (from jinja2->notebook->jupyter->hyperas) (2.0.1)\n",
      "Requirement already satisfied: pandocfilters>=1.4.1 in /usr/local/lib/python3.7/dist-packages (from nbconvert->hyperas) (1.5.0)\n",
      "Requirement already satisfied: testpath in /usr/local/lib/python3.7/dist-packages (from nbconvert->hyperas) (0.5.0)\n",
      "Requirement already satisfied: defusedxml in /usr/local/lib/python3.7/dist-packages (from nbconvert->hyperas) (0.7.1)\n",
      "Requirement already satisfied: mistune<2,>=0.8.1 in /usr/local/lib/python3.7/dist-packages (from nbconvert->hyperas) (0.8.4)\n",
      "Requirement already satisfied: bleach in /usr/local/lib/python3.7/dist-packages (from nbconvert->hyperas) (4.1.0)\n",
      "Requirement already satisfied: webencodings in /usr/local/lib/python3.7/dist-packages (from bleach->nbconvert->hyperas) (0.5.1)\n",
      "Requirement already satisfied: packaging in /usr/local/lib/python3.7/dist-packages (from bleach->nbconvert->hyperas) (21.3)\n",
      "Requirement already satisfied: pyparsing!=3.0.5,>=2.0.2 in /usr/local/lib/python3.7/dist-packages (from packaging->bleach->nbconvert->hyperas) (3.0.6)\n",
      "Requirement already satisfied: qtpy in /usr/local/lib/python3.7/dist-packages (from qtconsole->jupyter->hyperas) (1.11.2)\n",
      "Requirement already satisfied: hyperopt in /usr/local/lib/python3.7/dist-packages (0.1.2)\n",
      "Requirement already satisfied: pymongo in /usr/local/lib/python3.7/dist-packages (from hyperopt) (3.12.1)\n",
      "Requirement already satisfied: numpy in /usr/local/lib/python3.7/dist-packages (from hyperopt) (1.19.5)\n",
      "Requirement already satisfied: future in /usr/local/lib/python3.7/dist-packages (from hyperopt) (0.16.0)\n",
      "Requirement already satisfied: tqdm in /usr/local/lib/python3.7/dist-packages (from hyperopt) (4.62.3)\n",
      "Requirement already satisfied: scipy in /usr/local/lib/python3.7/dist-packages (from hyperopt) (1.4.1)\n",
      "Requirement already satisfied: six in /usr/local/lib/python3.7/dist-packages (from hyperopt) (1.15.0)\n",
      "Requirement already satisfied: networkx in /usr/local/lib/python3.7/dist-packages (from hyperopt) (2.6.3)\n"
     ]
    }
   ],
   "source": [
    "! pip install hyperas\n",
    "! pip install hyperopt"
   ]
  },
  {
   "cell_type": "code",
   "execution_count": 35,
   "metadata": {
    "id": "xONvGe0AFy3a"
   },
   "outputs": [],
   "source": [
    "# Standard Imports\n",
    "import numpy as np\n",
    "import pandas as pd\n",
    "\n",
    "from sklearn.model_selection import train_test_split\n",
    "from sklearn.preprocessing import StandardScaler, LabelEncoder\n",
    "from sklearn.metrics import log_loss\n",
    "\n",
    "import tensorflow as tf\n",
    "from tensorflow import keras\n",
    "from keras import Sequential\n",
    "from keras.layers import Input, Dense, Dropout, Activation\n",
    "\n",
    "from hyperopt import tpe, STATUS_OK, Trials\n",
    "from hyperas import optim\n",
    "from hyperas.distributions import choice, uniform"
   ]
  },
  {
   "cell_type": "markdown",
   "metadata": {
    "id": "L--XG136GuIt"
   },
   "source": [
    "## Let's create a function which processes the data in such a way that that the data is directly fed into the model"
   ]
  },
  {
   "cell_type": "code",
   "execution_count": 36,
   "metadata": {
    "id": "ynDKI7kiH_WS"
   },
   "outputs": [],
   "source": [
    "def data():  \n",
    "  global test\n",
    "  # Importing data\n",
    "  train = pd.read_csv(\"/content/drive/Othercomputers/My Laptop (1)/Programming Languages/Python/Projects/loan-defaulter/data/train.csv\")\n",
    "  test = pd.read_csv(\"/content/drive/Othercomputers/My Laptop (1)/Programming Languages/Python/Projects/loan-defaulter/data/test.csv\")\n",
    "\n",
    "  # Dropping unnecessary columns in both test and training sets\n",
    "  train = train.drop(\"ID\", axis=1)\n",
    "  test = test.drop([\"Loan Status\", \"ID\"], axis=1)\n",
    "\n",
    "  # Let's split the data into features and target variables\n",
    "  X = train.drop(\"Loan Status\", axis=1)\n",
    "  y = train[\"Loan Status\"]\n",
    "\n",
    "  # Splitting the data into training and validation sets\n",
    "  X_train, X_valid, y_train, y_valid = train_test_split(X, y, test_size=0.2, random_state=42)\n",
    "\n",
    "  # Converting non- numerical columns into numerica Columns\n",
    "  for label, content in X_train.items():\n",
    "    if not pd.api.types.is_numeric_dtype(content):\n",
    "      encoder = LabelEncoder()\n",
    "      X_train[label] = encoder.fit_transform(X_train[label])\n",
    "      X_valid[label] = encoder.transform(X_valid[label])\n",
    "      test[label] = encoder.transform(test[label])\n",
    "\n",
    "  # Now we scale the data\n",
    "  scaler = StandardScaler()\n",
    "  X_train = scaler.fit_transform(X_train)\n",
    "  X_valid = scaler.transform(X_valid)\n",
    "  test = scaler.transform(test)\n",
    "\n",
    "  return X_train, y_train, X_valid, y_valid\n",
    "\n",
    "# Calling our function\n",
    "X_train, y_train, X_valid, y_valid = data()"
   ]
  },
  {
   "cell_type": "markdown",
   "metadata": {
    "id": "kA2mFjn5KZiU"
   },
   "source": [
    "## Let's create our model"
   ]
  },
  {
   "cell_type": "code",
   "execution_count": 4,
   "metadata": {
    "id": "iTmVNOCmKo7w"
   },
   "outputs": [],
   "source": [
    "def model():\n",
    "  # Set random seed\n",
    "  tf.random.set_seed(42)\n",
    "\n",
    "  # Create a model\n",
    "  model = Sequential()\n",
    "  model.add(Input(shape=X_train[0].shape))\n",
    "  model.add(Dense({{choice([20, 30, 40])}}))\n",
    "  model.add(Activation(\"relu\"))\n",
    "  model.add(Dropout({{uniform(0, 1)}}))\n",
    "  model.add(Dense({{choice([10, 20, 30])}}))\n",
    "  model.add(Activation(\"relu\"))\n",
    "  model.add(Dropout({{uniform(0, 1)}}))\n",
    "\n",
    "  # Let's add another layer according to choice\n",
    "  if {{choice([\"a\", \"b\"])}} == \"b\":\n",
    "    model.add(Dense(5, activation=\"relu\"))\n",
    "    model.add(Dropout({{uniform(0, 1)}}))\n",
    "\n",
    "  # Let's add the final layer\n",
    "  model.add(Dense(1))\n",
    "  model.add(Activation({{choice([\"sigmoid\", \"softmax\"])}}))\n",
    "\n",
    "  # let's compile the model\n",
    "  model.compile(loss=\"binary_crossentropy\",\n",
    "                optimizer=tf.keras.optimizers.Adam(learning_rate={{choice([0.1, 0.001, 0.01, 3e-4])}}),\n",
    "                metrics=[\"accuracy\"])\n",
    "  \n",
    "  # Fit the model\n",
    "  model.fit(X_train, y_train,\n",
    "            validation_data=(X_valid, y_valid),\n",
    "            epochs=100,\n",
    "            callbacks=[tf.keras.callbacks.EarlyStopping(patience=10)], verbose=0)\n",
    "  \n",
    "  # Evaluate our model\n",
    "  loss, acc = model.evaluate(X_valid, y_valid, verbose=0)\n",
    "  print(\"Validation accuracy :\", acc)\n",
    "\n",
    "  return {\"loss\" : -acc, \"model\" : model, 'status' : STATUS_OK}"
   ]
  },
  {
   "cell_type": "code",
   "execution_count": 5,
   "metadata": {
    "colab": {
     "base_uri": "https://localhost:8080/"
    },
    "id": "4pVYroBzOrvb",
    "outputId": "e08e6947-54b7-440b-f8e8-f33c6e42238a"
   },
   "outputs": [
    {
     "name": "stdout",
     "output_type": "stream",
     "text": [
      ">>> Imports:\n",
      "#coding=utf-8\n",
      "\n",
      "try:\n",
      "    import numpy as np\n",
      "except:\n",
      "    pass\n",
      "\n",
      "try:\n",
      "    import pandas as pd\n",
      "except:\n",
      "    pass\n",
      "\n",
      "try:\n",
      "    from sklearn.model_selection import train_test_split\n",
      "except:\n",
      "    pass\n",
      "\n",
      "try:\n",
      "    from sklearn.preprocessing import StandardScaler, LabelEncoder\n",
      "except:\n",
      "    pass\n",
      "\n",
      "try:\n",
      "    import tensorflow as tf\n",
      "except:\n",
      "    pass\n",
      "\n",
      "try:\n",
      "    from tensorflow import keras\n",
      "except:\n",
      "    pass\n",
      "\n",
      "try:\n",
      "    from keras import Sequential\n",
      "except:\n",
      "    pass\n",
      "\n",
      "try:\n",
      "    from keras.layers import Input, Dense, Dropout, Activation\n",
      "except:\n",
      "    pass\n",
      "\n",
      "try:\n",
      "    from hyperopt import tpe, STATUS_OK, Trials\n",
      "except:\n",
      "    pass\n",
      "\n",
      "try:\n",
      "    from hyperas import optim\n",
      "except:\n",
      "    pass\n",
      "\n",
      "try:\n",
      "    from hyperas.distributions import choice, uniform\n",
      "except:\n",
      "    pass\n",
      "\n",
      ">>> Hyperas search space:\n",
      "\n",
      "def get_space():\n",
      "    return {\n",
      "        'Dense': hp.choice('Dense', [20, 30, 40]),\n",
      "        'Dropout': hp.uniform('Dropout', 0, 1),\n",
      "        'Dense_1': hp.choice('Dense_1', [10, 20, 30]),\n",
      "        'Dropout_1': hp.uniform('Dropout_1', 0, 1),\n",
      "        'Dropout_2': hp.choice('Dropout_2', [\"a\", \"b\"]),\n",
      "        'Dropout_3': hp.uniform('Dropout_3', 0, 1),\n",
      "        'Activation': hp.choice('Activation', [\"sigmoid\", \"softmax\"]),\n",
      "        'learning_rate': hp.choice('learning_rate', [0.1, 0.001, 0.01, 3e-4]),\n",
      "    }\n",
      "\n",
      ">>> Data\n",
      "   1: \n",
      "   2: global test\n",
      "   3: # Importing data\n",
      "   4: train = pd.read_csv(\"/content/drive/Othercomputers/My Laptop (1)/Programming Languages/Python/Projects/loan-defaulter/data/train.csv\")\n",
      "   5: test = pd.read_csv(\"/content/drive/Othercomputers/My Laptop (1)/Programming Languages/Python/Projects/loan-defaulter/data/test.csv\")\n",
      "   6: \n",
      "   7: # Dropping unnecessary columns in both test and training sets\n",
      "   8: train = train.drop(\"ID\", axis=1)\n",
      "   9: test = test.drop([\"Loan Status\", \"ID\"], axis=1)\n",
      "  10: \n",
      "  11: # Let's split the data into features and target variables\n",
      "  12: X = train.drop(\"Loan Status\", axis=1)\n",
      "  13: y = train[\"Loan Status\"]\n",
      "  14: \n",
      "  15: # Splitting the data into training and validation sets\n",
      "  16: X_train, X_valid, y_train, y_valid = train_test_split(X, y, test_size=0.2, random_state=42)\n",
      "  17: \n",
      "  18: # Converting non- numerical columns into numerica Columns\n",
      "  19: for label, content in X_train.items():\n",
      "  20:   if not pd.api.types.is_numeric_dtype(content):\n",
      "  21:     encoder = LabelEncoder()\n",
      "  22:     X_train[label] = encoder.fit_transform(X_train[label])\n",
      "  23:     X_valid[label] = encoder.transform(X_valid[label])\n",
      "  24:     test[label] = encoder.transform(test[label])\n",
      "  25: \n",
      "  26: # Now we scale the data\n",
      "  27: scaler = StandardScaler()\n",
      "  28: X_train = scaler.fit_transform(X_train)\n",
      "  29: X_valid = scaler.transform(X_valid)\n",
      "  30: test = scaler.transform(test)\n",
      "  31: \n",
      "  32: \n",
      "  33: \n",
      "  34: \n",
      ">>> Resulting replaced keras model:\n",
      "\n",
      "   1: def keras_fmin_fnct(space):\n",
      "   2: \n",
      "   3:   # Set random seed\n",
      "   4:   tf.random.set_seed(42)\n",
      "   5: \n",
      "   6:   # Create a model\n",
      "   7:   model = Sequential()\n",
      "   8:   model.add(Input(shape=X_train[0].shape))\n",
      "   9:   model.add(Dense(space['Dense']))\n",
      "  10:   model.add(Activation(\"relu\"))\n",
      "  11:   model.add(Dropout(space['Dropout']))\n",
      "  12:   model.add(Dense(space['Dense_1']))\n",
      "  13:   model.add(Activation(\"relu\"))\n",
      "  14:   model.add(Dropout(space['Dropout_1']))\n",
      "  15: \n",
      "  16:   # Let's add another layer according to choice\n",
      "  17:   if space['Dropout_2'] == \"b\":\n",
      "  18:     model.add(Dense(5, activation=\"relu\"))\n",
      "  19:     model.add(Dropout(space['Dropout_3']))\n",
      "  20: \n",
      "  21:   # Let's add the final layer\n",
      "  22:   model.add(Dense(1))\n",
      "  23:   model.add(Activation(space['Activation']))\n",
      "  24: \n",
      "  25:   # let's compile the model\n",
      "  26:   model.compile(loss=\"binary_crossentropy\",\n",
      "  27:                 optimizer=tf.keras.optimizers.Adam(learning_rate=space['learning_rate']),\n",
      "  28:                 metrics=[\"accuracy\"])\n",
      "  29:   \n",
      "  30:   # Fit the model\n",
      "  31:   model.fit(X_train, y_train,\n",
      "  32:             validation_data=(X_valid, y_valid),\n",
      "  33:             epochs=100,\n",
      "  34:             callbacks=[tf.keras.callbacks.EarlyStopping(patience=10)], verbose=0)\n",
      "  35:   \n",
      "  36:   # Evaluate our model\n",
      "  37:   loss, acc = model.evaluate(X_valid, y_valid, verbose=0)\n",
      "  38:   print(\"Validation accuracy :\", acc)\n",
      "  39: \n",
      "  40:   return {\"loss\" : -acc, \"model\" : model, 'status' : STATUS_OK}\n",
      "  41: \n",
      "Validation accuracy :\n",
      "0.9097309708595276\n",
      "Validation accuracy :\n",
      "0.09026902914047241\n",
      "Validation accuracy :\n",
      "0.9097309708595276\n",
      "Validation accuracy :\n",
      "0.09026902914047241\n",
      "Validation accuracy :\n",
      "0.9097309708595276\n",
      "Validation accuracy :\n",
      "0.09026902914047241\n",
      "Validation accuracy :\n",
      "0.09026902914047241\n",
      "Validation accuracy :\n",
      "0.09026902914047241\n",
      "Validation accuracy :\n",
      "0.09026902914047241\n",
      "Validation accuracy :\n",
      "0.09026902914047241\n",
      "100%|██████████| 10/10 [31:28<00:00, 188.81s/it, best loss: -0.9097309708595276]\n"
     ]
    }
   ],
   "source": [
    "# Now let's optimize our model\n",
    "best_run, best_model = optim.minimize(data=data,\n",
    "                                      model=model,\n",
    "                                      max_evals=10,\n",
    "                                      algo=tpe.suggest,\n",
    "                                      trials=Trials(),\n",
    "                                      notebook_name=\"drive/Othercomputers/My Laptop (1)/Programming Languages/Python/Projects/loan-defaulter/loan_defaulter-hyperas-colab\")"
   ]
  },
  {
   "cell_type": "code",
   "execution_count": 9,
   "metadata": {
    "colab": {
     "base_uri": "https://localhost:8080/"
    },
    "id": "WGT1T3XwRhfF",
    "outputId": "e100ece2-2a63-4b0e-bfed-c0eb2371d9ff"
   },
   "outputs": [
    {
     "data": {
      "text/plain": [
       "0.3034542779984374"
      ]
     },
     "execution_count": 9,
     "metadata": {},
     "output_type": "execute_result"
    }
   ],
   "source": [
    "log_loss(y_valid, best_model.predict(X_valid))"
   ]
  },
  {
   "cell_type": "code",
   "execution_count": 13,
   "metadata": {
    "colab": {
     "base_uri": "https://localhost:8080/"
    },
    "id": "k39Qd5COdRvD",
    "outputId": "4081e714-a903-4b88-ec38-328802f05a14"
   },
   "outputs": [
    {
     "data": {
      "text/plain": [
       "{'Activation': 0,\n",
       " 'Dense': 2,\n",
       " 'Dense_1': 2,\n",
       " 'Dropout': 0.6108763092812357,\n",
       " 'Dropout_1': 0.7371698374615214,\n",
       " 'Dropout_2': 0,\n",
       " 'Dropout_3': 0.21280043312755825,\n",
       " 'learning_rate': 2}"
      ]
     },
     "execution_count": 13,
     "metadata": {},
     "output_type": "execute_result"
    }
   ],
   "source": [
    "best_run"
   ]
  },
  {
   "cell_type": "code",
   "execution_count": 45,
   "metadata": {
    "colab": {
     "base_uri": "https://localhost:8080/"
    },
    "id": "jDB-bvmIdhbv",
    "outputId": "23ac4af5-3baa-4089-8cf3-d5efb89532bb"
   },
   "outputs": [
    {
     "name": "stdout",
     "output_type": "stream",
     "text": [
      "Epoch 1/100\n",
      "1687/1687 [==============================] - 5s 3ms/step - loss: 0.3989 - accuracy: 0.8834 - val_loss: 0.3436 - val_accuracy: 0.9097\n",
      "Epoch 2/100\n",
      "1687/1687 [==============================] - 5s 3ms/step - loss: 0.3445 - accuracy: 0.9068 - val_loss: 0.3312 - val_accuracy: 0.9097\n",
      "Epoch 3/100\n",
      "1687/1687 [==============================] - 5s 3ms/step - loss: 0.3264 - accuracy: 0.9069 - val_loss: 0.3145 - val_accuracy: 0.9097\n",
      "Epoch 4/100\n",
      "1687/1687 [==============================] - 5s 3ms/step - loss: 0.3189 - accuracy: 0.9069 - val_loss: 0.3061 - val_accuracy: 0.9097\n",
      "Epoch 5/100\n",
      "1687/1687 [==============================] - 5s 3ms/step - loss: 0.3157 - accuracy: 0.9069 - val_loss: 0.3038 - val_accuracy: 0.9097\n",
      "Epoch 6/100\n",
      "1687/1687 [==============================] - 5s 3ms/step - loss: 0.3145 - accuracy: 0.9069 - val_loss: 0.3035 - val_accuracy: 0.9097\n",
      "Epoch 7/100\n",
      "1687/1687 [==============================] - 5s 3ms/step - loss: 0.3130 - accuracy: 0.9069 - val_loss: 0.3035 - val_accuracy: 0.9097\n",
      "Epoch 8/100\n",
      "1687/1687 [==============================] - 5s 3ms/step - loss: 0.3124 - accuracy: 0.9069 - val_loss: 0.3036 - val_accuracy: 0.9097\n",
      "Epoch 9/100\n",
      "1687/1687 [==============================] - 5s 3ms/step - loss: 0.3123 - accuracy: 0.9069 - val_loss: 0.3034 - val_accuracy: 0.9097\n",
      "Epoch 10/100\n",
      "1687/1687 [==============================] - 5s 3ms/step - loss: 0.3120 - accuracy: 0.9069 - val_loss: 0.3033 - val_accuracy: 0.9097\n",
      "Epoch 11/100\n",
      "1687/1687 [==============================] - 5s 3ms/step - loss: 0.3127 - accuracy: 0.9069 - val_loss: 0.3033 - val_accuracy: 0.9097\n",
      "Epoch 12/100\n",
      "1687/1687 [==============================] - 5s 3ms/step - loss: 0.3116 - accuracy: 0.9069 - val_loss: 0.3034 - val_accuracy: 0.9097\n",
      "Epoch 13/100\n",
      "1687/1687 [==============================] - 5s 3ms/step - loss: 0.3115 - accuracy: 0.9069 - val_loss: 0.3033 - val_accuracy: 0.9097\n",
      "Epoch 14/100\n",
      "1687/1687 [==============================] - 5s 3ms/step - loss: 0.3110 - accuracy: 0.9069 - val_loss: 0.3034 - val_accuracy: 0.9097\n",
      "Epoch 15/100\n",
      "1687/1687 [==============================] - 5s 3ms/step - loss: 0.3114 - accuracy: 0.9069 - val_loss: 0.3037 - val_accuracy: 0.9097\n",
      "Epoch 16/100\n",
      "1687/1687 [==============================] - 5s 3ms/step - loss: 0.3113 - accuracy: 0.9069 - val_loss: 0.3033 - val_accuracy: 0.9097\n",
      "Epoch 17/100\n",
      "1687/1687 [==============================] - 5s 3ms/step - loss: 0.3111 - accuracy: 0.9069 - val_loss: 0.3033 - val_accuracy: 0.9097\n",
      "Epoch 18/100\n",
      "1687/1687 [==============================] - 5s 3ms/step - loss: 0.3111 - accuracy: 0.9069 - val_loss: 0.3032 - val_accuracy: 0.9097\n",
      "Epoch 19/100\n",
      "1687/1687 [==============================] - 5s 3ms/step - loss: 0.3116 - accuracy: 0.9069 - val_loss: 0.3034 - val_accuracy: 0.9097\n",
      "Epoch 20/100\n",
      "1687/1687 [==============================] - 5s 3ms/step - loss: 0.3112 - accuracy: 0.9069 - val_loss: 0.3034 - val_accuracy: 0.9097\n",
      "Epoch 21/100\n",
      "1687/1687 [==============================] - 5s 3ms/step - loss: 0.3112 - accuracy: 0.9069 - val_loss: 0.3032 - val_accuracy: 0.9097\n",
      "Epoch 22/100\n",
      "1687/1687 [==============================] - 5s 3ms/step - loss: 0.3108 - accuracy: 0.9069 - val_loss: 0.3037 - val_accuracy: 0.9097\n",
      "Epoch 23/100\n",
      "1687/1687 [==============================] - 5s 3ms/step - loss: 0.3108 - accuracy: 0.9069 - val_loss: 0.3037 - val_accuracy: 0.9097\n",
      "Epoch 24/100\n",
      "1687/1687 [==============================] - 5s 3ms/step - loss: 0.3106 - accuracy: 0.9069 - val_loss: 0.3034 - val_accuracy: 0.9097\n",
      "Epoch 25/100\n",
      "1687/1687 [==============================] - 4s 3ms/step - loss: 0.3108 - accuracy: 0.9069 - val_loss: 0.3034 - val_accuracy: 0.9097\n",
      "Epoch 26/100\n",
      "1687/1687 [==============================] - 5s 3ms/step - loss: 0.3105 - accuracy: 0.9069 - val_loss: 0.3037 - val_accuracy: 0.9097\n",
      "Epoch 27/100\n",
      "1687/1687 [==============================] - 5s 3ms/step - loss: 0.3103 - accuracy: 0.9069 - val_loss: 0.3034 - val_accuracy: 0.9097\n",
      "Epoch 28/100\n",
      "1687/1687 [==============================] - 5s 3ms/step - loss: 0.3104 - accuracy: 0.9069 - val_loss: 0.3034 - val_accuracy: 0.9097\n"
     ]
    }
   ],
   "source": [
    "# Final model\n",
    "\n",
    "# Create a model\n",
    "final = Sequential([\n",
    "  Input(shape=X_train[0].shape),\n",
    "  Dense(100, activation=\"relu\"),\n",
    "  Dropout(0.6108763092812357),\n",
    "  Dense(50, activation=\"relu\"),\n",
    "  Dropout(0.7371698374615214),\n",
    "  Dense(25, activation=\"relu\"),\n",
    "  Dropout(0.21280043312755825),\n",
    "  Dense(1, activation=\"sigmoid\")\n",
    "])\n",
    "\n",
    "# Compile the model\n",
    "final.compile(loss=\"binary_crossentropy\",\n",
    "              optimizer=tf.keras.optimizers.Adam(learning_rate=3e-4),\n",
    "              metrics=[\"accuracy\"])\n",
    "\n",
    "#Fit the model\n",
    "history =   final.fit(X_train, y_train, epochs=100,\n",
    "            validation_data=(X_valid, y_valid),\n",
    "            callbacks=[tf.keras.callbacks.EarlyStopping(patience=10)])"
   ]
  },
  {
   "cell_type": "code",
   "execution_count": 46,
   "metadata": {
    "colab": {
     "base_uri": "https://localhost:8080/"
    },
    "id": "UacOcDIVZhZa",
    "outputId": "f6bee71b-0144-4e3f-c305-37e7d1be86aa"
   },
   "outputs": [
    {
     "data": {
      "text/plain": [
       "array([0.0990999 , 0.08767685, 0.0990999 , ..., 0.09805545, 0.09900853,\n",
       "       0.09895027], dtype=float32)"
      ]
     },
     "execution_count": 46,
     "metadata": {},
     "output_type": "execute_result"
    }
   ],
   "source": [
    "predictions=final.predict(test).flatten()\n",
    "submissions = pd.DataFrame()\n",
    "predictions"
   ]
  },
  {
   "cell_type": "code",
   "execution_count": 47,
   "metadata": {
    "colab": {
     "base_uri": "https://localhost:8080/"
    },
    "id": "3C8ot92QhVh_",
    "outputId": "db2d58b1-f03f-4808-9538-6ecdd7e60ab8"
   },
   "outputs": [
    {
     "data": {
      "text/plain": [
       "0.3034117250054255"
      ]
     },
     "execution_count": 47,
     "metadata": {},
     "output_type": "execute_result"
    }
   ],
   "source": [
    "log_loss(y_valid, final.predict(X_valid))"
   ]
  },
  {
   "cell_type": "code",
   "execution_count": 48,
   "metadata": {
    "id": "ONbHJoJjcouC"
   },
   "outputs": [],
   "source": [
    "submissions[\"Loan Status\"] = predictions\n",
    "submissions.to_csv(\"predictions.csv\", index=False)"
   ]
  }
 ],
 "metadata": {
  "colab": {
   "collapsed_sections": [],
   "name": "loan_defaulter-hyperas-colab.ipynb",
   "provenance": []
  },
  "kernelspec": {
   "display_name": "Python 3",
   "name": "python3"
  },
  "language_info": {
   "name": "python"
  }
 },
 "nbformat": 4,
 "nbformat_minor": 0
}
