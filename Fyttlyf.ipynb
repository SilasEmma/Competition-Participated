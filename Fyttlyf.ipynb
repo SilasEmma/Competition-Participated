{
 "cells": [
  {
   "cell_type": "markdown",
   "id": "2f5aa9f9",
   "metadata": {},
   "source": [
    "**Fyttly Data Science Team Test**"
   ]
  },
  {
   "cell_type": "code",
   "execution_count": 1,
   "id": "a2a5d572",
   "metadata": {},
   "outputs": [],
   "source": [
    "import pandas as pd\n",
    "import numpy as np\n",
    "import warnings\n",
    "\n",
    "import seaborn as sns\n",
    "from matplotlib import pyplot as plt\n",
    "\n",
    "from sklearn.metrics import mean_absolute_percentage_error\n",
    "from sklearn.model_selection import train_test_split\n",
    "from sklearn.preprocessing import StandardScaler, OrdinalEncoder\n",
    "\n",
    "from sklearn.linear_model import LinearRegression"
   ]
  },
  {
   "cell_type": "code",
   "execution_count": 2,
   "id": "fdc98660",
   "metadata": {},
   "outputs": [],
   "source": [
    "warnings.filterwarnings('ignore')"
   ]
  },
  {
   "cell_type": "markdown",
   "id": "6415317b",
   "metadata": {},
   "source": [
    "**Part 0: Reading the data**"
   ]
  },
  {
   "cell_type": "code",
   "execution_count": 27,
   "id": "31414e37",
   "metadata": {},
   "outputs": [],
   "source": [
    "# loading the data\n",
    "data = pd.read_csv('Fytlyff_DS_Interview.csv', delimiter=',')"
   ]
  },
  {
   "cell_type": "code",
   "execution_count": 28,
   "id": "b4b9167d",
   "metadata": {
    "scrolled": true
   },
   "outputs": [
    {
     "data": {
      "text/html": [
       "<div>\n",
       "<style scoped>\n",
       "    .dataframe tbody tr th:only-of-type {\n",
       "        vertical-align: middle;\n",
       "    }\n",
       "\n",
       "    .dataframe tbody tr th {\n",
       "        vertical-align: top;\n",
       "    }\n",
       "\n",
       "    .dataframe thead th {\n",
       "        text-align: right;\n",
       "    }\n",
       "</style>\n",
       "<table border=\"1\" class=\"dataframe\">\n",
       "  <thead>\n",
       "    <tr style=\"text-align: right;\">\n",
       "      <th></th>\n",
       "      <th>Year</th>\n",
       "      <th>Month</th>\n",
       "      <th>MobileWeb_or_Web</th>\n",
       "      <th>Type_of_Customers?</th>\n",
       "      <th>Where_Are_They_comming_from?</th>\n",
       "      <th>Which_Place_in_India?</th>\n",
       "      <th>How_many_Landed_on_our_Page?</th>\n",
       "      <th>How_many_Landed_on_the_our_Page_and_clicked_on_a_button?</th>\n",
       "      <th>How_many_Landed_on_the_our_Page_and_clicked_on_a_button_and_started_filling_the_Form?</th>\n",
       "      <th>How_many_Landed_on_the_our_Page_and_clicked_on_a_button_and_started_filling_the_Form_and_Completed_and_submited_the_form?</th>\n",
       "    </tr>\n",
       "  </thead>\n",
       "  <tbody>\n",
       "    <tr>\n",
       "      <th>0</th>\n",
       "      <td>2019</td>\n",
       "      <td>Jan</td>\n",
       "      <td>Desktop_Website</td>\n",
       "      <td>Existing_Customer</td>\n",
       "      <td>Came_From_Google</td>\n",
       "      <td>Bangalore</td>\n",
       "      <td>NaN</td>\n",
       "      <td>NaN</td>\n",
       "      <td>56892</td>\n",
       "      <td>17178</td>\n",
       "    </tr>\n",
       "    <tr>\n",
       "      <th>1</th>\n",
       "      <td>2019</td>\n",
       "      <td>Jan</td>\n",
       "      <td>Desktop_Website</td>\n",
       "      <td>Existing_Customer</td>\n",
       "      <td>Came_From_Google</td>\n",
       "      <td>Chennai</td>\n",
       "      <td>NaN</td>\n",
       "      <td>NaN</td>\n",
       "      <td>41460</td>\n",
       "      <td>11916</td>\n",
       "    </tr>\n",
       "    <tr>\n",
       "      <th>2</th>\n",
       "      <td>2019</td>\n",
       "      <td>Jan</td>\n",
       "      <td>Desktop_Website</td>\n",
       "      <td>Existing_Customer</td>\n",
       "      <td>Came_From_Google</td>\n",
       "      <td>Dehradun</td>\n",
       "      <td>NaN</td>\n",
       "      <td>NaN</td>\n",
       "      <td>55561</td>\n",
       "      <td>19461</td>\n",
       "    </tr>\n",
       "    <tr>\n",
       "      <th>3</th>\n",
       "      <td>2019</td>\n",
       "      <td>Jan</td>\n",
       "      <td>Desktop_Website</td>\n",
       "      <td>Existing_Customer</td>\n",
       "      <td>Came_From_Google</td>\n",
       "      <td>Indore</td>\n",
       "      <td>NaN</td>\n",
       "      <td>NaN</td>\n",
       "      <td>320923</td>\n",
       "      <td>110667</td>\n",
       "    </tr>\n",
       "    <tr>\n",
       "      <th>4</th>\n",
       "      <td>2019</td>\n",
       "      <td>Jan</td>\n",
       "      <td>Desktop_Website</td>\n",
       "      <td>Existing_Customer</td>\n",
       "      <td>Came_From_Google</td>\n",
       "      <td>Pune</td>\n",
       "      <td>NaN</td>\n",
       "      <td>NaN</td>\n",
       "      <td>220937</td>\n",
       "      <td>46033</td>\n",
       "    </tr>\n",
       "  </tbody>\n",
       "</table>\n",
       "</div>"
      ],
      "text/plain": [
       "   Year Month MobileWeb_or_Web Type_of_Customers?  \\\n",
       "0  2019   Jan  Desktop_Website  Existing_Customer   \n",
       "1  2019   Jan  Desktop_Website  Existing_Customer   \n",
       "2  2019   Jan  Desktop_Website  Existing_Customer   \n",
       "3  2019   Jan  Desktop_Website  Existing_Customer   \n",
       "4  2019   Jan  Desktop_Website  Existing_Customer   \n",
       "\n",
       "  Where_Are_They_comming_from? Which_Place_in_India?  \\\n",
       "0             Came_From_Google             Bangalore   \n",
       "1             Came_From_Google               Chennai   \n",
       "2             Came_From_Google              Dehradun   \n",
       "3             Came_From_Google                Indore   \n",
       "4             Came_From_Google                  Pune   \n",
       "\n",
       "   How_many_Landed_on_our_Page?  \\\n",
       "0                           NaN   \n",
       "1                           NaN   \n",
       "2                           NaN   \n",
       "3                           NaN   \n",
       "4                           NaN   \n",
       "\n",
       "   How_many_Landed_on_the_our_Page_and_clicked_on_a_button?  \\\n",
       "0                                                NaN          \n",
       "1                                                NaN          \n",
       "2                                                NaN          \n",
       "3                                                NaN          \n",
       "4                                                NaN          \n",
       "\n",
       "   How_many_Landed_on_the_our_Page_and_clicked_on_a_button_and_started_filling_the_Form?  \\\n",
       "0                                              56892                                       \n",
       "1                                              41460                                       \n",
       "2                                              55561                                       \n",
       "3                                             320923                                       \n",
       "4                                             220937                                       \n",
       "\n",
       "   How_many_Landed_on_the_our_Page_and_clicked_on_a_button_and_started_filling_the_Form_and_Completed_and_submited_the_form?  \n",
       "0                                              17178                                                                          \n",
       "1                                              11916                                                                          \n",
       "2                                              19461                                                                          \n",
       "3                                             110667                                                                          \n",
       "4                                              46033                                                                          "
      ]
     },
     "execution_count": 28,
     "metadata": {},
     "output_type": "execute_result"
    }
   ],
   "source": [
    "# Return the first 5 rows.\n",
    "data.head()"
   ]
  },
  {
   "cell_type": "code",
   "execution_count": 29,
   "id": "78613621",
   "metadata": {},
   "outputs": [
    {
     "data": {
      "text/plain": [
       "Year                                                                                                                           int64\n",
       "Month                                                                                                                         object\n",
       "MobileWeb_or_Web                                                                                                              object\n",
       "Type_of_Customers?                                                                                                            object\n",
       "Where_Are_They_comming_from?                                                                                                  object\n",
       "Which_Place_in_India?                                                                                                         object\n",
       "How_many_Landed_on_our_Page?                                                                                                 float64\n",
       "How_many_Landed_on_the_our_Page_and_clicked_on_a_button?                                                                     float64\n",
       "How_many_Landed_on_the_our_Page_and_clicked_on_a_button_and_started_filling_the_Form?                                          int64\n",
       "How_many_Landed_on_the_our_Page_and_clicked_on_a_button_and_started_filling_the_Form_and_Completed_and_submited_the_form?      int64\n",
       "dtype: object"
      ]
     },
     "execution_count": 29,
     "metadata": {},
     "output_type": "execute_result"
    }
   ],
   "source": [
    "# Return the dtypes in the DataFrame.\n",
    "data.dtypes"
   ]
  },
  {
   "cell_type": "markdown",
   "id": "756d2f6e",
   "metadata": {},
   "source": [
    "**Part 1: Data cleaning**"
   ]
  },
  {
   "cell_type": "code",
   "execution_count": 30,
   "id": "e6175f4c",
   "metadata": {},
   "outputs": [],
   "source": [
    "def data_cleaning(df):\n",
    "    # replacing the NA values with 0s.\n",
    "    df = df.replace(np.nan, 0)\n",
    "    # replacing month from month_abr to number in col B\n",
    "    df['Month'] = pd.to_datetime(data['Month'], format='%b').dt.month\n",
    "    # replacing values in col E.\n",
    "    df['Where_Are_They_comming_from?'] = df['Where_Are_They_comming_from?'].replace({'Came_From_Google':'Google', \n",
    "                                                     'Landed_on_the_page_Directly':'Direct_traffic'})\n",
    "    return df"
   ]
  },
  {
   "cell_type": "code",
   "execution_count": 31,
   "id": "3f6d4f6c",
   "metadata": {
    "scrolled": true
   },
   "outputs": [],
   "source": [
    "data = data_cleaning(data)"
   ]
  },
  {
   "cell_type": "markdown",
   "id": "df038ead",
   "metadata": {},
   "source": [
    "**Part 2: Descriptive statistics**"
   ]
  },
  {
   "cell_type": "code",
   "execution_count": 32,
   "id": "9831f28e",
   "metadata": {},
   "outputs": [],
   "source": [
    "def descriptive_stats(df):\n",
    "    # generate statistical summary\n",
    "    df = df.describe()\n",
    "    return df"
   ]
  },
  {
   "cell_type": "code",
   "execution_count": 34,
   "id": "1195783a",
   "metadata": {},
   "outputs": [
    {
     "data": {
      "text/html": [
       "<div>\n",
       "<style scoped>\n",
       "    .dataframe tbody tr th:only-of-type {\n",
       "        vertical-align: middle;\n",
       "    }\n",
       "\n",
       "    .dataframe tbody tr th {\n",
       "        vertical-align: top;\n",
       "    }\n",
       "\n",
       "    .dataframe thead th {\n",
       "        text-align: right;\n",
       "    }\n",
       "</style>\n",
       "<table border=\"1\" class=\"dataframe\">\n",
       "  <thead>\n",
       "    <tr style=\"text-align: right;\">\n",
       "      <th></th>\n",
       "      <th>Year</th>\n",
       "      <th>Month</th>\n",
       "      <th>How_many_Landed_on_our_Page?</th>\n",
       "      <th>How_many_Landed_on_the_our_Page_and_clicked_on_a_button?</th>\n",
       "      <th>How_many_Landed_on_the_our_Page_and_clicked_on_a_button_and_started_filling_the_Form?</th>\n",
       "      <th>How_many_Landed_on_the_our_Page_and_clicked_on_a_button_and_started_filling_the_Form_and_Completed_and_submited_the_form?</th>\n",
       "    </tr>\n",
       "  </thead>\n",
       "  <tbody>\n",
       "    <tr>\n",
       "      <th>count</th>\n",
       "      <td>2160.000000</td>\n",
       "      <td>2160.000000</td>\n",
       "      <td>2.160000e+03</td>\n",
       "      <td>2.160000e+03</td>\n",
       "      <td>2.160000e+03</td>\n",
       "      <td>2.160000e+03</td>\n",
       "    </tr>\n",
       "    <tr>\n",
       "      <th>mean</th>\n",
       "      <td>2020.000000</td>\n",
       "      <td>6.500000</td>\n",
       "      <td>3.922474e+05</td>\n",
       "      <td>1.792281e+05</td>\n",
       "      <td>1.510725e+05</td>\n",
       "      <td>5.922129e+04</td>\n",
       "    </tr>\n",
       "    <tr>\n",
       "      <th>std</th>\n",
       "      <td>0.816686</td>\n",
       "      <td>3.452852</td>\n",
       "      <td>9.555773e+05</td>\n",
       "      <td>3.951562e+05</td>\n",
       "      <td>2.353538e+05</td>\n",
       "      <td>8.646564e+04</td>\n",
       "    </tr>\n",
       "    <tr>\n",
       "      <th>min</th>\n",
       "      <td>2019.000000</td>\n",
       "      <td>1.000000</td>\n",
       "      <td>0.000000e+00</td>\n",
       "      <td>0.000000e+00</td>\n",
       "      <td>3.761000e+03</td>\n",
       "      <td>7.660000e+02</td>\n",
       "    </tr>\n",
       "    <tr>\n",
       "      <th>25%</th>\n",
       "      <td>2019.000000</td>\n",
       "      <td>3.750000</td>\n",
       "      <td>0.000000e+00</td>\n",
       "      <td>0.000000e+00</td>\n",
       "      <td>3.360800e+04</td>\n",
       "      <td>1.157725e+04</td>\n",
       "    </tr>\n",
       "    <tr>\n",
       "      <th>50%</th>\n",
       "      <td>2020.000000</td>\n",
       "      <td>6.500000</td>\n",
       "      <td>1.228350e+04</td>\n",
       "      <td>4.212500e+03</td>\n",
       "      <td>7.064950e+04</td>\n",
       "      <td>2.700450e+04</td>\n",
       "    </tr>\n",
       "    <tr>\n",
       "      <th>75%</th>\n",
       "      <td>2021.000000</td>\n",
       "      <td>9.250000</td>\n",
       "      <td>3.816422e+05</td>\n",
       "      <td>1.730452e+05</td>\n",
       "      <td>1.659590e+05</td>\n",
       "      <td>7.185350e+04</td>\n",
       "    </tr>\n",
       "    <tr>\n",
       "      <th>max</th>\n",
       "      <td>2021.000000</td>\n",
       "      <td>12.000000</td>\n",
       "      <td>1.127413e+07</td>\n",
       "      <td>4.079301e+06</td>\n",
       "      <td>3.022858e+06</td>\n",
       "      <td>1.251258e+06</td>\n",
       "    </tr>\n",
       "  </tbody>\n",
       "</table>\n",
       "</div>"
      ],
      "text/plain": [
       "              Year        Month  How_many_Landed_on_our_Page?  \\\n",
       "count  2160.000000  2160.000000                  2.160000e+03   \n",
       "mean   2020.000000     6.500000                  3.922474e+05   \n",
       "std       0.816686     3.452852                  9.555773e+05   \n",
       "min    2019.000000     1.000000                  0.000000e+00   \n",
       "25%    2019.000000     3.750000                  0.000000e+00   \n",
       "50%    2020.000000     6.500000                  1.228350e+04   \n",
       "75%    2021.000000     9.250000                  3.816422e+05   \n",
       "max    2021.000000    12.000000                  1.127413e+07   \n",
       "\n",
       "       How_many_Landed_on_the_our_Page_and_clicked_on_a_button?  \\\n",
       "count                                       2.160000e+03          \n",
       "mean                                        1.792281e+05          \n",
       "std                                         3.951562e+05          \n",
       "min                                         0.000000e+00          \n",
       "25%                                         0.000000e+00          \n",
       "50%                                         4.212500e+03          \n",
       "75%                                         1.730452e+05          \n",
       "max                                         4.079301e+06          \n",
       "\n",
       "       How_many_Landed_on_the_our_Page_and_clicked_on_a_button_and_started_filling_the_Form?  \\\n",
       "count                                       2.160000e+03                                       \n",
       "mean                                        1.510725e+05                                       \n",
       "std                                         2.353538e+05                                       \n",
       "min                                         3.761000e+03                                       \n",
       "25%                                         3.360800e+04                                       \n",
       "50%                                         7.064950e+04                                       \n",
       "75%                                         1.659590e+05                                       \n",
       "max                                         3.022858e+06                                       \n",
       "\n",
       "       How_many_Landed_on_the_our_Page_and_clicked_on_a_button_and_started_filling_the_Form_and_Completed_and_submited_the_form?  \n",
       "count                                       2.160000e+03                                                                          \n",
       "mean                                        5.922129e+04                                                                          \n",
       "std                                         8.646564e+04                                                                          \n",
       "min                                         7.660000e+02                                                                          \n",
       "25%                                         1.157725e+04                                                                          \n",
       "50%                                         2.700450e+04                                                                          \n",
       "75%                                         7.185350e+04                                                                          \n",
       "max                                         1.251258e+06                                                                          "
      ]
     },
     "execution_count": 34,
     "metadata": {},
     "output_type": "execute_result"
    }
   ],
   "source": [
    "descriptive_stats(data)"
   ]
  },
  {
   "cell_type": "code",
   "execution_count": 35,
   "id": "60d3ed31",
   "metadata": {},
   "outputs": [
    {
     "data": {
      "text/plain": [
       "Year                                                                                                                            3\n",
       "Month                                                                                                                          12\n",
       "MobileWeb_or_Web                                                                                                                2\n",
       "Type_of_Customers?                                                                                                              2\n",
       "Where_Are_They_comming_from?                                                                                                    3\n",
       "Which_Place_in_India?                                                                                                           5\n",
       "How_many_Landed_on_our_Page?                                                                                                 1080\n",
       "How_many_Landed_on_the_our_Page_and_clicked_on_a_button?                                                                     1080\n",
       "How_many_Landed_on_the_our_Page_and_clicked_on_a_button_and_started_filling_the_Form?                                        2146\n",
       "How_many_Landed_on_the_our_Page_and_clicked_on_a_button_and_started_filling_the_Form_and_Completed_and_submited_the_form?    2128\n",
       "dtype: int64"
      ]
     },
     "execution_count": 35,
     "metadata": {},
     "output_type": "execute_result"
    }
   ],
   "source": [
    "# print list of unique values\n",
    "data.nunique()"
   ]
  },
  {
   "cell_type": "markdown",
   "id": "11973cc2",
   "metadata": {},
   "source": [
    "**Part 3: Perscriptive statistics**"
   ]
  },
  {
   "cell_type": "code",
   "execution_count": 10,
   "id": "669f704a",
   "metadata": {
    "code_folding": []
   },
   "outputs": [
    {
     "data": {
      "text/plain": [
       "Which_Place_in_India?\n",
       "Pune         11274131.0\n",
       "Indore        5706772.0\n",
       "Chennai       4605196.0\n",
       "Dehradun      2255791.0\n",
       "Bangalore     1645248.0\n",
       "Name: How_many_Landed_on_our_Page?, dtype: float64"
      ]
     },
     "execution_count": 10,
     "metadata": {},
     "output_type": "execute_result"
    }
   ],
   "source": [
    "# which place in India has highest landed page\n",
    "(data\n",
    " .groupby('Which_Place_in_India?')\n",
    " ['How_many_Landed_on_our_Page?']\n",
    " .agg('max')\n",
    " .sort_values(ascending=False)\n",
    ")"
   ]
  },
  {
   "cell_type": "code",
   "execution_count": 11,
   "id": "e8602975",
   "metadata": {},
   "outputs": [
    {
     "data": {
      "text/plain": [
       "Which_Place_in_India?\n",
       "Indore       1251258\n",
       "Pune          923720\n",
       "Dehradun      873534\n",
       "Bangalore     502226\n",
       "Chennai       430733\n",
       "Name: How_many_Landed_on_the_our_Page_and_clicked_on_a_button_and_started_filling_the_Form_and_Completed_and_submited_the_form?, dtype: int64"
      ]
     },
     "execution_count": 11,
     "metadata": {},
     "output_type": "execute_result"
    }
   ],
   "source": [
    "# which place in India has highest landed page clicked on button\n",
    "(data\n",
    " .groupby('Which_Place_in_India?')\n",
    " ['How_many_Landed_on_the_our_Page_and_clicked_on_a_button_and_started_filling_the_Form_and_Completed_and_submited_the_form?']\n",
    " .agg('max')\n",
    " .sort_values(ascending=False)\n",
    ")"
   ]
  },
  {
   "cell_type": "markdown",
   "id": "cc81c5b8",
   "metadata": {},
   "source": [
    "**Part 4: Simple Machine Learning**"
   ]
  },
  {
   "cell_type": "code",
   "execution_count": 12,
   "id": "a8705d3a",
   "metadata": {},
   "outputs": [],
   "source": [
    "# assign independent variable to X\n",
    "X = data.drop(['How_many_Landed_on_the_our_Page_and_clicked_on_a_button?'], axis=1)\n",
    "# assign dependent variable to y\n",
    "y = data['How_many_Landed_on_the_our_Page_and_clicked_on_a_button?']"
   ]
  },
  {
   "cell_type": "code",
   "execution_count": 13,
   "id": "8f32433b",
   "metadata": {},
   "outputs": [],
   "source": [
    "# Encode categorical features as an integer.\n",
    "X.iloc[:, 2:6] = OrdinalEncoder().fit_transform(X.iloc[:, 2:6])"
   ]
  },
  {
   "cell_type": "code",
   "execution_count": 14,
   "id": "8148fb92",
   "metadata": {},
   "outputs": [],
   "source": [
    "# Split arrays or matrices into random train and test subsets.\n",
    "x_train, x_test, y_train, y_test = train_test_split(X, y, test_size=0.20, random_state=0)"
   ]
  },
  {
   "cell_type": "code",
   "execution_count": 15,
   "id": "4652b529",
   "metadata": {},
   "outputs": [],
   "source": [
    "# Standardize features by removing the mean and scaling to unit variance.\n",
    "scale = StandardScaler()\n",
    "# Fit to data, then transform it.\n",
    "x_train = scale.fit_transform(x_train)\n",
    "# Perform standardization by centering and scaling.\n",
    "x_test = scale.transform(x_test)"
   ]
  },
  {
   "cell_type": "code",
   "execution_count": 16,
   "id": "beb3d49e",
   "metadata": {},
   "outputs": [
    {
     "data": {
      "text/html": [
       "<style>#sk-container-id-1 {color: black;background-color: white;}#sk-container-id-1 pre{padding: 0;}#sk-container-id-1 div.sk-toggleable {background-color: white;}#sk-container-id-1 label.sk-toggleable__label {cursor: pointer;display: block;width: 100%;margin-bottom: 0;padding: 0.3em;box-sizing: border-box;text-align: center;}#sk-container-id-1 label.sk-toggleable__label-arrow:before {content: \"▸\";float: left;margin-right: 0.25em;color: #696969;}#sk-container-id-1 label.sk-toggleable__label-arrow:hover:before {color: black;}#sk-container-id-1 div.sk-estimator:hover label.sk-toggleable__label-arrow:before {color: black;}#sk-container-id-1 div.sk-toggleable__content {max-height: 0;max-width: 0;overflow: hidden;text-align: left;background-color: #f0f8ff;}#sk-container-id-1 div.sk-toggleable__content pre {margin: 0.2em;color: black;border-radius: 0.25em;background-color: #f0f8ff;}#sk-container-id-1 input.sk-toggleable__control:checked~div.sk-toggleable__content {max-height: 200px;max-width: 100%;overflow: auto;}#sk-container-id-1 input.sk-toggleable__control:checked~label.sk-toggleable__label-arrow:before {content: \"▾\";}#sk-container-id-1 div.sk-estimator input.sk-toggleable__control:checked~label.sk-toggleable__label {background-color: #d4ebff;}#sk-container-id-1 div.sk-label input.sk-toggleable__control:checked~label.sk-toggleable__label {background-color: #d4ebff;}#sk-container-id-1 input.sk-hidden--visually {border: 0;clip: rect(1px 1px 1px 1px);clip: rect(1px, 1px, 1px, 1px);height: 1px;margin: -1px;overflow: hidden;padding: 0;position: absolute;width: 1px;}#sk-container-id-1 div.sk-estimator {font-family: monospace;background-color: #f0f8ff;border: 1px dotted black;border-radius: 0.25em;box-sizing: border-box;margin-bottom: 0.5em;}#sk-container-id-1 div.sk-estimator:hover {background-color: #d4ebff;}#sk-container-id-1 div.sk-parallel-item::after {content: \"\";width: 100%;border-bottom: 1px solid gray;flex-grow: 1;}#sk-container-id-1 div.sk-label:hover label.sk-toggleable__label {background-color: #d4ebff;}#sk-container-id-1 div.sk-serial::before {content: \"\";position: absolute;border-left: 1px solid gray;box-sizing: border-box;top: 0;bottom: 0;left: 50%;z-index: 0;}#sk-container-id-1 div.sk-serial {display: flex;flex-direction: column;align-items: center;background-color: white;padding-right: 0.2em;padding-left: 0.2em;position: relative;}#sk-container-id-1 div.sk-item {position: relative;z-index: 1;}#sk-container-id-1 div.sk-parallel {display: flex;align-items: stretch;justify-content: center;background-color: white;position: relative;}#sk-container-id-1 div.sk-item::before, #sk-container-id-1 div.sk-parallel-item::before {content: \"\";position: absolute;border-left: 1px solid gray;box-sizing: border-box;top: 0;bottom: 0;left: 50%;z-index: -1;}#sk-container-id-1 div.sk-parallel-item {display: flex;flex-direction: column;z-index: 1;position: relative;background-color: white;}#sk-container-id-1 div.sk-parallel-item:first-child::after {align-self: flex-end;width: 50%;}#sk-container-id-1 div.sk-parallel-item:last-child::after {align-self: flex-start;width: 50%;}#sk-container-id-1 div.sk-parallel-item:only-child::after {width: 0;}#sk-container-id-1 div.sk-dashed-wrapped {border: 1px dashed gray;margin: 0 0.4em 0.5em 0.4em;box-sizing: border-box;padding-bottom: 0.4em;background-color: white;}#sk-container-id-1 div.sk-label label {font-family: monospace;font-weight: bold;display: inline-block;line-height: 1.2em;}#sk-container-id-1 div.sk-label-container {text-align: center;}#sk-container-id-1 div.sk-container {/* jupyter's `normalize.less` sets `[hidden] { display: none; }` but bootstrap.min.css set `[hidden] { display: none !important; }` so we also need the `!important` here to be able to override the default hidden behavior on the sphinx rendered scikit-learn.org. See: https://github.com/scikit-learn/scikit-learn/issues/21755 */display: inline-block !important;position: relative;}#sk-container-id-1 div.sk-text-repr-fallback {display: none;}</style><div id=\"sk-container-id-1\" class=\"sk-top-container\"><div class=\"sk-text-repr-fallback\"><pre>LinearRegression()</pre><b>In a Jupyter environment, please rerun this cell to show the HTML representation or trust the notebook. <br />On GitHub, the HTML representation is unable to render, please try loading this page with nbviewer.org.</b></div><div class=\"sk-container\" hidden><div class=\"sk-item\"><div class=\"sk-estimator sk-toggleable\"><input class=\"sk-toggleable__control sk-hidden--visually\" id=\"sk-estimator-id-1\" type=\"checkbox\" checked><label for=\"sk-estimator-id-1\" class=\"sk-toggleable__label sk-toggleable__label-arrow\">LinearRegression</label><div class=\"sk-toggleable__content\"><pre>LinearRegression()</pre></div></div></div></div></div>"
      ],
      "text/plain": [
       "LinearRegression()"
      ]
     },
     "execution_count": 16,
     "metadata": {},
     "output_type": "execute_result"
    }
   ],
   "source": [
    "model = LinearRegression()\n",
    "model.fit(x_train, y_train)"
   ]
  },
  {
   "cell_type": "code",
   "execution_count": 17,
   "id": "07caf38e",
   "metadata": {},
   "outputs": [],
   "source": [
    "def pred_future(model, x_test, y_test):\n",
    "    # Predict using the linear model.\n",
    "    y_pred = model.predict(x_test)\n",
    "    # Mean absolute percentage error (MAPE) regression loss.\n",
    "    mape = mean_absolute_percentage_error(y_test, y_pred)\n",
    "    # print mape accuracy\n",
    "    print('Mean Absolute Percentage Error: {:.3}'.format(mape))"
   ]
  },
  {
   "cell_type": "code",
   "execution_count": 18,
   "id": "c4acd64c",
   "metadata": {},
   "outputs": [
    {
     "name": "stdout",
     "output_type": "stream",
     "text": [
      "Mean Absolute Percentage Error: 9.83e+19\n"
     ]
    }
   ],
   "source": [
    "pred_future(model, x_test, y_test)"
   ]
  },
  {
   "cell_type": "markdown",
   "id": "edb5ca0b",
   "metadata": {},
   "source": [
    "**Part 5: Visualization**"
   ]
  },
  {
   "cell_type": "code",
   "execution_count": 19,
   "id": "d8413adb",
   "metadata": {},
   "outputs": [
    {
     "data": {
      "image/png": "[encoded data removed]",
      "text/plain": [
       "<Figure size 1200x500 with 1 Axes>"
      ]
     },
     "metadata": {},
     "output_type": "display_data"
    }
   ],
   "source": [
    "# Landed on Page by Year.\n",
    "plt.figure(figsize=(12, 5))\n",
    "sns.lineplot(data=data, x='Year', y='How_many_Landed_on_the_our_Page_and_clicked_on_a_button?', hue='Which_Place_in_India?')\n",
    "plt.title('Landed on Page by Year.')\n",
    "plt.xlabel('Year')\n",
    "plt.ylabel('Landed on Page')\n",
    "plt.show()"
   ]
  },
  {
   "cell_type": "markdown",
   "id": "dacbf2d5",
   "metadata": {},
   "source": [
    "**Part 6: About the Previous Project**"
   ]
  },
  {
   "cell_type": "markdown",
   "id": "98ac7f9b",
   "metadata": {},
   "source": [
    "One of the most interesting project I have worked and still working on was a hybrid technique for credit card fraud detection in nigerai banking system. I found it interesting because of the of the import it will have on the nigeria banking system. I persornally have working on, which after developement it will be deployed.I actually found it interesting because of the challenges the financial institution are facing alot of fraudulent transaction are been almost daily and it ever difficult to detect such transaction as human. But with the help of these algorithm trained on past historic transaction, to will learn to distinguish between fraudulent and none fraudulent transaction when deployed on the banking system serve. Cutting edge technology library and package were used in building the machine learning model, I choose to use neural network in developing model and optimize it using genetic algorithm. Below is the link to the project github repo\n",
    "\n",
    "https://github.com/SilasEmma/FraudProject"
   ]
  },
  {
   "cell_type": "markdown",
   "id": "05bc4812",
   "metadata": {},
   "source": [
    "**Part 7: Time management**"
   ]
  },
  {
   "cell_type": "markdown",
   "id": "71c3eb9c",
   "metadata": {},
   "source": [
    "I highly passionate, motivated and result oriented persorn, willing to go an extra mile in order to archieve my aim or goal and learn along the way. As a machine learning with versed experience I have built several project which have been deployed on production. I am confident that if selected or if given the opportunity, i will thrive and deliver high quality of work within the stipulated time or deadline. I look forward to contributing my skills and experiences to your organiztion if given the opportunity."
   ]
  }
 ],
 "metadata": {
  "kernelspec": {
   "display_name": "Python 3 (ipykernel)",
   "language": "python",
   "name": "python3"
  },
  "language_info": {
   "codemirror_mode": {
    "name": "ipython",
    "version": 3
   },
   "file_extension": ".py",
   "mimetype": "text/x-python",
   "name": "python",
   "nbconvert_exporter": "python",
   "pygments_lexer": "ipython3",
   "version": "3.10.2"
  },
  "varInspector": {
   "cols": {
    "lenName": 16,
    "lenType": 16,
    "lenVar": 40
   },
   "kernels_config": {
    "python": {
     "delete_cmd_postfix": "",
     "delete_cmd_prefix": "del ",
     "library": "var_list.py",
     "varRefreshCmd": "print(var_dic_list())"
    },
    "r": {
     "delete_cmd_postfix": ") ",
     "delete_cmd_prefix": "rm(",
     "library": "var_list.r",
     "varRefreshCmd": "cat(var_dic_list()) "
    }
   },
   "types_to_exclude": [
    "module",
    "function",
    "builtin_function_or_method",
    "instance",
    "_Feature"
   ],
   "window_display": false
  }
 },
 "nbformat": 4,
 "nbformat_minor": 5
}
